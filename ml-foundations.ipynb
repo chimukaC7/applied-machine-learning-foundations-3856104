{
 "cells": [
  {
   "cell_type": "markdown",
   "metadata": {},
   "source": [
    "# EDA\n"
   ]
  },
  {
   "cell_type": "markdown",
   "metadata": {},
   "source": [
    "\n",
    "## Exploring the Data\n"
   ]
  },
  {
   "cell_type": "code",
   "execution_count": 36,
   "metadata": {},
   "outputs": [],
   "source": [
    "import polars as pl\n",
    "import polars.selectors as cs\n",
    "import sklearn \n",
    "import catboost\n",
    "\n",
    "import warnings\n",
    "warnings.filterwarnings('ignore')"
   ]
  },
  {
   "cell_type": "code",
   "execution_count": 37,
   "metadata": {},
   "outputs": [
    {
     "data": {
      "text/html": [
       "<div><style>\n",
       ".dataframe > thead > tr,\n",
       ".dataframe > tbody > tr {\n",
       "  text-align: right;\n",
       "  white-space: pre-wrap;\n",
       "}\n",
       "</style>\n",
       "<small>shape: (21_613, 23)</small><table border=\"1\" class=\"dataframe\"><thead><tr><th>id</th><th>price</th><th>bedrooms</th><th>bathrooms</th><th>sqft_living</th><th>sqft_lot</th><th>floors</th><th>waterfront</th><th>view</th><th>condition</th><th>grade</th><th>sqft_above</th><th>sqft_basement</th><th>yr_built</th><th>yr_renovated</th><th>zipcode</th><th>lat</th><th>long</th><th>sqft_living15</th><th>sqft_lot15</th><th>date_year</th><th>date_month</th><th>date_day</th></tr><tr><td>i64</td><td>f64</td><td>i64</td><td>f64</td><td>i64</td><td>i64</td><td>f64</td><td>i64</td><td>i64</td><td>i64</td><td>i64</td><td>i64</td><td>i64</td><td>i64</td><td>i64</td><td>i64</td><td>f64</td><td>f64</td><td>i64</td><td>i64</td><td>i64</td><td>i64</td><td>i64</td></tr></thead><tbody><tr><td>7129300520</td><td>221900.0</td><td>3</td><td>1.0</td><td>1180</td><td>5650</td><td>1.0</td><td>0</td><td>0</td><td>3</td><td>7</td><td>1180</td><td>0</td><td>1955</td><td>0</td><td>98178</td><td>47.5112</td><td>-122.257</td><td>1340</td><td>5650</td><td>2014</td><td>10</td><td>13</td></tr><tr><td>6414100192</td><td>538000.0</td><td>3</td><td>2.25</td><td>2570</td><td>7242</td><td>2.0</td><td>0</td><td>0</td><td>3</td><td>7</td><td>2170</td><td>400</td><td>1951</td><td>1991</td><td>98125</td><td>47.721</td><td>-122.319</td><td>1690</td><td>7639</td><td>2014</td><td>12</td><td>9</td></tr><tr><td>5631500400</td><td>180000.0</td><td>2</td><td>1.0</td><td>770</td><td>10000</td><td>1.0</td><td>0</td><td>0</td><td>3</td><td>6</td><td>770</td><td>0</td><td>1933</td><td>0</td><td>98028</td><td>47.7379</td><td>-122.233</td><td>2720</td><td>8062</td><td>2015</td><td>2</td><td>25</td></tr><tr><td>2487200875</td><td>604000.0</td><td>4</td><td>3.0</td><td>1960</td><td>5000</td><td>1.0</td><td>0</td><td>0</td><td>5</td><td>7</td><td>1050</td><td>910</td><td>1965</td><td>0</td><td>98136</td><td>47.5208</td><td>-122.393</td><td>1360</td><td>5000</td><td>2014</td><td>12</td><td>9</td></tr><tr><td>1954400510</td><td>510000.0</td><td>3</td><td>2.0</td><td>1680</td><td>8080</td><td>1.0</td><td>0</td><td>0</td><td>3</td><td>8</td><td>1680</td><td>0</td><td>1987</td><td>0</td><td>98074</td><td>47.6168</td><td>-122.045</td><td>1800</td><td>7503</td><td>2015</td><td>2</td><td>18</td></tr><tr><td>&hellip;</td><td>&hellip;</td><td>&hellip;</td><td>&hellip;</td><td>&hellip;</td><td>&hellip;</td><td>&hellip;</td><td>&hellip;</td><td>&hellip;</td><td>&hellip;</td><td>&hellip;</td><td>&hellip;</td><td>&hellip;</td><td>&hellip;</td><td>&hellip;</td><td>&hellip;</td><td>&hellip;</td><td>&hellip;</td><td>&hellip;</td><td>&hellip;</td><td>&hellip;</td><td>&hellip;</td><td>&hellip;</td></tr><tr><td>263000018</td><td>360000.0</td><td>3</td><td>2.5</td><td>1530</td><td>1131</td><td>3.0</td><td>0</td><td>0</td><td>3</td><td>8</td><td>1530</td><td>0</td><td>2009</td><td>0</td><td>98103</td><td>47.6993</td><td>-122.346</td><td>1530</td><td>1509</td><td>2014</td><td>5</td><td>21</td></tr><tr><td>6600060120</td><td>400000.0</td><td>4</td><td>2.5</td><td>2310</td><td>5813</td><td>2.0</td><td>0</td><td>0</td><td>3</td><td>8</td><td>2310</td><td>0</td><td>2014</td><td>0</td><td>98146</td><td>47.5107</td><td>-122.362</td><td>1830</td><td>7200</td><td>2015</td><td>2</td><td>23</td></tr><tr><td>1523300141</td><td>402101.0</td><td>2</td><td>0.75</td><td>1020</td><td>1350</td><td>2.0</td><td>0</td><td>0</td><td>3</td><td>7</td><td>1020</td><td>0</td><td>2009</td><td>0</td><td>98144</td><td>47.5944</td><td>-122.299</td><td>1020</td><td>2007</td><td>2014</td><td>6</td><td>23</td></tr><tr><td>291310100</td><td>400000.0</td><td>3</td><td>2.5</td><td>1600</td><td>2388</td><td>2.0</td><td>0</td><td>0</td><td>3</td><td>8</td><td>1600</td><td>0</td><td>2004</td><td>0</td><td>98027</td><td>47.5345</td><td>-122.069</td><td>1410</td><td>1287</td><td>2015</td><td>1</td><td>16</td></tr><tr><td>1523300157</td><td>325000.0</td><td>2</td><td>0.75</td><td>1020</td><td>1076</td><td>2.0</td><td>0</td><td>0</td><td>3</td><td>7</td><td>1020</td><td>0</td><td>2008</td><td>0</td><td>98144</td><td>47.5941</td><td>-122.299</td><td>1020</td><td>1357</td><td>2014</td><td>10</td><td>15</td></tr></tbody></table></div>"
      ],
      "text/plain": [
       "shape: (21_613, 23)\n",
       "┌────────────┬──────────┬──────────┬───────────┬───┬────────────┬───────────┬───────────┬──────────┐\n",
       "│ id         ┆ price    ┆ bedrooms ┆ bathrooms ┆ … ┆ sqft_lot15 ┆ date_year ┆ date_mont ┆ date_day │\n",
       "│ ---        ┆ ---      ┆ ---      ┆ ---       ┆   ┆ ---        ┆ ---       ┆ h         ┆ ---      │\n",
       "│ i64        ┆ f64      ┆ i64      ┆ f64       ┆   ┆ i64        ┆ i64       ┆ ---       ┆ i64      │\n",
       "│            ┆          ┆          ┆           ┆   ┆            ┆           ┆ i64       ┆          │\n",
       "╞════════════╪══════════╪══════════╪═══════════╪═══╪════════════╪═══════════╪═══════════╪══════════╡\n",
       "│ 7129300520 ┆ 221900.0 ┆ 3        ┆ 1.0       ┆ … ┆ 5650       ┆ 2014      ┆ 10        ┆ 13       │\n",
       "│ 6414100192 ┆ 538000.0 ┆ 3        ┆ 2.25      ┆ … ┆ 7639       ┆ 2014      ┆ 12        ┆ 9        │\n",
       "│ 5631500400 ┆ 180000.0 ┆ 2        ┆ 1.0       ┆ … ┆ 8062       ┆ 2015      ┆ 2         ┆ 25       │\n",
       "│ 2487200875 ┆ 604000.0 ┆ 4        ┆ 3.0       ┆ … ┆ 5000       ┆ 2014      ┆ 12        ┆ 9        │\n",
       "│ 1954400510 ┆ 510000.0 ┆ 3        ┆ 2.0       ┆ … ┆ 7503       ┆ 2015      ┆ 2         ┆ 18       │\n",
       "│ …          ┆ …        ┆ …        ┆ …         ┆ … ┆ …          ┆ …         ┆ …         ┆ …        │\n",
       "│ 263000018  ┆ 360000.0 ┆ 3        ┆ 2.5       ┆ … ┆ 1509       ┆ 2014      ┆ 5         ┆ 21       │\n",
       "│ 6600060120 ┆ 400000.0 ┆ 4        ┆ 2.5       ┆ … ┆ 7200       ┆ 2015      ┆ 2         ┆ 23       │\n",
       "│ 1523300141 ┆ 402101.0 ┆ 2        ┆ 0.75      ┆ … ┆ 2007       ┆ 2014      ┆ 6         ┆ 23       │\n",
       "│ 291310100  ┆ 400000.0 ┆ 3        ┆ 2.5       ┆ … ┆ 1287       ┆ 2015      ┆ 1         ┆ 16       │\n",
       "│ 1523300157 ┆ 325000.0 ┆ 2        ┆ 0.75      ┆ … ┆ 1357       ┆ 2014      ┆ 10        ┆ 15       │\n",
       "└────────────┴──────────┴──────────┴───────────┴───┴────────────┴───────────┴───────────┴──────────┘"
      ]
     },
     "execution_count": 37,
     "metadata": {},
     "output_type": "execute_result"
    }
   ],
   "source": [
    "# King County House Sales dataset from OpenML (includes Seattle)\n",
    "# this is an ARFF file, which is a text file with a specific format\n",
    "url = 'https://www.openml.org/data/download/22044765/dataset'\n",
    "cols = ['id', 'price', 'bedrooms', 'bathrooms', 'sqft_living', 'sqft_lot', 'floors', 'waterfront', 'view', \n",
    "        'condition', 'grade', 'sqft_above', 'sqft_basement', 'yr_built', 'yr_renovated',\n",
    "        'zipcode', 'lat', 'long', 'sqft_living15', 'sqft_lot15', 'date_year', 'date_month', 'date_day']\n",
    "\n",
    "raw = pl.read_csv(url, new_columns=cols, skip_rows=31, has_header=False)\n",
    "raw"
   ]
  },
  {
   "cell_type": "code",
   "execution_count": 38,
   "metadata": {},
   "outputs": [
    {
     "data": {
      "text/html": [
       "<div><style>\n",
       ".dataframe > thead > tr,\n",
       ".dataframe > tbody > tr {\n",
       "  text-align: right;\n",
       "  white-space: pre-wrap;\n",
       "}\n",
       "</style>\n",
       "<small>shape: (9, 24)</small><table border=\"1\" class=\"dataframe\"><thead><tr><th>statistic</th><th>id</th><th>price</th><th>bedrooms</th><th>bathrooms</th><th>sqft_living</th><th>sqft_lot</th><th>floors</th><th>waterfront</th><th>view</th><th>condition</th><th>grade</th><th>sqft_above</th><th>sqft_basement</th><th>yr_built</th><th>yr_renovated</th><th>zipcode</th><th>lat</th><th>long</th><th>sqft_living15</th><th>sqft_lot15</th><th>date_year</th><th>date_month</th><th>date_day</th></tr><tr><td>str</td><td>f64</td><td>f64</td><td>f64</td><td>f64</td><td>f64</td><td>f64</td><td>f64</td><td>f64</td><td>f64</td><td>f64</td><td>f64</td><td>f64</td><td>f64</td><td>f64</td><td>f64</td><td>f64</td><td>f64</td><td>f64</td><td>f64</td><td>f64</td><td>f64</td><td>f64</td><td>f64</td></tr></thead><tbody><tr><td>&quot;count&quot;</td><td>21613.0</td><td>21613.0</td><td>21613.0</td><td>21613.0</td><td>21613.0</td><td>21613.0</td><td>21613.0</td><td>21613.0</td><td>21613.0</td><td>21613.0</td><td>21613.0</td><td>21613.0</td><td>21613.0</td><td>21613.0</td><td>21613.0</td><td>21613.0</td><td>21613.0</td><td>21613.0</td><td>21613.0</td><td>21613.0</td><td>21613.0</td><td>21613.0</td><td>21613.0</td></tr><tr><td>&quot;null_count&quot;</td><td>0.0</td><td>0.0</td><td>0.0</td><td>0.0</td><td>0.0</td><td>0.0</td><td>0.0</td><td>0.0</td><td>0.0</td><td>0.0</td><td>0.0</td><td>0.0</td><td>0.0</td><td>0.0</td><td>0.0</td><td>0.0</td><td>0.0</td><td>0.0</td><td>0.0</td><td>0.0</td><td>0.0</td><td>0.0</td><td>0.0</td></tr><tr><td>&quot;mean&quot;</td><td>4.5803e9</td><td>540088.141767</td><td>3.370842</td><td>2.114757</td><td>2079.899736</td><td>15106.967566</td><td>1.494309</td><td>0.007542</td><td>0.234303</td><td>3.40943</td><td>7.656873</td><td>1788.390691</td><td>291.509045</td><td>1971.005136</td><td>84.402258</td><td>98077.939805</td><td>47.560053</td><td>-122.213896</td><td>1986.552492</td><td>12768.455652</td><td>2014.322954</td><td>6.574423</td><td>15.688197</td></tr><tr><td>&quot;std&quot;</td><td>2.8766e9</td><td>367127.196483</td><td>0.930062</td><td>0.770163</td><td>918.440897</td><td>41420.511515</td><td>0.539989</td><td>0.086517</td><td>0.766318</td><td>0.650743</td><td>1.175459</td><td>828.090978</td><td>442.575043</td><td>29.373411</td><td>401.67924</td><td>53.505026</td><td>0.138564</td><td>0.140828</td><td>685.391304</td><td>27304.179631</td><td>0.467616</td><td>3.115308</td><td>8.635063</td></tr><tr><td>&quot;min&quot;</td><td>1.000102e6</td><td>75000.0</td><td>0.0</td><td>0.0</td><td>290.0</td><td>520.0</td><td>1.0</td><td>0.0</td><td>0.0</td><td>1.0</td><td>1.0</td><td>290.0</td><td>0.0</td><td>1900.0</td><td>0.0</td><td>98001.0</td><td>47.1559</td><td>-122.519</td><td>399.0</td><td>651.0</td><td>2014.0</td><td>1.0</td><td>1.0</td></tr><tr><td>&quot;25%&quot;</td><td>2.1230e9</td><td>321950.0</td><td>3.0</td><td>1.75</td><td>1427.0</td><td>5040.0</td><td>1.0</td><td>0.0</td><td>0.0</td><td>3.0</td><td>7.0</td><td>1190.0</td><td>0.0</td><td>1951.0</td><td>0.0</td><td>98033.0</td><td>47.471</td><td>-122.328</td><td>1490.0</td><td>5100.0</td><td>2014.0</td><td>4.0</td><td>8.0</td></tr><tr><td>&quot;50%&quot;</td><td>3.9049e9</td><td>450000.0</td><td>3.0</td><td>2.25</td><td>1910.0</td><td>7618.0</td><td>1.5</td><td>0.0</td><td>0.0</td><td>3.0</td><td>7.0</td><td>1560.0</td><td>0.0</td><td>1975.0</td><td>0.0</td><td>98065.0</td><td>47.5718</td><td>-122.23</td><td>1840.0</td><td>7620.0</td><td>2014.0</td><td>6.0</td><td>16.0</td></tr><tr><td>&quot;75%&quot;</td><td>7.3089e9</td><td>645000.0</td><td>4.0</td><td>2.5</td><td>2550.0</td><td>10688.0</td><td>2.0</td><td>0.0</td><td>0.0</td><td>4.0</td><td>8.0</td><td>2210.0</td><td>560.0</td><td>1997.0</td><td>0.0</td><td>98118.0</td><td>47.678</td><td>-122.125</td><td>2360.0</td><td>10083.0</td><td>2015.0</td><td>9.0</td><td>23.0</td></tr><tr><td>&quot;max&quot;</td><td>9.9000e9</td><td>7.7e6</td><td>33.0</td><td>8.0</td><td>13540.0</td><td>1.651359e6</td><td>3.5</td><td>1.0</td><td>4.0</td><td>5.0</td><td>13.0</td><td>9410.0</td><td>4820.0</td><td>2015.0</td><td>2015.0</td><td>98199.0</td><td>47.7776</td><td>-121.315</td><td>6210.0</td><td>871200.0</td><td>2015.0</td><td>12.0</td><td>31.0</td></tr></tbody></table></div>"
      ],
      "text/plain": [
       "shape: (9, 24)\n",
       "┌───────────┬───────────┬───────────┬──────────┬───┬───────────┬───────────┬───────────┬───────────┐\n",
       "│ statistic ┆ id        ┆ price     ┆ bedrooms ┆ … ┆ sqft_lot1 ┆ date_year ┆ date_mont ┆ date_day  │\n",
       "│ ---       ┆ ---       ┆ ---       ┆ ---      ┆   ┆ 5         ┆ ---       ┆ h         ┆ ---       │\n",
       "│ str       ┆ f64       ┆ f64       ┆ f64      ┆   ┆ ---       ┆ f64       ┆ ---       ┆ f64       │\n",
       "│           ┆           ┆           ┆          ┆   ┆ f64       ┆           ┆ f64       ┆           │\n",
       "╞═══════════╪═══════════╪═══════════╪══════════╪═══╪═══════════╪═══════════╪═══════════╪═══════════╡\n",
       "│ count     ┆ 21613.0   ┆ 21613.0   ┆ 21613.0  ┆ … ┆ 21613.0   ┆ 21613.0   ┆ 21613.0   ┆ 21613.0   │\n",
       "│ null_coun ┆ 0.0       ┆ 0.0       ┆ 0.0      ┆ … ┆ 0.0       ┆ 0.0       ┆ 0.0       ┆ 0.0       │\n",
       "│ t         ┆           ┆           ┆          ┆   ┆           ┆           ┆           ┆           │\n",
       "│ mean      ┆ 4.5803e9  ┆ 540088.14 ┆ 3.370842 ┆ … ┆ 12768.455 ┆ 2014.3229 ┆ 6.574423  ┆ 15.688197 │\n",
       "│           ┆           ┆ 1767      ┆          ┆   ┆ 652       ┆ 54        ┆           ┆           │\n",
       "│ std       ┆ 2.8766e9  ┆ 367127.19 ┆ 0.930062 ┆ … ┆ 27304.179 ┆ 0.467616  ┆ 3.115308  ┆ 8.635063  │\n",
       "│           ┆           ┆ 6483      ┆          ┆   ┆ 631       ┆           ┆           ┆           │\n",
       "│ min       ┆ 1.000102e ┆ 75000.0   ┆ 0.0      ┆ … ┆ 651.0     ┆ 2014.0    ┆ 1.0       ┆ 1.0       │\n",
       "│           ┆ 6         ┆           ┆          ┆   ┆           ┆           ┆           ┆           │\n",
       "│ 25%       ┆ 2.1230e9  ┆ 321950.0  ┆ 3.0      ┆ … ┆ 5100.0    ┆ 2014.0    ┆ 4.0       ┆ 8.0       │\n",
       "│ 50%       ┆ 3.9049e9  ┆ 450000.0  ┆ 3.0      ┆ … ┆ 7620.0    ┆ 2014.0    ┆ 6.0       ┆ 16.0      │\n",
       "│ 75%       ┆ 7.3089e9  ┆ 645000.0  ┆ 4.0      ┆ … ┆ 10083.0   ┆ 2015.0    ┆ 9.0       ┆ 23.0      │\n",
       "│ max       ┆ 9.9000e9  ┆ 7.7e6     ┆ 33.0     ┆ … ┆ 871200.0  ┆ 2015.0    ┆ 12.0      ┆ 31.0      │\n",
       "└───────────┴───────────┴───────────┴──────────┴───┴───────────┴───────────┴───────────┴───────────┘"
      ]
     },
     "execution_count": 38,
     "metadata": {},
     "output_type": "execute_result"
    }
   ],
   "source": [
    "raw.describe()"
   ]
  },
  {
   "cell_type": "code",
   "execution_count": 39,
   "metadata": {},
   "outputs": [
    {
     "data": {
      "text/html": [
       "<div><style>\n",
       ".dataframe > thead > tr,\n",
       ".dataframe > tbody > tr {\n",
       "  text-align: right;\n",
       "  white-space: pre-wrap;\n",
       "}\n",
       "</style>\n",
       "<small>shape: (23, 23)</small><table border=\"1\" class=\"dataframe\"><thead><tr><th>id</th><th>price</th><th>bedrooms</th><th>bathrooms</th><th>sqft_living</th><th>sqft_lot</th><th>floors</th><th>waterfront</th><th>view</th><th>condition</th><th>grade</th><th>sqft_above</th><th>sqft_basement</th><th>yr_built</th><th>yr_renovated</th><th>zipcode</th><th>lat</th><th>long</th><th>sqft_living15</th><th>sqft_lot15</th><th>date_year</th><th>date_month</th><th>date_day</th></tr><tr><td>f64</td><td>f64</td><td>f64</td><td>f64</td><td>f64</td><td>f64</td><td>f64</td><td>f64</td><td>f64</td><td>f64</td><td>f64</td><td>f64</td><td>f64</td><td>f64</td><td>f64</td><td>f64</td><td>f64</td><td>f64</td><td>f64</td><td>f64</td><td>f64</td><td>f64</td><td>f64</td></tr></thead><tbody><tr><td>1.0</td><td>-0.016762</td><td>0.001286</td><td>0.00516</td><td>-0.012258</td><td>-0.132109</td><td>0.018525</td><td>-0.002721</td><td>0.011592</td><td>-0.023783</td><td>0.00813</td><td>-0.010842</td><td>-0.005151</td><td>0.02138</td><td>-0.016907</td><td>-0.008224</td><td>-0.001891</td><td>0.020799</td><td>-0.002901</td><td>-0.138798</td><td>0.010128</td><td>-0.011708</td><td>0.001939</td></tr><tr><td>-0.016762</td><td>1.0</td><td>0.30835</td><td>0.525138</td><td>0.702035</td><td>0.089661</td><td>0.256794</td><td>0.266369</td><td>0.397293</td><td>0.036362</td><td>0.667434</td><td>0.605567</td><td>0.323816</td><td>0.054012</td><td>0.126434</td><td>-0.053203</td><td>0.307003</td><td>0.021626</td><td>0.585379</td><td>0.082447</td><td>0.003576</td><td>-0.010081</td><td>-0.01467</td></tr><tr><td>0.001286</td><td>0.30835</td><td>1.0</td><td>0.515884</td><td>0.576671</td><td>0.031703</td><td>0.175429</td><td>-0.006582</td><td>0.079532</td><td>0.028472</td><td>0.356967</td><td>0.4776</td><td>0.303093</td><td>0.154178</td><td>0.018841</td><td>-0.152668</td><td>-0.008931</td><td>0.129473</td><td>0.391638</td><td>0.029244</td><td>-0.009838</td><td>-0.001533</td><td>-0.008031</td></tr><tr><td>0.00516</td><td>0.525138</td><td>0.515884</td><td>1.0</td><td>0.754665</td><td>0.08774</td><td>0.500653</td><td>0.063744</td><td>0.187737</td><td>-0.124982</td><td>0.664983</td><td>0.685342</td><td>0.28377</td><td>0.506019</td><td>0.050739</td><td>-0.203866</td><td>0.024573</td><td>0.223042</td><td>0.568634</td><td>0.087175</td><td>-0.026596</td><td>0.007392</td><td>-0.005304</td></tr><tr><td>-0.012258</td><td>0.702035</td><td>0.576671</td><td>0.754665</td><td>1.0</td><td>0.172826</td><td>0.353949</td><td>0.103818</td><td>0.284611</td><td>-0.058753</td><td>0.762704</td><td>0.876597</td><td>0.435043</td><td>0.318049</td><td>0.055363</td><td>-0.19943</td><td>0.052529</td><td>0.240223</td><td>0.75642</td><td>0.183286</td><td>-0.029038</td><td>0.01181</td><td>-0.007246</td></tr><tr><td>&hellip;</td><td>&hellip;</td><td>&hellip;</td><td>&hellip;</td><td>&hellip;</td><td>&hellip;</td><td>&hellip;</td><td>&hellip;</td><td>&hellip;</td><td>&hellip;</td><td>&hellip;</td><td>&hellip;</td><td>&hellip;</td><td>&hellip;</td><td>&hellip;</td><td>&hellip;</td><td>&hellip;</td><td>&hellip;</td><td>&hellip;</td><td>&hellip;</td><td>&hellip;</td><td>&hellip;</td><td>&hellip;</td></tr><tr><td>-0.002901</td><td>0.585379</td><td>0.391638</td><td>0.568634</td><td>0.75642</td><td>0.144608</td><td>0.279885</td><td>0.086463</td><td>0.280439</td><td>-0.092824</td><td>0.713202</td><td>0.73187</td><td>0.200355</td><td>0.326229</td><td>-0.002673</td><td>-0.279033</td><td>0.048858</td><td>0.334605</td><td>1.0</td><td>0.183192</td><td>-0.021734</td><td>0.002449</td><td>-0.008539</td></tr><tr><td>-0.138798</td><td>0.082447</td><td>0.029244</td><td>0.087175</td><td>0.183286</td><td>0.718557</td><td>-0.011269</td><td>0.030703</td><td>0.072575</td><td>-0.003406</td><td>0.119248</td><td>0.19405</td><td>0.017276</td><td>0.070958</td><td>0.007854</td><td>-0.147221</td><td>-0.086419</td><td>0.254451</td><td>0.183192</td><td>1.0</td><td>-0.000085</td><td>0.003546</td><td>-0.002871</td></tr><tr><td>0.010128</td><td>0.003576</td><td>-0.009838</td><td>-0.026596</td><td>-0.029038</td><td>0.005468</td><td>-0.022315</td><td>-0.004165</td><td>0.001364</td><td>-0.045589</td><td>-0.030387</td><td>-0.023823</td><td>-0.015687</td><td>0.003507</td><td>-0.023707</td><td>0.001189</td><td>-0.029212</td><td>0.00027</td><td>-0.021734</td><td>-0.000085</td><td>1.0</td><td>-0.782389</td><td>-0.006103</td></tr><tr><td>-0.011708</td><td>-0.010081</td><td>-0.001533</td><td>0.007392</td><td>0.01181</td><td>-0.002369</td><td>0.014005</td><td>0.008132</td><td>-0.005638</td><td>0.021978</td><td>0.008376</td><td>0.009872</td><td>0.006035</td><td>-0.006226</td><td>0.012827</td><td>-0.000171</td><td>0.014961</td><td>-0.008134</td><td>0.002449</td><td>0.003546</td><td>-0.782389</td><td>1.0</td><td>-0.060664</td></tr><tr><td>0.001939</td><td>-0.01467</td><td>-0.008031</td><td>-0.005304</td><td>-0.007246</td><td>0.000634</td><td>-0.006662</td><td>0.010518</td><td>0.011174</td><td>-0.004643</td><td>-0.012483</td><td>-0.002475</td><td>-0.010405</td><td>-0.005766</td><td>0.008127</td><td>-0.00327</td><td>-0.015655</td><td>-0.007331</td><td>-0.008539</td><td>-0.002871</td><td>-0.006103</td><td>-0.060664</td><td>1.0</td></tr></tbody></table></div>"
      ],
      "text/plain": [
       "shape: (23, 23)\n",
       "┌───────────┬───────────┬───────────┬───────────┬───┬───────────┬───────────┬───────────┬──────────┐\n",
       "│ id        ┆ price     ┆ bedrooms  ┆ bathrooms ┆ … ┆ sqft_lot1 ┆ date_year ┆ date_mont ┆ date_day │\n",
       "│ ---       ┆ ---       ┆ ---       ┆ ---       ┆   ┆ 5         ┆ ---       ┆ h         ┆ ---      │\n",
       "│ f64       ┆ f64       ┆ f64       ┆ f64       ┆   ┆ ---       ┆ f64       ┆ ---       ┆ f64      │\n",
       "│           ┆           ┆           ┆           ┆   ┆ f64       ┆           ┆ f64       ┆          │\n",
       "╞═══════════╪═══════════╪═══════════╪═══════════╪═══╪═══════════╪═══════════╪═══════════╪══════════╡\n",
       "│ 1.0       ┆ -0.016762 ┆ 0.001286  ┆ 0.00516   ┆ … ┆ -0.138798 ┆ 0.010128  ┆ -0.011708 ┆ 0.001939 │\n",
       "│ -0.016762 ┆ 1.0       ┆ 0.30835   ┆ 0.525138  ┆ … ┆ 0.082447  ┆ 0.003576  ┆ -0.010081 ┆ -0.01467 │\n",
       "│ 0.001286  ┆ 0.30835   ┆ 1.0       ┆ 0.515884  ┆ … ┆ 0.029244  ┆ -0.009838 ┆ -0.001533 ┆ -0.00803 │\n",
       "│           ┆           ┆           ┆           ┆   ┆           ┆           ┆           ┆ 1        │\n",
       "│ 0.00516   ┆ 0.525138  ┆ 0.515884  ┆ 1.0       ┆ … ┆ 0.087175  ┆ -0.026596 ┆ 0.007392  ┆ -0.00530 │\n",
       "│           ┆           ┆           ┆           ┆   ┆           ┆           ┆           ┆ 4        │\n",
       "│ -0.012258 ┆ 0.702035  ┆ 0.576671  ┆ 0.754665  ┆ … ┆ 0.183286  ┆ -0.029038 ┆ 0.01181   ┆ -0.00724 │\n",
       "│           ┆           ┆           ┆           ┆   ┆           ┆           ┆           ┆ 6        │\n",
       "│ …         ┆ …         ┆ …         ┆ …         ┆ … ┆ …         ┆ …         ┆ …         ┆ …        │\n",
       "│ -0.002901 ┆ 0.585379  ┆ 0.391638  ┆ 0.568634  ┆ … ┆ 0.183192  ┆ -0.021734 ┆ 0.002449  ┆ -0.00853 │\n",
       "│           ┆           ┆           ┆           ┆   ┆           ┆           ┆           ┆ 9        │\n",
       "│ -0.138798 ┆ 0.082447  ┆ 0.029244  ┆ 0.087175  ┆ … ┆ 1.0       ┆ -0.000085 ┆ 0.003546  ┆ -0.00287 │\n",
       "│           ┆           ┆           ┆           ┆   ┆           ┆           ┆           ┆ 1        │\n",
       "│ 0.010128  ┆ 0.003576  ┆ -0.009838 ┆ -0.026596 ┆ … ┆ -0.000085 ┆ 1.0       ┆ -0.782389 ┆ -0.00610 │\n",
       "│           ┆           ┆           ┆           ┆   ┆           ┆           ┆           ┆ 3        │\n",
       "│ -0.011708 ┆ -0.010081 ┆ -0.001533 ┆ 0.007392  ┆ … ┆ 0.003546  ┆ -0.782389 ┆ 1.0       ┆ -0.06066 │\n",
       "│           ┆           ┆           ┆           ┆   ┆           ┆           ┆           ┆ 4        │\n",
       "│ 0.001939  ┆ -0.01467  ┆ -0.008031 ┆ -0.005304 ┆ … ┆ -0.002871 ┆ -0.006103 ┆ -0.060664 ┆ 1.0      │\n",
       "└───────────┴───────────┴───────────┴───────────┴───┴───────────┴───────────┴───────────┴──────────┘"
      ]
     },
     "execution_count": 39,
     "metadata": {},
     "output_type": "execute_result"
    }
   ],
   "source": [
    "raw.corr()"
   ]
  },
  {
   "cell_type": "code",
   "execution_count": 41,
   "metadata": {},
   "outputs": [
    {
     "ename": "ModuleNotFoundError",
     "evalue": "pyarrow>=8.0.0 is required for `to_pandas(use_pyarrow_extension_array=True)`",
     "output_type": "error",
     "traceback": [
      "\u001b[1;31m---------------------------------------------------------------------------\u001b[0m",
      "\u001b[1;31mModuleNotFoundError\u001b[0m                       Traceback (most recent call last)",
      "Cell \u001b[1;32mIn[41], line 2\u001b[0m\n\u001b[0;32m      1\u001b[0m (\u001b[43mraw\u001b[49m\n\u001b[1;32m----> 2\u001b[0m \u001b[43m \u001b[49m\u001b[38;5;241;43m.\u001b[39;49m\u001b[43mto_pandas\u001b[49m\u001b[43m(\u001b[49m\u001b[43muse_pyarrow_extension_array\u001b[49m\u001b[38;5;241;43m=\u001b[39;49m\u001b[38;5;28;43;01mTrue\u001b[39;49;00m\u001b[43m)\u001b[49m\n\u001b[0;32m      3\u001b[0m  \u001b[38;5;241m.\u001b[39mcorr()\n\u001b[0;32m      4\u001b[0m  \u001b[38;5;241m.\u001b[39mstyle\u001b[38;5;241m.\u001b[39mbackground_gradient(cmap\u001b[38;5;241m=\u001b[39m\u001b[38;5;124m'\u001b[39m\u001b[38;5;124mRdBu\u001b[39m\u001b[38;5;124m'\u001b[39m, vmin\u001b[38;5;241m=\u001b[39m\u001b[38;5;241m-\u001b[39m\u001b[38;5;241m1\u001b[39m, vmax\u001b[38;5;241m=\u001b[39m\u001b[38;5;241m1\u001b[39m)\n\u001b[0;32m      5\u001b[0m )\n",
      "File \u001b[1;32mc:\\Python312\\Lib\\site-packages\\polars\\dataframe\\frame.py:2211\u001b[0m, in \u001b[0;36mDataFrame.to_pandas\u001b[1;34m(self, use_pyarrow_extension_array, **kwargs)\u001b[0m\n\u001b[0;32m   2209\u001b[0m             \u001b[38;5;28;01mraise\u001b[39;00m ModuleUpgradeRequiredError(msg)\n\u001b[0;32m   2210\u001b[0m         \u001b[38;5;28;01melse\u001b[39;00m:\n\u001b[1;32m-> 2211\u001b[0m             \u001b[38;5;28;01mraise\u001b[39;00m \u001b[38;5;167;01mModuleNotFoundError\u001b[39;00m(msg)\n\u001b[0;32m   2213\u001b[0m \u001b[38;5;66;03m# Object columns must be handled separately as Arrow does not convert them\u001b[39;00m\n\u001b[0;32m   2214\u001b[0m \u001b[38;5;66;03m# correctly\u001b[39;00m\n\u001b[0;32m   2215\u001b[0m \u001b[38;5;28;01mif\u001b[39;00m Object \u001b[38;5;129;01min\u001b[39;00m \u001b[38;5;28mself\u001b[39m\u001b[38;5;241m.\u001b[39mdtypes:\n",
      "\u001b[1;31mModuleNotFoundError\u001b[0m: pyarrow>=8.0.0 is required for `to_pandas(use_pyarrow_extension_array=True)`"
     ]
    }
   ],
   "source": [
    "(raw\n",
    " .to_pandas(use_pyarrow_extension_array=True)\n",
    " .corr()\n",
    " .style.background_gradient(cmap='RdBu', vmin=-1, vmax=1)\n",
    ")"
   ]
  },
  {
   "cell_type": "code",
   "execution_count": null,
   "metadata": {},
   "outputs": [
    {
     "ename": "ModuleUpgradeRequiredError",
     "evalue": "hvplot>=0.9.1 is required for `.plot`",
     "output_type": "error",
     "traceback": [
      "\u001b[1;31m---------------------------------------------------------------------------\u001b[0m",
      "\u001b[1;31mModuleUpgradeRequiredError\u001b[0m                Traceback (most recent call last)",
      "Cell \u001b[1;32mIn[18], line 2\u001b[0m\n\u001b[0;32m      1\u001b[0m (\u001b[43mraw\u001b[49m\n\u001b[1;32m----> 2\u001b[0m \u001b[43m \u001b[49m\u001b[38;5;241;43m.\u001b[39;49m\u001b[43mplot\u001b[49m\u001b[38;5;241m.\u001b[39mscatter(\u001b[38;5;124m'\u001b[39m\u001b[38;5;124msqft_living\u001b[39m\u001b[38;5;124m'\u001b[39m, \u001b[38;5;124m'\u001b[39m\u001b[38;5;124mprice\u001b[39m\u001b[38;5;124m'\u001b[39m, alpha\u001b[38;5;241m=\u001b[39m\u001b[38;5;241m0.1\u001b[39m)\n\u001b[0;32m      3\u001b[0m )\n",
      "File \u001b[1;32mc:\\Python312\\Lib\\site-packages\\polars\\_utils\\unstable.py:58\u001b[0m, in \u001b[0;36munstable.<locals>.decorate.<locals>.wrapper\u001b[1;34m(*args, **kwargs)\u001b[0m\n\u001b[0;32m     55\u001b[0m \u001b[38;5;129m@wraps\u001b[39m(function)\n\u001b[0;32m     56\u001b[0m \u001b[38;5;28;01mdef\u001b[39;00m \u001b[38;5;21mwrapper\u001b[39m(\u001b[38;5;241m*\u001b[39margs: P\u001b[38;5;241m.\u001b[39margs, \u001b[38;5;241m*\u001b[39m\u001b[38;5;241m*\u001b[39mkwargs: P\u001b[38;5;241m.\u001b[39mkwargs) \u001b[38;5;241m-\u001b[39m\u001b[38;5;241m>\u001b[39m T:\n\u001b[0;32m     57\u001b[0m     issue_unstable_warning(\u001b[38;5;124mf\u001b[39m\u001b[38;5;124m\"\u001b[39m\u001b[38;5;124m`\u001b[39m\u001b[38;5;132;01m{\u001b[39;00mfunction\u001b[38;5;241m.\u001b[39m\u001b[38;5;18m__name__\u001b[39m\u001b[38;5;132;01m}\u001b[39;00m\u001b[38;5;124m` is considered unstable.\u001b[39m\u001b[38;5;124m\"\u001b[39m)\n\u001b[1;32m---> 58\u001b[0m     \u001b[38;5;28;01mreturn\u001b[39;00m \u001b[43mfunction\u001b[49m\u001b[43m(\u001b[49m\u001b[38;5;241;43m*\u001b[39;49m\u001b[43margs\u001b[49m\u001b[43m,\u001b[49m\u001b[43m \u001b[49m\u001b[38;5;241;43m*\u001b[39;49m\u001b[38;5;241;43m*\u001b[39;49m\u001b[43mkwargs\u001b[49m\u001b[43m)\u001b[49m\n",
      "File \u001b[1;32mc:\\Python312\\Lib\\site-packages\\polars\\dataframe\\frame.py:637\u001b[0m, in \u001b[0;36mDataFrame.plot\u001b[1;34m(self)\u001b[0m\n\u001b[0;32m    633\u001b[0m \u001b[38;5;28;01mif\u001b[39;00m \u001b[38;5;129;01mnot\u001b[39;00m _HVPLOT_AVAILABLE \u001b[38;5;129;01mor\u001b[39;00m parse_version(hvplot\u001b[38;5;241m.\u001b[39m__version__) \u001b[38;5;241m<\u001b[39m parse_version(\n\u001b[0;32m    634\u001b[0m     \u001b[38;5;124m\"\u001b[39m\u001b[38;5;124m0.9.1\u001b[39m\u001b[38;5;124m\"\u001b[39m\n\u001b[0;32m    635\u001b[0m ):\n\u001b[0;32m    636\u001b[0m     msg \u001b[38;5;241m=\u001b[39m \u001b[38;5;124m\"\u001b[39m\u001b[38;5;124mhvplot>=0.9.1 is required for `.plot`\u001b[39m\u001b[38;5;124m\"\u001b[39m\n\u001b[1;32m--> 637\u001b[0m     \u001b[38;5;28;01mraise\u001b[39;00m ModuleUpgradeRequiredError(msg)\n\u001b[0;32m    638\u001b[0m hvplot\u001b[38;5;241m.\u001b[39mpost_patch()\n\u001b[0;32m    639\u001b[0m \u001b[38;5;28;01mreturn\u001b[39;00m hvplot\u001b[38;5;241m.\u001b[39mplotting\u001b[38;5;241m.\u001b[39mcore\u001b[38;5;241m.\u001b[39mhvPlotTabularPolars(\u001b[38;5;28mself\u001b[39m)\n",
      "\u001b[1;31mModuleUpgradeRequiredError\u001b[0m: hvplot>=0.9.1 is required for `.plot`"
     ]
    }
   ],
   "source": [
    "(raw\n",
    " .plot.scatter('sqft_living', 'price', alpha=0.1)\n",
    ")"
   ]
  },
  {
   "cell_type": "code",
   "execution_count": 42,
   "metadata": {},
   "outputs": [
    {
     "ename": "ModuleUpgradeRequiredError",
     "evalue": "hvplot>=0.9.1 is required for `.plot`",
     "output_type": "error",
     "traceback": [
      "\u001b[1;31m---------------------------------------------------------------------------\u001b[0m",
      "\u001b[1;31mModuleUpgradeRequiredError\u001b[0m                Traceback (most recent call last)",
      "Cell \u001b[1;32mIn[42], line 4\u001b[0m\n\u001b[0;32m      1\u001b[0m (\u001b[43mraw\u001b[49m\n\u001b[0;32m      2\u001b[0m \u001b[43m \u001b[49m\u001b[38;5;241;43m.\u001b[39;49m\u001b[43mgroup_by\u001b[49m\u001b[43m(\u001b[49m\u001b[38;5;124;43m'\u001b[39;49m\u001b[38;5;124;43mdate_month\u001b[39;49m\u001b[38;5;124;43m'\u001b[39;49m\u001b[43m,\u001b[49m\u001b[43m \u001b[49m\u001b[38;5;124;43m'\u001b[39;49m\u001b[38;5;124;43mzipcode\u001b[39;49m\u001b[38;5;124;43m'\u001b[39;49m\u001b[43m)\u001b[49m\n\u001b[0;32m      3\u001b[0m \u001b[43m \u001b[49m\u001b[38;5;241;43m.\u001b[39;49m\u001b[43magg\u001b[49m\u001b[43m(\u001b[49m\u001b[43mpl\u001b[49m\u001b[38;5;241;43m.\u001b[39;49m\u001b[43mcol\u001b[49m\u001b[43m(\u001b[49m\u001b[38;5;124;43m'\u001b[39;49m\u001b[38;5;124;43mprice\u001b[39;49m\u001b[38;5;124;43m'\u001b[39;49m\u001b[43m)\u001b[49m\u001b[38;5;241;43m.\u001b[39;49m\u001b[43mmean\u001b[49m\u001b[43m(\u001b[49m\u001b[43m)\u001b[49m\u001b[43m)\u001b[49m\n\u001b[1;32m----> 4\u001b[0m \u001b[43m \u001b[49m\u001b[38;5;241;43m.\u001b[39;49m\u001b[43mplot\u001b[49m\u001b[38;5;241m.\u001b[39mline(\u001b[38;5;124m'\u001b[39m\u001b[38;5;124mdate_month\u001b[39m\u001b[38;5;124m'\u001b[39m, \u001b[38;5;124m'\u001b[39m\u001b[38;5;124mprice\u001b[39m\u001b[38;5;124m'\u001b[39m, by\u001b[38;5;241m=\u001b[39m\u001b[38;5;124m'\u001b[39m\u001b[38;5;124mzipcode\u001b[39m\u001b[38;5;124m'\u001b[39m)\n\u001b[0;32m      5\u001b[0m  )\n",
      "File \u001b[1;32mc:\\Python312\\Lib\\site-packages\\polars\\_utils\\unstable.py:58\u001b[0m, in \u001b[0;36munstable.<locals>.decorate.<locals>.wrapper\u001b[1;34m(*args, **kwargs)\u001b[0m\n\u001b[0;32m     55\u001b[0m \u001b[38;5;129m@wraps\u001b[39m(function)\n\u001b[0;32m     56\u001b[0m \u001b[38;5;28;01mdef\u001b[39;00m \u001b[38;5;21mwrapper\u001b[39m(\u001b[38;5;241m*\u001b[39margs: P\u001b[38;5;241m.\u001b[39margs, \u001b[38;5;241m*\u001b[39m\u001b[38;5;241m*\u001b[39mkwargs: P\u001b[38;5;241m.\u001b[39mkwargs) \u001b[38;5;241m-\u001b[39m\u001b[38;5;241m>\u001b[39m T:\n\u001b[0;32m     57\u001b[0m     issue_unstable_warning(\u001b[38;5;124mf\u001b[39m\u001b[38;5;124m\"\u001b[39m\u001b[38;5;124m`\u001b[39m\u001b[38;5;132;01m{\u001b[39;00mfunction\u001b[38;5;241m.\u001b[39m\u001b[38;5;18m__name__\u001b[39m\u001b[38;5;132;01m}\u001b[39;00m\u001b[38;5;124m` is considered unstable.\u001b[39m\u001b[38;5;124m\"\u001b[39m)\n\u001b[1;32m---> 58\u001b[0m     \u001b[38;5;28;01mreturn\u001b[39;00m \u001b[43mfunction\u001b[49m\u001b[43m(\u001b[49m\u001b[38;5;241;43m*\u001b[39;49m\u001b[43margs\u001b[49m\u001b[43m,\u001b[49m\u001b[43m \u001b[49m\u001b[38;5;241;43m*\u001b[39;49m\u001b[38;5;241;43m*\u001b[39;49m\u001b[43mkwargs\u001b[49m\u001b[43m)\u001b[49m\n",
      "File \u001b[1;32mc:\\Python312\\Lib\\site-packages\\polars\\dataframe\\frame.py:637\u001b[0m, in \u001b[0;36mDataFrame.plot\u001b[1;34m(self)\u001b[0m\n\u001b[0;32m    633\u001b[0m \u001b[38;5;28;01mif\u001b[39;00m \u001b[38;5;129;01mnot\u001b[39;00m _HVPLOT_AVAILABLE \u001b[38;5;129;01mor\u001b[39;00m parse_version(hvplot\u001b[38;5;241m.\u001b[39m__version__) \u001b[38;5;241m<\u001b[39m parse_version(\n\u001b[0;32m    634\u001b[0m     \u001b[38;5;124m\"\u001b[39m\u001b[38;5;124m0.9.1\u001b[39m\u001b[38;5;124m\"\u001b[39m\n\u001b[0;32m    635\u001b[0m ):\n\u001b[0;32m    636\u001b[0m     msg \u001b[38;5;241m=\u001b[39m \u001b[38;5;124m\"\u001b[39m\u001b[38;5;124mhvplot>=0.9.1 is required for `.plot`\u001b[39m\u001b[38;5;124m\"\u001b[39m\n\u001b[1;32m--> 637\u001b[0m     \u001b[38;5;28;01mraise\u001b[39;00m ModuleUpgradeRequiredError(msg)\n\u001b[0;32m    638\u001b[0m hvplot\u001b[38;5;241m.\u001b[39mpost_patch()\n\u001b[0;32m    639\u001b[0m \u001b[38;5;28;01mreturn\u001b[39;00m hvplot\u001b[38;5;241m.\u001b[39mplotting\u001b[38;5;241m.\u001b[39mcore\u001b[38;5;241m.\u001b[39mhvPlotTabularPolars(\u001b[38;5;28mself\u001b[39m)\n",
      "\u001b[1;31mModuleUpgradeRequiredError\u001b[0m: hvplot>=0.9.1 is required for `.plot`"
     ]
    }
   ],
   "source": [
    "(raw\n",
    " .group_by('date_month', 'zipcode')\n",
    " .agg(pl.col('price').mean())\n",
    " .plot.line('date_month', 'price', by='zipcode')\n",
    " )"
   ]
  },
  {
   "cell_type": "code",
   "execution_count": 43,
   "metadata": {},
   "outputs": [
    {
     "ename": "ModuleUpgradeRequiredError",
     "evalue": "hvplot>=0.9.1 is required for `.plot`",
     "output_type": "error",
     "traceback": [
      "\u001b[1;31m---------------------------------------------------------------------------\u001b[0m",
      "\u001b[1;31mModuleUpgradeRequiredError\u001b[0m                Traceback (most recent call last)",
      "Cell \u001b[1;32mIn[43], line 5\u001b[0m\n\u001b[0;32m      1\u001b[0m (\u001b[43mraw\u001b[49m\n\u001b[0;32m      2\u001b[0m \u001b[43m \u001b[49m\u001b[38;5;241;43m.\u001b[39;49m\u001b[43mgroup_by\u001b[49m\u001b[43m(\u001b[49m\u001b[38;5;124;43m'\u001b[39;49m\u001b[38;5;124;43mdate_month\u001b[39;49m\u001b[38;5;124;43m'\u001b[39;49m\u001b[43m,\u001b[49m\u001b[43m \u001b[49m\u001b[38;5;124;43m'\u001b[39;49m\u001b[38;5;124;43mzipcode\u001b[39;49m\u001b[38;5;124;43m'\u001b[39;49m\u001b[43m)\u001b[49m\n\u001b[0;32m      3\u001b[0m \u001b[43m \u001b[49m\u001b[38;5;241;43m.\u001b[39;49m\u001b[43magg\u001b[49m\u001b[43m(\u001b[49m\u001b[43mpl\u001b[49m\u001b[38;5;241;43m.\u001b[39;49m\u001b[43mcol\u001b[49m\u001b[43m(\u001b[49m\u001b[38;5;124;43m'\u001b[39;49m\u001b[38;5;124;43mprice\u001b[39;49m\u001b[38;5;124;43m'\u001b[39;49m\u001b[43m)\u001b[49m\u001b[38;5;241;43m.\u001b[39;49m\u001b[43mmean\u001b[49m\u001b[43m(\u001b[49m\u001b[43m)\u001b[49m\u001b[43m)\u001b[49m\n\u001b[0;32m      4\u001b[0m \u001b[43m \u001b[49m\u001b[38;5;241;43m.\u001b[39;49m\u001b[43msort\u001b[49m\u001b[43m(\u001b[49m\u001b[38;5;124;43m'\u001b[39;49m\u001b[38;5;124;43mdate_month\u001b[39;49m\u001b[38;5;124;43m'\u001b[39;49m\u001b[43m)\u001b[49m\n\u001b[1;32m----> 5\u001b[0m \u001b[43m \u001b[49m\u001b[38;5;241;43m.\u001b[39;49m\u001b[43mplot\u001b[49m\u001b[38;5;241m.\u001b[39mline(\u001b[38;5;124m'\u001b[39m\u001b[38;5;124mdate_month\u001b[39m\u001b[38;5;124m'\u001b[39m, \u001b[38;5;124m'\u001b[39m\u001b[38;5;124mprice\u001b[39m\u001b[38;5;124m'\u001b[39m, by\u001b[38;5;241m=\u001b[39m\u001b[38;5;124m'\u001b[39m\u001b[38;5;124mzipcode\u001b[39m\u001b[38;5;124m'\u001b[39m, alpha\u001b[38;5;241m=\u001b[39m\u001b[38;5;241m0.5\u001b[39m)\n\u001b[0;32m      6\u001b[0m  )\n",
      "File \u001b[1;32mc:\\Python312\\Lib\\site-packages\\polars\\_utils\\unstable.py:58\u001b[0m, in \u001b[0;36munstable.<locals>.decorate.<locals>.wrapper\u001b[1;34m(*args, **kwargs)\u001b[0m\n\u001b[0;32m     55\u001b[0m \u001b[38;5;129m@wraps\u001b[39m(function)\n\u001b[0;32m     56\u001b[0m \u001b[38;5;28;01mdef\u001b[39;00m \u001b[38;5;21mwrapper\u001b[39m(\u001b[38;5;241m*\u001b[39margs: P\u001b[38;5;241m.\u001b[39margs, \u001b[38;5;241m*\u001b[39m\u001b[38;5;241m*\u001b[39mkwargs: P\u001b[38;5;241m.\u001b[39mkwargs) \u001b[38;5;241m-\u001b[39m\u001b[38;5;241m>\u001b[39m T:\n\u001b[0;32m     57\u001b[0m     issue_unstable_warning(\u001b[38;5;124mf\u001b[39m\u001b[38;5;124m\"\u001b[39m\u001b[38;5;124m`\u001b[39m\u001b[38;5;132;01m{\u001b[39;00mfunction\u001b[38;5;241m.\u001b[39m\u001b[38;5;18m__name__\u001b[39m\u001b[38;5;132;01m}\u001b[39;00m\u001b[38;5;124m` is considered unstable.\u001b[39m\u001b[38;5;124m\"\u001b[39m)\n\u001b[1;32m---> 58\u001b[0m     \u001b[38;5;28;01mreturn\u001b[39;00m \u001b[43mfunction\u001b[49m\u001b[43m(\u001b[49m\u001b[38;5;241;43m*\u001b[39;49m\u001b[43margs\u001b[49m\u001b[43m,\u001b[49m\u001b[43m \u001b[49m\u001b[38;5;241;43m*\u001b[39;49m\u001b[38;5;241;43m*\u001b[39;49m\u001b[43mkwargs\u001b[49m\u001b[43m)\u001b[49m\n",
      "File \u001b[1;32mc:\\Python312\\Lib\\site-packages\\polars\\dataframe\\frame.py:637\u001b[0m, in \u001b[0;36mDataFrame.plot\u001b[1;34m(self)\u001b[0m\n\u001b[0;32m    633\u001b[0m \u001b[38;5;28;01mif\u001b[39;00m \u001b[38;5;129;01mnot\u001b[39;00m _HVPLOT_AVAILABLE \u001b[38;5;129;01mor\u001b[39;00m parse_version(hvplot\u001b[38;5;241m.\u001b[39m__version__) \u001b[38;5;241m<\u001b[39m parse_version(\n\u001b[0;32m    634\u001b[0m     \u001b[38;5;124m\"\u001b[39m\u001b[38;5;124m0.9.1\u001b[39m\u001b[38;5;124m\"\u001b[39m\n\u001b[0;32m    635\u001b[0m ):\n\u001b[0;32m    636\u001b[0m     msg \u001b[38;5;241m=\u001b[39m \u001b[38;5;124m\"\u001b[39m\u001b[38;5;124mhvplot>=0.9.1 is required for `.plot`\u001b[39m\u001b[38;5;124m\"\u001b[39m\n\u001b[1;32m--> 637\u001b[0m     \u001b[38;5;28;01mraise\u001b[39;00m ModuleUpgradeRequiredError(msg)\n\u001b[0;32m    638\u001b[0m hvplot\u001b[38;5;241m.\u001b[39mpost_patch()\n\u001b[0;32m    639\u001b[0m \u001b[38;5;28;01mreturn\u001b[39;00m hvplot\u001b[38;5;241m.\u001b[39mplotting\u001b[38;5;241m.\u001b[39mcore\u001b[38;5;241m.\u001b[39mhvPlotTabularPolars(\u001b[38;5;28mself\u001b[39m)\n",
      "\u001b[1;31mModuleUpgradeRequiredError\u001b[0m: hvplot>=0.9.1 is required for `.plot`"
     ]
    }
   ],
   "source": [
    "(raw\n",
    " .group_by('date_month', 'zipcode')\n",
    " .agg(pl.col('price').mean())\n",
    " .sort('date_month')\n",
    " .plot.line('date_month', 'price', by='zipcode', alpha=0.5)\n",
    " )"
   ]
  },
  {
   "cell_type": "code",
   "execution_count": 44,
   "metadata": {},
   "outputs": [
    {
     "ename": "ModuleUpgradeRequiredError",
     "evalue": "hvplot>=0.9.1 is required for `.plot`",
     "output_type": "error",
     "traceback": [
      "\u001b[1;31m---------------------------------------------------------------------------\u001b[0m",
      "\u001b[1;31mModuleUpgradeRequiredError\u001b[0m                Traceback (most recent call last)",
      "Cell \u001b[1;32mIn[44], line 4\u001b[0m\n\u001b[0;32m      1\u001b[0m \u001b[38;5;66;03m# lat/long scatter plot\u001b[39;00m\n\u001b[0;32m      2\u001b[0m (\u001b[43mraw\u001b[49m\n\u001b[0;32m      3\u001b[0m \u001b[43m \u001b[49m\u001b[38;5;241;43m.\u001b[39;49m\u001b[43msort\u001b[49m\u001b[43m(\u001b[49m\u001b[38;5;124;43m'\u001b[39;49m\u001b[38;5;124;43mprice\u001b[39;49m\u001b[38;5;124;43m'\u001b[39;49m\u001b[43m)\u001b[49m\n\u001b[1;32m----> 4\u001b[0m \u001b[43m \u001b[49m\u001b[38;5;241;43m.\u001b[39;49m\u001b[43mplot\u001b[49m\u001b[38;5;241m.\u001b[39mscatter(x\u001b[38;5;241m=\u001b[39m\u001b[38;5;124m'\u001b[39m\u001b[38;5;124mlong\u001b[39m\u001b[38;5;124m'\u001b[39m, y\u001b[38;5;241m=\u001b[39m\u001b[38;5;124m'\u001b[39m\u001b[38;5;124mlat\u001b[39m\u001b[38;5;124m'\u001b[39m, alpha\u001b[38;5;241m=\u001b[39m\u001b[38;5;241m0.5\u001b[39m, c\u001b[38;5;241m=\u001b[39m\u001b[38;5;124m'\u001b[39m\u001b[38;5;124mprice\u001b[39m\u001b[38;5;124m'\u001b[39m, s\u001b[38;5;241m=\u001b[39m\u001b[38;5;241m1\u001b[39m)\n\u001b[0;32m      5\u001b[0m )\n",
      "File \u001b[1;32mc:\\Python312\\Lib\\site-packages\\polars\\_utils\\unstable.py:58\u001b[0m, in \u001b[0;36munstable.<locals>.decorate.<locals>.wrapper\u001b[1;34m(*args, **kwargs)\u001b[0m\n\u001b[0;32m     55\u001b[0m \u001b[38;5;129m@wraps\u001b[39m(function)\n\u001b[0;32m     56\u001b[0m \u001b[38;5;28;01mdef\u001b[39;00m \u001b[38;5;21mwrapper\u001b[39m(\u001b[38;5;241m*\u001b[39margs: P\u001b[38;5;241m.\u001b[39margs, \u001b[38;5;241m*\u001b[39m\u001b[38;5;241m*\u001b[39mkwargs: P\u001b[38;5;241m.\u001b[39mkwargs) \u001b[38;5;241m-\u001b[39m\u001b[38;5;241m>\u001b[39m T:\n\u001b[0;32m     57\u001b[0m     issue_unstable_warning(\u001b[38;5;124mf\u001b[39m\u001b[38;5;124m\"\u001b[39m\u001b[38;5;124m`\u001b[39m\u001b[38;5;132;01m{\u001b[39;00mfunction\u001b[38;5;241m.\u001b[39m\u001b[38;5;18m__name__\u001b[39m\u001b[38;5;132;01m}\u001b[39;00m\u001b[38;5;124m` is considered unstable.\u001b[39m\u001b[38;5;124m\"\u001b[39m)\n\u001b[1;32m---> 58\u001b[0m     \u001b[38;5;28;01mreturn\u001b[39;00m \u001b[43mfunction\u001b[49m\u001b[43m(\u001b[49m\u001b[38;5;241;43m*\u001b[39;49m\u001b[43margs\u001b[49m\u001b[43m,\u001b[49m\u001b[43m \u001b[49m\u001b[38;5;241;43m*\u001b[39;49m\u001b[38;5;241;43m*\u001b[39;49m\u001b[43mkwargs\u001b[49m\u001b[43m)\u001b[49m\n",
      "File \u001b[1;32mc:\\Python312\\Lib\\site-packages\\polars\\dataframe\\frame.py:637\u001b[0m, in \u001b[0;36mDataFrame.plot\u001b[1;34m(self)\u001b[0m\n\u001b[0;32m    633\u001b[0m \u001b[38;5;28;01mif\u001b[39;00m \u001b[38;5;129;01mnot\u001b[39;00m _HVPLOT_AVAILABLE \u001b[38;5;129;01mor\u001b[39;00m parse_version(hvplot\u001b[38;5;241m.\u001b[39m__version__) \u001b[38;5;241m<\u001b[39m parse_version(\n\u001b[0;32m    634\u001b[0m     \u001b[38;5;124m\"\u001b[39m\u001b[38;5;124m0.9.1\u001b[39m\u001b[38;5;124m\"\u001b[39m\n\u001b[0;32m    635\u001b[0m ):\n\u001b[0;32m    636\u001b[0m     msg \u001b[38;5;241m=\u001b[39m \u001b[38;5;124m\"\u001b[39m\u001b[38;5;124mhvplot>=0.9.1 is required for `.plot`\u001b[39m\u001b[38;5;124m\"\u001b[39m\n\u001b[1;32m--> 637\u001b[0m     \u001b[38;5;28;01mraise\u001b[39;00m ModuleUpgradeRequiredError(msg)\n\u001b[0;32m    638\u001b[0m hvplot\u001b[38;5;241m.\u001b[39mpost_patch()\n\u001b[0;32m    639\u001b[0m \u001b[38;5;28;01mreturn\u001b[39;00m hvplot\u001b[38;5;241m.\u001b[39mplotting\u001b[38;5;241m.\u001b[39mcore\u001b[38;5;241m.\u001b[39mhvPlotTabularPolars(\u001b[38;5;28mself\u001b[39m)\n",
      "\u001b[1;31mModuleUpgradeRequiredError\u001b[0m: hvplot>=0.9.1 is required for `.plot`"
     ]
    }
   ],
   "source": [
    "# lat/long scatter plot\n",
    "(raw\n",
    " .sort('price')\n",
    " .plot.scatter(x='long', y='lat', alpha=0.5, c='price', s=1)\n",
    ")"
   ]
  },
  {
   "cell_type": "code",
   "execution_count": 48,
   "metadata": {},
   "outputs": [
    {
     "ename": "ModuleUpgradeRequiredError",
     "evalue": "hvplot>=0.9.1 is required for `.plot`",
     "output_type": "error",
     "traceback": [
      "\u001b[1;31m---------------------------------------------------------------------------\u001b[0m",
      "\u001b[1;31mModuleUpgradeRequiredError\u001b[0m                Traceback (most recent call last)",
      "Cell \u001b[1;32mIn[48], line 5\u001b[0m\n\u001b[0;32m      1\u001b[0m \u001b[38;5;66;03m# lat/long scatter plot\u001b[39;00m\n\u001b[0;32m      2\u001b[0m (\u001b[43mraw\u001b[49m\n\u001b[0;32m      3\u001b[0m \u001b[43m \u001b[49m\u001b[38;5;241;43m.\u001b[39;49m\u001b[43mfilter\u001b[49m\u001b[43m(\u001b[49m\u001b[43mpl\u001b[49m\u001b[38;5;241;43m.\u001b[39;49m\u001b[43mcol\u001b[49m\u001b[43m(\u001b[49m\u001b[38;5;124;43m'\u001b[39;49m\u001b[38;5;124;43mprice\u001b[39;49m\u001b[38;5;124;43m'\u001b[39;49m\u001b[43m)\u001b[49m\u001b[43m \u001b[49m\u001b[38;5;241;43m>\u001b[39;49m\u001b[43m \u001b[49m\u001b[38;5;241;43m1_000_000\u001b[39;49m\u001b[43m)\u001b[49m\n\u001b[0;32m      4\u001b[0m \u001b[43m \u001b[49m\u001b[38;5;241;43m.\u001b[39;49m\u001b[43msort\u001b[49m\u001b[43m(\u001b[49m\u001b[38;5;124;43m'\u001b[39;49m\u001b[38;5;124;43mprice\u001b[39;49m\u001b[38;5;124;43m'\u001b[39;49m\u001b[43m)\u001b[49m\n\u001b[1;32m----> 5\u001b[0m \u001b[43m \u001b[49m\u001b[38;5;241;43m.\u001b[39;49m\u001b[43mplot\u001b[49m\u001b[38;5;241m.\u001b[39mscatter(x\u001b[38;5;241m=\u001b[39m\u001b[38;5;124m'\u001b[39m\u001b[38;5;124mlong\u001b[39m\u001b[38;5;124m'\u001b[39m, y\u001b[38;5;241m=\u001b[39m\u001b[38;5;124m'\u001b[39m\u001b[38;5;124mlat\u001b[39m\u001b[38;5;124m'\u001b[39m, alpha\u001b[38;5;241m=\u001b[39m\u001b[38;5;241m0.5\u001b[39m, c\u001b[38;5;241m=\u001b[39m\u001b[38;5;124m'\u001b[39m\u001b[38;5;124mprice\u001b[39m\u001b[38;5;124m'\u001b[39m, s\u001b[38;5;241m=\u001b[39m\u001b[38;5;241m1\u001b[39m)\n\u001b[0;32m      6\u001b[0m )\n",
      "File \u001b[1;32mc:\\Python312\\Lib\\site-packages\\polars\\_utils\\unstable.py:58\u001b[0m, in \u001b[0;36munstable.<locals>.decorate.<locals>.wrapper\u001b[1;34m(*args, **kwargs)\u001b[0m\n\u001b[0;32m     55\u001b[0m \u001b[38;5;129m@wraps\u001b[39m(function)\n\u001b[0;32m     56\u001b[0m \u001b[38;5;28;01mdef\u001b[39;00m \u001b[38;5;21mwrapper\u001b[39m(\u001b[38;5;241m*\u001b[39margs: P\u001b[38;5;241m.\u001b[39margs, \u001b[38;5;241m*\u001b[39m\u001b[38;5;241m*\u001b[39mkwargs: P\u001b[38;5;241m.\u001b[39mkwargs) \u001b[38;5;241m-\u001b[39m\u001b[38;5;241m>\u001b[39m T:\n\u001b[0;32m     57\u001b[0m     issue_unstable_warning(\u001b[38;5;124mf\u001b[39m\u001b[38;5;124m\"\u001b[39m\u001b[38;5;124m`\u001b[39m\u001b[38;5;132;01m{\u001b[39;00mfunction\u001b[38;5;241m.\u001b[39m\u001b[38;5;18m__name__\u001b[39m\u001b[38;5;132;01m}\u001b[39;00m\u001b[38;5;124m` is considered unstable.\u001b[39m\u001b[38;5;124m\"\u001b[39m)\n\u001b[1;32m---> 58\u001b[0m     \u001b[38;5;28;01mreturn\u001b[39;00m \u001b[43mfunction\u001b[49m\u001b[43m(\u001b[49m\u001b[38;5;241;43m*\u001b[39;49m\u001b[43margs\u001b[49m\u001b[43m,\u001b[49m\u001b[43m \u001b[49m\u001b[38;5;241;43m*\u001b[39;49m\u001b[38;5;241;43m*\u001b[39;49m\u001b[43mkwargs\u001b[49m\u001b[43m)\u001b[49m\n",
      "File \u001b[1;32mc:\\Python312\\Lib\\site-packages\\polars\\dataframe\\frame.py:637\u001b[0m, in \u001b[0;36mDataFrame.plot\u001b[1;34m(self)\u001b[0m\n\u001b[0;32m    633\u001b[0m \u001b[38;5;28;01mif\u001b[39;00m \u001b[38;5;129;01mnot\u001b[39;00m _HVPLOT_AVAILABLE \u001b[38;5;129;01mor\u001b[39;00m parse_version(hvplot\u001b[38;5;241m.\u001b[39m__version__) \u001b[38;5;241m<\u001b[39m parse_version(\n\u001b[0;32m    634\u001b[0m     \u001b[38;5;124m\"\u001b[39m\u001b[38;5;124m0.9.1\u001b[39m\u001b[38;5;124m\"\u001b[39m\n\u001b[0;32m    635\u001b[0m ):\n\u001b[0;32m    636\u001b[0m     msg \u001b[38;5;241m=\u001b[39m \u001b[38;5;124m\"\u001b[39m\u001b[38;5;124mhvplot>=0.9.1 is required for `.plot`\u001b[39m\u001b[38;5;124m\"\u001b[39m\n\u001b[1;32m--> 637\u001b[0m     \u001b[38;5;28;01mraise\u001b[39;00m ModuleUpgradeRequiredError(msg)\n\u001b[0;32m    638\u001b[0m hvplot\u001b[38;5;241m.\u001b[39mpost_patch()\n\u001b[0;32m    639\u001b[0m \u001b[38;5;28;01mreturn\u001b[39;00m hvplot\u001b[38;5;241m.\u001b[39mplotting\u001b[38;5;241m.\u001b[39mcore\u001b[38;5;241m.\u001b[39mhvPlotTabularPolars(\u001b[38;5;28mself\u001b[39m)\n",
      "\u001b[1;31mModuleUpgradeRequiredError\u001b[0m: hvplot>=0.9.1 is required for `.plot`"
     ]
    }
   ],
   "source": [
    "# lat/long scatter plot\n",
    "(raw\n",
    " .filter(pl.col('price') > 1_000_000)\n",
    " .sort('price')\n",
    " .plot.scatter(x='long', y='lat', alpha=0.5, c='price', s=1)\n",
    ")"
   ]
  },
  {
   "cell_type": "code",
   "execution_count": null,
   "metadata": {},
   "outputs": [],
   "source": []
  },
  {
   "cell_type": "code",
   "execution_count": null,
   "metadata": {},
   "outputs": [],
   "source": []
  },
  {
   "cell_type": "markdown",
   "metadata": {},
   "source": [
    "\n",
    "## Data Preprocessing\n"
   ]
  },
  {
   "cell_type": "code",
   "execution_count": 46,
   "metadata": {},
   "outputs": [
    {
     "data": {
      "text/html": [
       "<div><style>\n",
       ".dataframe > thead > tr,\n",
       ".dataframe > tbody > tr {\n",
       "  text-align: right;\n",
       "  white-space: pre-wrap;\n",
       "}\n",
       "</style>\n",
       "<small>shape: (21_613, 21)</small><table border=\"1\" class=\"dataframe\"><thead><tr><th>id</th><th>price</th><th>bedrooms</th><th>bathrooms</th><th>sqft_living</th><th>sqft_lot</th><th>floors</th><th>waterfront</th><th>view</th><th>condition</th><th>grade</th><th>sqft_above</th><th>sqft_basement</th><th>yr_built</th><th>yr_renovated</th><th>zipcode</th><th>lat</th><th>long</th><th>sqft_living15</th><th>sqft_lot15</th><th>date</th></tr><tr><td>i64</td><td>f64</td><td>i64</td><td>f64</td><td>i64</td><td>i64</td><td>f64</td><td>i64</td><td>i64</td><td>i64</td><td>i64</td><td>i64</td><td>i64</td><td>i64</td><td>i64</td><td>cat</td><td>f64</td><td>f64</td><td>i64</td><td>i64</td><td>date</td></tr></thead><tbody><tr><td>7129300520</td><td>221900.0</td><td>3</td><td>1.0</td><td>1180</td><td>5650</td><td>1.0</td><td>0</td><td>0</td><td>3</td><td>7</td><td>1180</td><td>0</td><td>1955</td><td>null</td><td>&quot;98178&quot;</td><td>47.5112</td><td>-122.257</td><td>1340</td><td>5650</td><td>2014-10-13</td></tr><tr><td>6414100192</td><td>538000.0</td><td>3</td><td>2.25</td><td>2570</td><td>7242</td><td>2.0</td><td>0</td><td>0</td><td>3</td><td>7</td><td>2170</td><td>400</td><td>1951</td><td>1991</td><td>&quot;98125&quot;</td><td>47.721</td><td>-122.319</td><td>1690</td><td>7639</td><td>2014-12-09</td></tr><tr><td>5631500400</td><td>180000.0</td><td>2</td><td>1.0</td><td>770</td><td>10000</td><td>1.0</td><td>0</td><td>0</td><td>3</td><td>6</td><td>770</td><td>0</td><td>1933</td><td>null</td><td>&quot;98028&quot;</td><td>47.7379</td><td>-122.233</td><td>2720</td><td>8062</td><td>2015-02-25</td></tr><tr><td>2487200875</td><td>604000.0</td><td>4</td><td>3.0</td><td>1960</td><td>5000</td><td>1.0</td><td>0</td><td>0</td><td>5</td><td>7</td><td>1050</td><td>910</td><td>1965</td><td>null</td><td>&quot;98136&quot;</td><td>47.5208</td><td>-122.393</td><td>1360</td><td>5000</td><td>2014-12-09</td></tr><tr><td>1954400510</td><td>510000.0</td><td>3</td><td>2.0</td><td>1680</td><td>8080</td><td>1.0</td><td>0</td><td>0</td><td>3</td><td>8</td><td>1680</td><td>0</td><td>1987</td><td>null</td><td>&quot;98074&quot;</td><td>47.6168</td><td>-122.045</td><td>1800</td><td>7503</td><td>2015-02-18</td></tr><tr><td>&hellip;</td><td>&hellip;</td><td>&hellip;</td><td>&hellip;</td><td>&hellip;</td><td>&hellip;</td><td>&hellip;</td><td>&hellip;</td><td>&hellip;</td><td>&hellip;</td><td>&hellip;</td><td>&hellip;</td><td>&hellip;</td><td>&hellip;</td><td>&hellip;</td><td>&hellip;</td><td>&hellip;</td><td>&hellip;</td><td>&hellip;</td><td>&hellip;</td><td>&hellip;</td></tr><tr><td>263000018</td><td>360000.0</td><td>3</td><td>2.5</td><td>1530</td><td>1131</td><td>3.0</td><td>0</td><td>0</td><td>3</td><td>8</td><td>1530</td><td>0</td><td>2009</td><td>null</td><td>&quot;98103&quot;</td><td>47.6993</td><td>-122.346</td><td>1530</td><td>1509</td><td>2014-05-21</td></tr><tr><td>6600060120</td><td>400000.0</td><td>4</td><td>2.5</td><td>2310</td><td>5813</td><td>2.0</td><td>0</td><td>0</td><td>3</td><td>8</td><td>2310</td><td>0</td><td>2014</td><td>null</td><td>&quot;98146&quot;</td><td>47.5107</td><td>-122.362</td><td>1830</td><td>7200</td><td>2015-02-23</td></tr><tr><td>1523300141</td><td>402101.0</td><td>2</td><td>0.75</td><td>1020</td><td>1350</td><td>2.0</td><td>0</td><td>0</td><td>3</td><td>7</td><td>1020</td><td>0</td><td>2009</td><td>null</td><td>&quot;98144&quot;</td><td>47.5944</td><td>-122.299</td><td>1020</td><td>2007</td><td>2014-06-23</td></tr><tr><td>291310100</td><td>400000.0</td><td>3</td><td>2.5</td><td>1600</td><td>2388</td><td>2.0</td><td>0</td><td>0</td><td>3</td><td>8</td><td>1600</td><td>0</td><td>2004</td><td>null</td><td>&quot;98027&quot;</td><td>47.5345</td><td>-122.069</td><td>1410</td><td>1287</td><td>2015-01-16</td></tr><tr><td>1523300157</td><td>325000.0</td><td>2</td><td>0.75</td><td>1020</td><td>1076</td><td>2.0</td><td>0</td><td>0</td><td>3</td><td>7</td><td>1020</td><td>0</td><td>2008</td><td>null</td><td>&quot;98144&quot;</td><td>47.5941</td><td>-122.299</td><td>1020</td><td>1357</td><td>2014-10-15</td></tr></tbody></table></div>"
      ],
      "text/plain": [
       "shape: (21_613, 21)\n",
       "┌────────────┬──────────┬──────────┬───────────┬───┬──────────┬────────────┬───────────┬───────────┐\n",
       "│ id         ┆ price    ┆ bedrooms ┆ bathrooms ┆ … ┆ long     ┆ sqft_livin ┆ sqft_lot1 ┆ date      │\n",
       "│ ---        ┆ ---      ┆ ---      ┆ ---       ┆   ┆ ---      ┆ g15        ┆ 5         ┆ ---       │\n",
       "│ i64        ┆ f64      ┆ i64      ┆ f64       ┆   ┆ f64      ┆ ---        ┆ ---       ┆ date      │\n",
       "│            ┆          ┆          ┆           ┆   ┆          ┆ i64        ┆ i64       ┆           │\n",
       "╞════════════╪══════════╪══════════╪═══════════╪═══╪══════════╪════════════╪═══════════╪═══════════╡\n",
       "│ 7129300520 ┆ 221900.0 ┆ 3        ┆ 1.0       ┆ … ┆ -122.257 ┆ 1340       ┆ 5650      ┆ 2014-10-1 │\n",
       "│            ┆          ┆          ┆           ┆   ┆          ┆            ┆           ┆ 3         │\n",
       "│ 6414100192 ┆ 538000.0 ┆ 3        ┆ 2.25      ┆ … ┆ -122.319 ┆ 1690       ┆ 7639      ┆ 2014-12-0 │\n",
       "│            ┆          ┆          ┆           ┆   ┆          ┆            ┆           ┆ 9         │\n",
       "│ 5631500400 ┆ 180000.0 ┆ 2        ┆ 1.0       ┆ … ┆ -122.233 ┆ 2720       ┆ 8062      ┆ 2015-02-2 │\n",
       "│            ┆          ┆          ┆           ┆   ┆          ┆            ┆           ┆ 5         │\n",
       "│ 2487200875 ┆ 604000.0 ┆ 4        ┆ 3.0       ┆ … ┆ -122.393 ┆ 1360       ┆ 5000      ┆ 2014-12-0 │\n",
       "│            ┆          ┆          ┆           ┆   ┆          ┆            ┆           ┆ 9         │\n",
       "│ 1954400510 ┆ 510000.0 ┆ 3        ┆ 2.0       ┆ … ┆ -122.045 ┆ 1800       ┆ 7503      ┆ 2015-02-1 │\n",
       "│            ┆          ┆          ┆           ┆   ┆          ┆            ┆           ┆ 8         │\n",
       "│ …          ┆ …        ┆ …        ┆ …         ┆ … ┆ …        ┆ …          ┆ …         ┆ …         │\n",
       "│ 263000018  ┆ 360000.0 ┆ 3        ┆ 2.5       ┆ … ┆ -122.346 ┆ 1530       ┆ 1509      ┆ 2014-05-2 │\n",
       "│            ┆          ┆          ┆           ┆   ┆          ┆            ┆           ┆ 1         │\n",
       "│ 6600060120 ┆ 400000.0 ┆ 4        ┆ 2.5       ┆ … ┆ -122.362 ┆ 1830       ┆ 7200      ┆ 2015-02-2 │\n",
       "│            ┆          ┆          ┆           ┆   ┆          ┆            ┆           ┆ 3         │\n",
       "│ 1523300141 ┆ 402101.0 ┆ 2        ┆ 0.75      ┆ … ┆ -122.299 ┆ 1020       ┆ 2007      ┆ 2014-06-2 │\n",
       "│            ┆          ┆          ┆           ┆   ┆          ┆            ┆           ┆ 3         │\n",
       "│ 291310100  ┆ 400000.0 ┆ 3        ┆ 2.5       ┆ … ┆ -122.069 ┆ 1410       ┆ 1287      ┆ 2015-01-1 │\n",
       "│            ┆          ┆          ┆           ┆   ┆          ┆            ┆           ┆ 6         │\n",
       "│ 1523300157 ┆ 325000.0 ┆ 2        ┆ 0.75      ┆ … ┆ -122.299 ┆ 1020       ┆ 1357      ┆ 2014-10-1 │\n",
       "│            ┆          ┆          ┆           ┆   ┆          ┆            ┆           ┆ 5         │\n",
       "└────────────┴──────────┴──────────┴───────────┴───┴──────────┴────────────┴───────────┴───────────┘"
      ]
     },
     "execution_count": 46,
     "metadata": {},
     "output_type": "execute_result"
    }
   ],
   "source": [
    "def tweak_housing(df):\n",
    "    return (df\n",
    "            .with_columns(zipcode=pl.col('zipcode').cast(pl.String).cast(pl.Categorical),\n",
    "                          date=pl.date(pl.col('date_year'), pl.col('date_month'), pl.col('date_day')),\n",
    "                          yr_renovated=pl.col('yr_renovated').replace(0, None),\n",
    "                          )\n",
    "            .select(['id', 'price', 'bedrooms', 'bathrooms', 'sqft_living', 'sqft_lot', 'floors', \n",
    "                     'waterfront', 'view', 'condition', 'grade', 'sqft_above', 'sqft_basement', \n",
    "                     'yr_built', 'yr_renovated', 'zipcode', 'lat', 'long', 'sqft_living15', \n",
    "                     'sqft_lot15', 'date',  #'date_year', 'date_month', 'date_day', \n",
    "                     ])\n",
    "    )\n",
    "\n",
    "tweak_housing(raw)\n",
    "    "
   ]
  },
  {
   "cell_type": "code",
   "execution_count": null,
   "metadata": {},
   "outputs": [],
   "source": []
  },
  {
   "cell_type": "code",
   "execution_count": null,
   "metadata": {},
   "outputs": [],
   "source": []
  },
  {
   "cell_type": "code",
   "execution_count": null,
   "metadata": {},
   "outputs": [],
   "source": []
  },
  {
   "cell_type": "markdown",
   "metadata": {},
   "source": [
    "\n",
    "## Sklearn Pipelines\n"
   ]
  },
  {
   "cell_type": "code",
   "execution_count": 49,
   "metadata": {
    "scrolled": true
   },
   "outputs": [],
   "source": [
    "# The difference between sklearn pipelines and transformers is \n",
    "# that a pipeline is a sequence of steps. A transformer transforms\n",
    "# the data, and a pipeline is a sequence of transformers.\n",
    "# A ColumnTransformer applies multiple transformers to different\n",
    "# columns of the input data.\n",
    "\n",
    "from sklearn.pipeline import Pipeline\n",
    "from sklearn.compose import ColumnTransformer\n",
    "from sklearn.preprocessing import StandardScaler, OneHotEncoder\n",
    "from sklearn.impute import SimpleImputer\n",
    "from sklearn.model_selection import train_test_split\n",
    "from sklearn.preprocessing import FunctionTransformer\n",
    "from sklearn.base import BaseEstimator, TransformerMixin\n",
    "from sklearn import set_config\n",
    "set_config(transform_output='polars')"
   ]
  },
  {
   "cell_type": "code",
   "execution_count": 50,
   "metadata": {},
   "outputs": [
    {
     "name": "stdout",
     "output_type": "stream",
     "text": [
      "['id', 'price', 'bedrooms', 'bathrooms', 'sqft_living', 'sqft_lot', 'floors', 'waterfront', 'view', 'condition', 'grade', 'sqft_above', 'sqft_basement', 'yr_built', 'yr_renovated', 'lat', 'long', 'sqft_living15', 'sqft_lot15']\n"
     ]
    }
   ],
   "source": [
    "print(tweak_housing(raw).select(cs.numeric()).columns)"
   ]
  },
  {
   "cell_type": "code",
   "execution_count": 51,
   "metadata": {
    "collapsed": true,
    "jupyter": {
     "outputs_hidden": true
    },
    "scrolled": true
   },
   "outputs": [
    {
     "data": {
      "text/html": [
       "<div><style>\n",
       ".dataframe > thead > tr,\n",
       ".dataframe > tbody > tr {\n",
       "  text-align: right;\n",
       "  white-space: pre-wrap;\n",
       "}\n",
       "</style>\n",
       "<small>shape: (21_613, 3)</small><table border=\"1\" class=\"dataframe\"><thead><tr><th>bedrooms</th><th>bathrooms</th><th>sqft_living</th></tr><tr><td>f64</td><td>f64</td><td>f64</td></tr></thead><tbody><tr><td>-0.398737</td><td>-1.447464</td><td>-0.979835</td></tr><tr><td>-0.398737</td><td>0.175607</td><td>0.533634</td></tr><tr><td>-1.473959</td><td>-1.447464</td><td>-1.426254</td></tr><tr><td>0.676485</td><td>1.149449</td><td>-0.13055</td></tr><tr><td>-0.398737</td><td>-0.149007</td><td>-0.435422</td></tr><tr><td>&hellip;</td><td>&hellip;</td><td>&hellip;</td></tr><tr><td>-0.398737</td><td>0.500221</td><td>-0.598746</td></tr><tr><td>0.676485</td><td>0.500221</td><td>0.250539</td></tr><tr><td>-1.473959</td><td>-1.772078</td><td>-1.154047</td></tr><tr><td>-0.398737</td><td>0.500221</td><td>-0.522528</td></tr><tr><td>-1.473959</td><td>-1.772078</td><td>-1.154047</td></tr></tbody></table></div>"
      ],
      "text/plain": [
       "shape: (21_613, 3)\n",
       "┌───────────┬───────────┬─────────────┐\n",
       "│ bedrooms  ┆ bathrooms ┆ sqft_living │\n",
       "│ ---       ┆ ---       ┆ ---         │\n",
       "│ f64       ┆ f64       ┆ f64         │\n",
       "╞═══════════╪═══════════╪═════════════╡\n",
       "│ -0.398737 ┆ -1.447464 ┆ -0.979835   │\n",
       "│ -0.398737 ┆ 0.175607  ┆ 0.533634    │\n",
       "│ -1.473959 ┆ -1.447464 ┆ -1.426254   │\n",
       "│ 0.676485  ┆ 1.149449  ┆ -0.13055    │\n",
       "│ -0.398737 ┆ -0.149007 ┆ -0.435422   │\n",
       "│ …         ┆ …         ┆ …           │\n",
       "│ -0.398737 ┆ 0.500221  ┆ -0.598746   │\n",
       "│ 0.676485  ┆ 0.500221  ┆ 0.250539    │\n",
       "│ -1.473959 ┆ -1.772078 ┆ -1.154047   │\n",
       "│ -0.398737 ┆ 0.500221  ┆ -0.522528   │\n",
       "│ -1.473959 ┆ -1.772078 ┆ -1.154047   │\n",
       "└───────────┴───────────┴─────────────┘"
      ]
     },
     "execution_count": 51,
     "metadata": {},
     "output_type": "execute_result"
    }
   ],
   "source": [
    "numeric_features = ['bedrooms', 'bathrooms', 'sqft_living']\n",
    "\n",
    "std = StandardScaler()\n",
    "std.fit_transform(tweak_housing(raw).select(numeric_features))"
   ]
  },
  {
   "cell_type": "code",
   "execution_count": 52,
   "metadata": {
    "collapsed": true,
    "jupyter": {
     "outputs_hidden": true
    }
   },
   "outputs": [
    {
     "data": {
      "text/html": [
       "<div><style>\n",
       ".dataframe > thead > tr,\n",
       ".dataframe > tbody > tr {\n",
       "  text-align: right;\n",
       "  white-space: pre-wrap;\n",
       "}\n",
       "</style>\n",
       "<small>shape: (21_613, 3)</small><table border=\"1\" class=\"dataframe\"><thead><tr><th>bedrooms</th><th>bathrooms</th><th>sqft_living</th></tr><tr><td>f64</td><td>f64</td><td>f64</td></tr></thead><tbody><tr><td>-0.398737</td><td>-1.447464</td><td>-0.979835</td></tr><tr><td>-0.398737</td><td>0.175607</td><td>0.533634</td></tr><tr><td>-1.473959</td><td>-1.447464</td><td>-1.426254</td></tr><tr><td>0.676485</td><td>1.149449</td><td>-0.13055</td></tr><tr><td>-0.398737</td><td>-0.149007</td><td>-0.435422</td></tr><tr><td>&hellip;</td><td>&hellip;</td><td>&hellip;</td></tr><tr><td>-0.398737</td><td>0.500221</td><td>-0.598746</td></tr><tr><td>0.676485</td><td>0.500221</td><td>0.250539</td></tr><tr><td>-1.473959</td><td>-1.772078</td><td>-1.154047</td></tr><tr><td>-0.398737</td><td>0.500221</td><td>-0.522528</td></tr><tr><td>-1.473959</td><td>-1.772078</td><td>-1.154047</td></tr></tbody></table></div>"
      ],
      "text/plain": [
       "shape: (21_613, 3)\n",
       "┌───────────┬───────────┬─────────────┐\n",
       "│ bedrooms  ┆ bathrooms ┆ sqft_living │\n",
       "│ ---       ┆ ---       ┆ ---         │\n",
       "│ f64       ┆ f64       ┆ f64         │\n",
       "╞═══════════╪═══════════╪═════════════╡\n",
       "│ -0.398737 ┆ -1.447464 ┆ -0.979835   │\n",
       "│ -0.398737 ┆ 0.175607  ┆ 0.533634    │\n",
       "│ -1.473959 ┆ -1.447464 ┆ -1.426254   │\n",
       "│ 0.676485  ┆ 1.149449  ┆ -0.13055    │\n",
       "│ -0.398737 ┆ -0.149007 ┆ -0.435422   │\n",
       "│ …         ┆ …         ┆ …           │\n",
       "│ -0.398737 ┆ 0.500221  ┆ -0.598746   │\n",
       "│ 0.676485  ┆ 0.500221  ┆ 0.250539    │\n",
       "│ -1.473959 ┆ -1.772078 ┆ -1.154047   │\n",
       "│ -0.398737 ┆ 0.500221  ┆ -0.522528   │\n",
       "│ -1.473959 ┆ -1.772078 ┆ -1.154047   │\n",
       "└───────────┴───────────┴─────────────┘"
      ]
     },
     "execution_count": 52,
     "metadata": {},
     "output_type": "execute_result"
    }
   ],
   "source": [
    "numeric_features = ['bedrooms', 'bathrooms', 'sqft_living']\n",
    "\n",
    "num_pipeline = Pipeline([\n",
    "     ('std', StandardScaler())])\n",
    "\n",
    "num_pipeline.fit_transform(\n",
    "    tweak_housing(raw)\n",
    "    .select(numeric_features)\n",
    ")"
   ]
  },
  {
   "cell_type": "code",
   "execution_count": 53,
   "metadata": {
    "collapsed": true,
    "jupyter": {
     "outputs_hidden": true
    },
    "scrolled": true
   },
   "outputs": [
    {
     "data": {
      "text/html": [
       "<div><style>\n",
       ".dataframe > thead > tr,\n",
       ".dataframe > tbody > tr {\n",
       "  text-align: right;\n",
       "  white-space: pre-wrap;\n",
       "}\n",
       "</style>\n",
       "<small>shape: (21_613, 3)</small><table border=\"1\" class=\"dataframe\"><thead><tr><th>bedrooms</th><th>bathrooms</th><th>sqft_living</th></tr><tr><td>f64</td><td>f64</td><td>f64</td></tr></thead><tbody><tr><td>-0.398737</td><td>-1.447464</td><td>-0.979835</td></tr><tr><td>-0.398737</td><td>0.175607</td><td>0.533634</td></tr><tr><td>-1.473959</td><td>-1.447464</td><td>-1.426254</td></tr><tr><td>0.676485</td><td>1.149449</td><td>-0.13055</td></tr><tr><td>-0.398737</td><td>-0.149007</td><td>-0.435422</td></tr><tr><td>&hellip;</td><td>&hellip;</td><td>&hellip;</td></tr><tr><td>-0.398737</td><td>0.500221</td><td>-0.598746</td></tr><tr><td>0.676485</td><td>0.500221</td><td>0.250539</td></tr><tr><td>-1.473959</td><td>-1.772078</td><td>-1.154047</td></tr><tr><td>-0.398737</td><td>0.500221</td><td>-0.522528</td></tr><tr><td>-1.473959</td><td>-1.772078</td><td>-1.154047</td></tr></tbody></table></div>"
      ],
      "text/plain": [
       "shape: (21_613, 3)\n",
       "┌───────────┬───────────┬─────────────┐\n",
       "│ bedrooms  ┆ bathrooms ┆ sqft_living │\n",
       "│ ---       ┆ ---       ┆ ---         │\n",
       "│ f64       ┆ f64       ┆ f64         │\n",
       "╞═══════════╪═══════════╪═════════════╡\n",
       "│ -0.398737 ┆ -1.447464 ┆ -0.979835   │\n",
       "│ -0.398737 ┆ 0.175607  ┆ 0.533634    │\n",
       "│ -1.473959 ┆ -1.447464 ┆ -1.426254   │\n",
       "│ 0.676485  ┆ 1.149449  ┆ -0.13055    │\n",
       "│ -0.398737 ┆ -0.149007 ┆ -0.435422   │\n",
       "│ …         ┆ …         ┆ …           │\n",
       "│ -0.398737 ┆ 0.500221  ┆ -0.598746   │\n",
       "│ 0.676485  ┆ 0.500221  ┆ 0.250539    │\n",
       "│ -1.473959 ┆ -1.772078 ┆ -1.154047   │\n",
       "│ -0.398737 ┆ 0.500221  ┆ -0.522528   │\n",
       "│ -1.473959 ┆ -1.772078 ┆ -1.154047   │\n",
       "└───────────┴───────────┴─────────────┘"
      ]
     },
     "execution_count": 53,
     "metadata": {},
     "output_type": "execute_result"
    }
   ],
   "source": [
    "# add another step\n",
    "numeric_features = ['bedrooms', 'bathrooms', 'sqft_living']\n",
    "\n",
    "num_pipeline = Pipeline([\n",
    "    ('imputer', SimpleImputer(strategy='median')),\n",
    "    ('std', StandardScaler())])\n",
    "\n",
    "num_pipeline.fit_transform(\n",
    "    tweak_housing(raw)\n",
    "    .select(numeric_features)\n",
    ")"
   ]
  },
  {
   "cell_type": "code",
   "execution_count": 55,
   "metadata": {
    "scrolled": true
   },
   "outputs": [
    {
     "data": {
      "text/html": [
       "<div><style>\n",
       ".dataframe > thead > tr,\n",
       ".dataframe > tbody > tr {\n",
       "  text-align: right;\n",
       "  white-space: pre-wrap;\n",
       "}\n",
       "</style>\n",
       "<small>shape: (21_613, 70)</small><table border=\"1\" class=\"dataframe\"><thead><tr><th>zipcode_98001</th><th>zipcode_98002</th><th>zipcode_98003</th><th>zipcode_98004</th><th>zipcode_98005</th><th>zipcode_98006</th><th>zipcode_98007</th><th>zipcode_98008</th><th>zipcode_98010</th><th>zipcode_98011</th><th>zipcode_98014</th><th>zipcode_98019</th><th>zipcode_98022</th><th>zipcode_98023</th><th>zipcode_98024</th><th>zipcode_98027</th><th>zipcode_98028</th><th>zipcode_98029</th><th>zipcode_98030</th><th>zipcode_98031</th><th>zipcode_98032</th><th>zipcode_98033</th><th>zipcode_98034</th><th>zipcode_98038</th><th>zipcode_98039</th><th>zipcode_98040</th><th>zipcode_98042</th><th>zipcode_98045</th><th>zipcode_98052</th><th>zipcode_98053</th><th>zipcode_98055</th><th>zipcode_98056</th><th>zipcode_98058</th><th>zipcode_98059</th><th>zipcode_98065</th><th>zipcode_98070</th><th>zipcode_98072</th><th>zipcode_98074</th><th>zipcode_98075</th><th>zipcode_98077</th><th>zipcode_98092</th><th>zipcode_98102</th><th>zipcode_98103</th><th>zipcode_98105</th><th>zipcode_98106</th><th>zipcode_98107</th><th>zipcode_98108</th><th>zipcode_98109</th><th>zipcode_98112</th><th>zipcode_98115</th><th>zipcode_98116</th><th>zipcode_98117</th><th>zipcode_98118</th><th>zipcode_98119</th><th>zipcode_98122</th><th>zipcode_98125</th><th>zipcode_98126</th><th>zipcode_98133</th><th>zipcode_98136</th><th>zipcode_98144</th><th>zipcode_98146</th><th>zipcode_98148</th><th>zipcode_98155</th><th>zipcode_98166</th><th>zipcode_98168</th><th>zipcode_98177</th><th>zipcode_98178</th><th>zipcode_98188</th><th>zipcode_98198</th><th>zipcode_98199</th></tr><tr><td>f64</td><td>f64</td><td>f64</td><td>f64</td><td>f64</td><td>f64</td><td>f64</td><td>f64</td><td>f64</td><td>f64</td><td>f64</td><td>f64</td><td>f64</td><td>f64</td><td>f64</td><td>f64</td><td>f64</td><td>f64</td><td>f64</td><td>f64</td><td>f64</td><td>f64</td><td>f64</td><td>f64</td><td>f64</td><td>f64</td><td>f64</td><td>f64</td><td>f64</td><td>f64</td><td>f64</td><td>f64</td><td>f64</td><td>f64</td><td>f64</td><td>f64</td><td>f64</td><td>f64</td><td>f64</td><td>f64</td><td>f64</td><td>f64</td><td>f64</td><td>f64</td><td>f64</td><td>f64</td><td>f64</td><td>f64</td><td>f64</td><td>f64</td><td>f64</td><td>f64</td><td>f64</td><td>f64</td><td>f64</td><td>f64</td><td>f64</td><td>f64</td><td>f64</td><td>f64</td><td>f64</td><td>f64</td><td>f64</td><td>f64</td><td>f64</td><td>f64</td><td>f64</td><td>f64</td><td>f64</td><td>f64</td></tr></thead><tbody><tr><td>0.0</td><td>0.0</td><td>0.0</td><td>0.0</td><td>0.0</td><td>0.0</td><td>0.0</td><td>0.0</td><td>0.0</td><td>0.0</td><td>0.0</td><td>0.0</td><td>0.0</td><td>0.0</td><td>0.0</td><td>0.0</td><td>0.0</td><td>0.0</td><td>0.0</td><td>0.0</td><td>0.0</td><td>0.0</td><td>0.0</td><td>0.0</td><td>0.0</td><td>0.0</td><td>0.0</td><td>0.0</td><td>0.0</td><td>0.0</td><td>0.0</td><td>0.0</td><td>0.0</td><td>0.0</td><td>0.0</td><td>0.0</td><td>0.0</td><td>0.0</td><td>0.0</td><td>0.0</td><td>0.0</td><td>0.0</td><td>0.0</td><td>0.0</td><td>0.0</td><td>0.0</td><td>0.0</td><td>0.0</td><td>0.0</td><td>0.0</td><td>0.0</td><td>0.0</td><td>0.0</td><td>0.0</td><td>0.0</td><td>0.0</td><td>0.0</td><td>0.0</td><td>0.0</td><td>0.0</td><td>0.0</td><td>0.0</td><td>0.0</td><td>0.0</td><td>0.0</td><td>0.0</td><td>1.0</td><td>0.0</td><td>0.0</td><td>0.0</td></tr><tr><td>0.0</td><td>0.0</td><td>0.0</td><td>0.0</td><td>0.0</td><td>0.0</td><td>0.0</td><td>0.0</td><td>0.0</td><td>0.0</td><td>0.0</td><td>0.0</td><td>0.0</td><td>0.0</td><td>0.0</td><td>0.0</td><td>0.0</td><td>0.0</td><td>0.0</td><td>0.0</td><td>0.0</td><td>0.0</td><td>0.0</td><td>0.0</td><td>0.0</td><td>0.0</td><td>0.0</td><td>0.0</td><td>0.0</td><td>0.0</td><td>0.0</td><td>0.0</td><td>0.0</td><td>0.0</td><td>0.0</td><td>0.0</td><td>0.0</td><td>0.0</td><td>0.0</td><td>0.0</td><td>0.0</td><td>0.0</td><td>0.0</td><td>0.0</td><td>0.0</td><td>0.0</td><td>0.0</td><td>0.0</td><td>0.0</td><td>0.0</td><td>0.0</td><td>0.0</td><td>0.0</td><td>0.0</td><td>0.0</td><td>1.0</td><td>0.0</td><td>0.0</td><td>0.0</td><td>0.0</td><td>0.0</td><td>0.0</td><td>0.0</td><td>0.0</td><td>0.0</td><td>0.0</td><td>0.0</td><td>0.0</td><td>0.0</td><td>0.0</td></tr><tr><td>0.0</td><td>0.0</td><td>0.0</td><td>0.0</td><td>0.0</td><td>0.0</td><td>0.0</td><td>0.0</td><td>0.0</td><td>0.0</td><td>0.0</td><td>0.0</td><td>0.0</td><td>0.0</td><td>0.0</td><td>0.0</td><td>1.0</td><td>0.0</td><td>0.0</td><td>0.0</td><td>0.0</td><td>0.0</td><td>0.0</td><td>0.0</td><td>0.0</td><td>0.0</td><td>0.0</td><td>0.0</td><td>0.0</td><td>0.0</td><td>0.0</td><td>0.0</td><td>0.0</td><td>0.0</td><td>0.0</td><td>0.0</td><td>0.0</td><td>0.0</td><td>0.0</td><td>0.0</td><td>0.0</td><td>0.0</td><td>0.0</td><td>0.0</td><td>0.0</td><td>0.0</td><td>0.0</td><td>0.0</td><td>0.0</td><td>0.0</td><td>0.0</td><td>0.0</td><td>0.0</td><td>0.0</td><td>0.0</td><td>0.0</td><td>0.0</td><td>0.0</td><td>0.0</td><td>0.0</td><td>0.0</td><td>0.0</td><td>0.0</td><td>0.0</td><td>0.0</td><td>0.0</td><td>0.0</td><td>0.0</td><td>0.0</td><td>0.0</td></tr><tr><td>0.0</td><td>0.0</td><td>0.0</td><td>0.0</td><td>0.0</td><td>0.0</td><td>0.0</td><td>0.0</td><td>0.0</td><td>0.0</td><td>0.0</td><td>0.0</td><td>0.0</td><td>0.0</td><td>0.0</td><td>0.0</td><td>0.0</td><td>0.0</td><td>0.0</td><td>0.0</td><td>0.0</td><td>0.0</td><td>0.0</td><td>0.0</td><td>0.0</td><td>0.0</td><td>0.0</td><td>0.0</td><td>0.0</td><td>0.0</td><td>0.0</td><td>0.0</td><td>0.0</td><td>0.0</td><td>0.0</td><td>0.0</td><td>0.0</td><td>0.0</td><td>0.0</td><td>0.0</td><td>0.0</td><td>0.0</td><td>0.0</td><td>0.0</td><td>0.0</td><td>0.0</td><td>0.0</td><td>0.0</td><td>0.0</td><td>0.0</td><td>0.0</td><td>0.0</td><td>0.0</td><td>0.0</td><td>0.0</td><td>0.0</td><td>0.0</td><td>0.0</td><td>1.0</td><td>0.0</td><td>0.0</td><td>0.0</td><td>0.0</td><td>0.0</td><td>0.0</td><td>0.0</td><td>0.0</td><td>0.0</td><td>0.0</td><td>0.0</td></tr><tr><td>0.0</td><td>0.0</td><td>0.0</td><td>0.0</td><td>0.0</td><td>0.0</td><td>0.0</td><td>0.0</td><td>0.0</td><td>0.0</td><td>0.0</td><td>0.0</td><td>0.0</td><td>0.0</td><td>0.0</td><td>0.0</td><td>0.0</td><td>0.0</td><td>0.0</td><td>0.0</td><td>0.0</td><td>0.0</td><td>0.0</td><td>0.0</td><td>0.0</td><td>0.0</td><td>0.0</td><td>0.0</td><td>0.0</td><td>0.0</td><td>0.0</td><td>0.0</td><td>0.0</td><td>0.0</td><td>0.0</td><td>0.0</td><td>0.0</td><td>1.0</td><td>0.0</td><td>0.0</td><td>0.0</td><td>0.0</td><td>0.0</td><td>0.0</td><td>0.0</td><td>0.0</td><td>0.0</td><td>0.0</td><td>0.0</td><td>0.0</td><td>0.0</td><td>0.0</td><td>0.0</td><td>0.0</td><td>0.0</td><td>0.0</td><td>0.0</td><td>0.0</td><td>0.0</td><td>0.0</td><td>0.0</td><td>0.0</td><td>0.0</td><td>0.0</td><td>0.0</td><td>0.0</td><td>0.0</td><td>0.0</td><td>0.0</td><td>0.0</td></tr><tr><td>&hellip;</td><td>&hellip;</td><td>&hellip;</td><td>&hellip;</td><td>&hellip;</td><td>&hellip;</td><td>&hellip;</td><td>&hellip;</td><td>&hellip;</td><td>&hellip;</td><td>&hellip;</td><td>&hellip;</td><td>&hellip;</td><td>&hellip;</td><td>&hellip;</td><td>&hellip;</td><td>&hellip;</td><td>&hellip;</td><td>&hellip;</td><td>&hellip;</td><td>&hellip;</td><td>&hellip;</td><td>&hellip;</td><td>&hellip;</td><td>&hellip;</td><td>&hellip;</td><td>&hellip;</td><td>&hellip;</td><td>&hellip;</td><td>&hellip;</td><td>&hellip;</td><td>&hellip;</td><td>&hellip;</td><td>&hellip;</td><td>&hellip;</td><td>&hellip;</td><td>&hellip;</td><td>&hellip;</td><td>&hellip;</td><td>&hellip;</td><td>&hellip;</td><td>&hellip;</td><td>&hellip;</td><td>&hellip;</td><td>&hellip;</td><td>&hellip;</td><td>&hellip;</td><td>&hellip;</td><td>&hellip;</td><td>&hellip;</td><td>&hellip;</td><td>&hellip;</td><td>&hellip;</td><td>&hellip;</td><td>&hellip;</td><td>&hellip;</td><td>&hellip;</td><td>&hellip;</td><td>&hellip;</td><td>&hellip;</td><td>&hellip;</td><td>&hellip;</td><td>&hellip;</td><td>&hellip;</td><td>&hellip;</td><td>&hellip;</td><td>&hellip;</td><td>&hellip;</td><td>&hellip;</td><td>&hellip;</td></tr><tr><td>0.0</td><td>0.0</td><td>0.0</td><td>0.0</td><td>0.0</td><td>0.0</td><td>0.0</td><td>0.0</td><td>0.0</td><td>0.0</td><td>0.0</td><td>0.0</td><td>0.0</td><td>0.0</td><td>0.0</td><td>0.0</td><td>0.0</td><td>0.0</td><td>0.0</td><td>0.0</td><td>0.0</td><td>0.0</td><td>0.0</td><td>0.0</td><td>0.0</td><td>0.0</td><td>0.0</td><td>0.0</td><td>0.0</td><td>0.0</td><td>0.0</td><td>0.0</td><td>0.0</td><td>0.0</td><td>0.0</td><td>0.0</td><td>0.0</td><td>0.0</td><td>0.0</td><td>0.0</td><td>0.0</td><td>0.0</td><td>1.0</td><td>0.0</td><td>0.0</td><td>0.0</td><td>0.0</td><td>0.0</td><td>0.0</td><td>0.0</td><td>0.0</td><td>0.0</td><td>0.0</td><td>0.0</td><td>0.0</td><td>0.0</td><td>0.0</td><td>0.0</td><td>0.0</td><td>0.0</td><td>0.0</td><td>0.0</td><td>0.0</td><td>0.0</td><td>0.0</td><td>0.0</td><td>0.0</td><td>0.0</td><td>0.0</td><td>0.0</td></tr><tr><td>0.0</td><td>0.0</td><td>0.0</td><td>0.0</td><td>0.0</td><td>0.0</td><td>0.0</td><td>0.0</td><td>0.0</td><td>0.0</td><td>0.0</td><td>0.0</td><td>0.0</td><td>0.0</td><td>0.0</td><td>0.0</td><td>0.0</td><td>0.0</td><td>0.0</td><td>0.0</td><td>0.0</td><td>0.0</td><td>0.0</td><td>0.0</td><td>0.0</td><td>0.0</td><td>0.0</td><td>0.0</td><td>0.0</td><td>0.0</td><td>0.0</td><td>0.0</td><td>0.0</td><td>0.0</td><td>0.0</td><td>0.0</td><td>0.0</td><td>0.0</td><td>0.0</td><td>0.0</td><td>0.0</td><td>0.0</td><td>0.0</td><td>0.0</td><td>0.0</td><td>0.0</td><td>0.0</td><td>0.0</td><td>0.0</td><td>0.0</td><td>0.0</td><td>0.0</td><td>0.0</td><td>0.0</td><td>0.0</td><td>0.0</td><td>0.0</td><td>0.0</td><td>0.0</td><td>0.0</td><td>1.0</td><td>0.0</td><td>0.0</td><td>0.0</td><td>0.0</td><td>0.0</td><td>0.0</td><td>0.0</td><td>0.0</td><td>0.0</td></tr><tr><td>0.0</td><td>0.0</td><td>0.0</td><td>0.0</td><td>0.0</td><td>0.0</td><td>0.0</td><td>0.0</td><td>0.0</td><td>0.0</td><td>0.0</td><td>0.0</td><td>0.0</td><td>0.0</td><td>0.0</td><td>0.0</td><td>0.0</td><td>0.0</td><td>0.0</td><td>0.0</td><td>0.0</td><td>0.0</td><td>0.0</td><td>0.0</td><td>0.0</td><td>0.0</td><td>0.0</td><td>0.0</td><td>0.0</td><td>0.0</td><td>0.0</td><td>0.0</td><td>0.0</td><td>0.0</td><td>0.0</td><td>0.0</td><td>0.0</td><td>0.0</td><td>0.0</td><td>0.0</td><td>0.0</td><td>0.0</td><td>0.0</td><td>0.0</td><td>0.0</td><td>0.0</td><td>0.0</td><td>0.0</td><td>0.0</td><td>0.0</td><td>0.0</td><td>0.0</td><td>0.0</td><td>0.0</td><td>0.0</td><td>0.0</td><td>0.0</td><td>0.0</td><td>0.0</td><td>1.0</td><td>0.0</td><td>0.0</td><td>0.0</td><td>0.0</td><td>0.0</td><td>0.0</td><td>0.0</td><td>0.0</td><td>0.0</td><td>0.0</td></tr><tr><td>0.0</td><td>0.0</td><td>0.0</td><td>0.0</td><td>0.0</td><td>0.0</td><td>0.0</td><td>0.0</td><td>0.0</td><td>0.0</td><td>0.0</td><td>0.0</td><td>0.0</td><td>0.0</td><td>0.0</td><td>1.0</td><td>0.0</td><td>0.0</td><td>0.0</td><td>0.0</td><td>0.0</td><td>0.0</td><td>0.0</td><td>0.0</td><td>0.0</td><td>0.0</td><td>0.0</td><td>0.0</td><td>0.0</td><td>0.0</td><td>0.0</td><td>0.0</td><td>0.0</td><td>0.0</td><td>0.0</td><td>0.0</td><td>0.0</td><td>0.0</td><td>0.0</td><td>0.0</td><td>0.0</td><td>0.0</td><td>0.0</td><td>0.0</td><td>0.0</td><td>0.0</td><td>0.0</td><td>0.0</td><td>0.0</td><td>0.0</td><td>0.0</td><td>0.0</td><td>0.0</td><td>0.0</td><td>0.0</td><td>0.0</td><td>0.0</td><td>0.0</td><td>0.0</td><td>0.0</td><td>0.0</td><td>0.0</td><td>0.0</td><td>0.0</td><td>0.0</td><td>0.0</td><td>0.0</td><td>0.0</td><td>0.0</td><td>0.0</td></tr><tr><td>0.0</td><td>0.0</td><td>0.0</td><td>0.0</td><td>0.0</td><td>0.0</td><td>0.0</td><td>0.0</td><td>0.0</td><td>0.0</td><td>0.0</td><td>0.0</td><td>0.0</td><td>0.0</td><td>0.0</td><td>0.0</td><td>0.0</td><td>0.0</td><td>0.0</td><td>0.0</td><td>0.0</td><td>0.0</td><td>0.0</td><td>0.0</td><td>0.0</td><td>0.0</td><td>0.0</td><td>0.0</td><td>0.0</td><td>0.0</td><td>0.0</td><td>0.0</td><td>0.0</td><td>0.0</td><td>0.0</td><td>0.0</td><td>0.0</td><td>0.0</td><td>0.0</td><td>0.0</td><td>0.0</td><td>0.0</td><td>0.0</td><td>0.0</td><td>0.0</td><td>0.0</td><td>0.0</td><td>0.0</td><td>0.0</td><td>0.0</td><td>0.0</td><td>0.0</td><td>0.0</td><td>0.0</td><td>0.0</td><td>0.0</td><td>0.0</td><td>0.0</td><td>0.0</td><td>1.0</td><td>0.0</td><td>0.0</td><td>0.0</td><td>0.0</td><td>0.0</td><td>0.0</td><td>0.0</td><td>0.0</td><td>0.0</td><td>0.0</td></tr></tbody></table></div>"
      ],
      "text/plain": [
       "shape: (21_613, 70)\n",
       "┌───────────┬───────────┬───────────┬───────────┬───┬───────────┬───────────┬───────────┬──────────┐\n",
       "│ zipcode_9 ┆ zipcode_9 ┆ zipcode_9 ┆ zipcode_9 ┆ … ┆ zipcode_9 ┆ zipcode_9 ┆ zipcode_9 ┆ zipcode_ │\n",
       "│ 8001      ┆ 8002      ┆ 8003      ┆ 8004      ┆   ┆ 8178      ┆ 8188      ┆ 8198      ┆ 98199    │\n",
       "│ ---       ┆ ---       ┆ ---       ┆ ---       ┆   ┆ ---       ┆ ---       ┆ ---       ┆ ---      │\n",
       "│ f64       ┆ f64       ┆ f64       ┆ f64       ┆   ┆ f64       ┆ f64       ┆ f64       ┆ f64      │\n",
       "╞═══════════╪═══════════╪═══════════╪═══════════╪═══╪═══════════╪═══════════╪═══════════╪══════════╡\n",
       "│ 0.0       ┆ 0.0       ┆ 0.0       ┆ 0.0       ┆ … ┆ 1.0       ┆ 0.0       ┆ 0.0       ┆ 0.0      │\n",
       "│ 0.0       ┆ 0.0       ┆ 0.0       ┆ 0.0       ┆ … ┆ 0.0       ┆ 0.0       ┆ 0.0       ┆ 0.0      │\n",
       "│ 0.0       ┆ 0.0       ┆ 0.0       ┆ 0.0       ┆ … ┆ 0.0       ┆ 0.0       ┆ 0.0       ┆ 0.0      │\n",
       "│ 0.0       ┆ 0.0       ┆ 0.0       ┆ 0.0       ┆ … ┆ 0.0       ┆ 0.0       ┆ 0.0       ┆ 0.0      │\n",
       "│ 0.0       ┆ 0.0       ┆ 0.0       ┆ 0.0       ┆ … ┆ 0.0       ┆ 0.0       ┆ 0.0       ┆ 0.0      │\n",
       "│ …         ┆ …         ┆ …         ┆ …         ┆ … ┆ …         ┆ …         ┆ …         ┆ …        │\n",
       "│ 0.0       ┆ 0.0       ┆ 0.0       ┆ 0.0       ┆ … ┆ 0.0       ┆ 0.0       ┆ 0.0       ┆ 0.0      │\n",
       "│ 0.0       ┆ 0.0       ┆ 0.0       ┆ 0.0       ┆ … ┆ 0.0       ┆ 0.0       ┆ 0.0       ┆ 0.0      │\n",
       "│ 0.0       ┆ 0.0       ┆ 0.0       ┆ 0.0       ┆ … ┆ 0.0       ┆ 0.0       ┆ 0.0       ┆ 0.0      │\n",
       "│ 0.0       ┆ 0.0       ┆ 0.0       ┆ 0.0       ┆ … ┆ 0.0       ┆ 0.0       ┆ 0.0       ┆ 0.0      │\n",
       "│ 0.0       ┆ 0.0       ┆ 0.0       ┆ 0.0       ┆ … ┆ 0.0       ┆ 0.0       ┆ 0.0       ┆ 0.0      │\n",
       "└───────────┴───────────┴───────────┴───────────┴───┴───────────┴───────────┴───────────┴──────────┘"
      ]
     },
     "execution_count": 55,
     "metadata": {},
     "output_type": "execute_result"
    }
   ],
   "source": [
    "cat_features = ['zipcode']\n",
    "\n",
    "ohe = OneHotEncoder(handle_unknown='ignore',\n",
    "                   sparse_output=False)\n",
    "\n",
    "ohe.fit_transform(\n",
    "    tweak_housing(raw)\n",
    "    .select(cat_features)\n",
    ")"
   ]
  },
  {
   "cell_type": "code",
   "execution_count": 57,
   "metadata": {
    "scrolled": true
   },
   "outputs": [
    {
     "data": {
      "text/html": [
       "<div><style>\n",
       ".dataframe > thead > tr,\n",
       ".dataframe > tbody > tr {\n",
       "  text-align: right;\n",
       "  white-space: pre-wrap;\n",
       "}\n",
       "</style>\n",
       "<small>shape: (21_613, 70)</small><table border=\"1\" class=\"dataframe\"><thead><tr><th>zipcode_98001</th><th>zipcode_98002</th><th>zipcode_98003</th><th>zipcode_98004</th><th>zipcode_98005</th><th>zipcode_98006</th><th>zipcode_98007</th><th>zipcode_98008</th><th>zipcode_98010</th><th>zipcode_98011</th><th>zipcode_98014</th><th>zipcode_98019</th><th>zipcode_98022</th><th>zipcode_98023</th><th>zipcode_98024</th><th>zipcode_98027</th><th>zipcode_98028</th><th>zipcode_98029</th><th>zipcode_98030</th><th>zipcode_98031</th><th>zipcode_98032</th><th>zipcode_98033</th><th>zipcode_98034</th><th>zipcode_98038</th><th>zipcode_98039</th><th>zipcode_98040</th><th>zipcode_98042</th><th>zipcode_98045</th><th>zipcode_98052</th><th>zipcode_98053</th><th>zipcode_98055</th><th>zipcode_98056</th><th>zipcode_98058</th><th>zipcode_98059</th><th>zipcode_98065</th><th>zipcode_98070</th><th>zipcode_98072</th><th>zipcode_98074</th><th>zipcode_98075</th><th>zipcode_98077</th><th>zipcode_98092</th><th>zipcode_98102</th><th>zipcode_98103</th><th>zipcode_98105</th><th>zipcode_98106</th><th>zipcode_98107</th><th>zipcode_98108</th><th>zipcode_98109</th><th>zipcode_98112</th><th>zipcode_98115</th><th>zipcode_98116</th><th>zipcode_98117</th><th>zipcode_98118</th><th>zipcode_98119</th><th>zipcode_98122</th><th>zipcode_98125</th><th>zipcode_98126</th><th>zipcode_98133</th><th>zipcode_98136</th><th>zipcode_98144</th><th>zipcode_98146</th><th>zipcode_98148</th><th>zipcode_98155</th><th>zipcode_98166</th><th>zipcode_98168</th><th>zipcode_98177</th><th>zipcode_98178</th><th>zipcode_98188</th><th>zipcode_98198</th><th>zipcode_98199</th></tr><tr><td>f64</td><td>f64</td><td>f64</td><td>f64</td><td>f64</td><td>f64</td><td>f64</td><td>f64</td><td>f64</td><td>f64</td><td>f64</td><td>f64</td><td>f64</td><td>f64</td><td>f64</td><td>f64</td><td>f64</td><td>f64</td><td>f64</td><td>f64</td><td>f64</td><td>f64</td><td>f64</td><td>f64</td><td>f64</td><td>f64</td><td>f64</td><td>f64</td><td>f64</td><td>f64</td><td>f64</td><td>f64</td><td>f64</td><td>f64</td><td>f64</td><td>f64</td><td>f64</td><td>f64</td><td>f64</td><td>f64</td><td>f64</td><td>f64</td><td>f64</td><td>f64</td><td>f64</td><td>f64</td><td>f64</td><td>f64</td><td>f64</td><td>f64</td><td>f64</td><td>f64</td><td>f64</td><td>f64</td><td>f64</td><td>f64</td><td>f64</td><td>f64</td><td>f64</td><td>f64</td><td>f64</td><td>f64</td><td>f64</td><td>f64</td><td>f64</td><td>f64</td><td>f64</td><td>f64</td><td>f64</td><td>f64</td></tr></thead><tbody><tr><td>0.0</td><td>0.0</td><td>0.0</td><td>0.0</td><td>0.0</td><td>0.0</td><td>0.0</td><td>0.0</td><td>0.0</td><td>0.0</td><td>0.0</td><td>0.0</td><td>0.0</td><td>0.0</td><td>0.0</td><td>0.0</td><td>0.0</td><td>0.0</td><td>0.0</td><td>0.0</td><td>0.0</td><td>0.0</td><td>0.0</td><td>0.0</td><td>0.0</td><td>0.0</td><td>0.0</td><td>0.0</td><td>0.0</td><td>0.0</td><td>0.0</td><td>0.0</td><td>0.0</td><td>0.0</td><td>0.0</td><td>0.0</td><td>0.0</td><td>0.0</td><td>0.0</td><td>0.0</td><td>0.0</td><td>0.0</td><td>0.0</td><td>0.0</td><td>0.0</td><td>0.0</td><td>0.0</td><td>0.0</td><td>0.0</td><td>0.0</td><td>0.0</td><td>0.0</td><td>0.0</td><td>0.0</td><td>0.0</td><td>0.0</td><td>0.0</td><td>0.0</td><td>0.0</td><td>0.0</td><td>0.0</td><td>0.0</td><td>0.0</td><td>0.0</td><td>0.0</td><td>0.0</td><td>1.0</td><td>0.0</td><td>0.0</td><td>0.0</td></tr><tr><td>0.0</td><td>0.0</td><td>0.0</td><td>0.0</td><td>0.0</td><td>0.0</td><td>0.0</td><td>0.0</td><td>0.0</td><td>0.0</td><td>0.0</td><td>0.0</td><td>0.0</td><td>0.0</td><td>0.0</td><td>0.0</td><td>0.0</td><td>0.0</td><td>0.0</td><td>0.0</td><td>0.0</td><td>0.0</td><td>0.0</td><td>0.0</td><td>0.0</td><td>0.0</td><td>0.0</td><td>0.0</td><td>0.0</td><td>0.0</td><td>0.0</td><td>0.0</td><td>0.0</td><td>0.0</td><td>0.0</td><td>0.0</td><td>0.0</td><td>0.0</td><td>0.0</td><td>0.0</td><td>0.0</td><td>0.0</td><td>0.0</td><td>0.0</td><td>0.0</td><td>0.0</td><td>0.0</td><td>0.0</td><td>0.0</td><td>0.0</td><td>0.0</td><td>0.0</td><td>0.0</td><td>0.0</td><td>0.0</td><td>1.0</td><td>0.0</td><td>0.0</td><td>0.0</td><td>0.0</td><td>0.0</td><td>0.0</td><td>0.0</td><td>0.0</td><td>0.0</td><td>0.0</td><td>0.0</td><td>0.0</td><td>0.0</td><td>0.0</td></tr><tr><td>0.0</td><td>0.0</td><td>0.0</td><td>0.0</td><td>0.0</td><td>0.0</td><td>0.0</td><td>0.0</td><td>0.0</td><td>0.0</td><td>0.0</td><td>0.0</td><td>0.0</td><td>0.0</td><td>0.0</td><td>0.0</td><td>1.0</td><td>0.0</td><td>0.0</td><td>0.0</td><td>0.0</td><td>0.0</td><td>0.0</td><td>0.0</td><td>0.0</td><td>0.0</td><td>0.0</td><td>0.0</td><td>0.0</td><td>0.0</td><td>0.0</td><td>0.0</td><td>0.0</td><td>0.0</td><td>0.0</td><td>0.0</td><td>0.0</td><td>0.0</td><td>0.0</td><td>0.0</td><td>0.0</td><td>0.0</td><td>0.0</td><td>0.0</td><td>0.0</td><td>0.0</td><td>0.0</td><td>0.0</td><td>0.0</td><td>0.0</td><td>0.0</td><td>0.0</td><td>0.0</td><td>0.0</td><td>0.0</td><td>0.0</td><td>0.0</td><td>0.0</td><td>0.0</td><td>0.0</td><td>0.0</td><td>0.0</td><td>0.0</td><td>0.0</td><td>0.0</td><td>0.0</td><td>0.0</td><td>0.0</td><td>0.0</td><td>0.0</td></tr><tr><td>0.0</td><td>0.0</td><td>0.0</td><td>0.0</td><td>0.0</td><td>0.0</td><td>0.0</td><td>0.0</td><td>0.0</td><td>0.0</td><td>0.0</td><td>0.0</td><td>0.0</td><td>0.0</td><td>0.0</td><td>0.0</td><td>0.0</td><td>0.0</td><td>0.0</td><td>0.0</td><td>0.0</td><td>0.0</td><td>0.0</td><td>0.0</td><td>0.0</td><td>0.0</td><td>0.0</td><td>0.0</td><td>0.0</td><td>0.0</td><td>0.0</td><td>0.0</td><td>0.0</td><td>0.0</td><td>0.0</td><td>0.0</td><td>0.0</td><td>0.0</td><td>0.0</td><td>0.0</td><td>0.0</td><td>0.0</td><td>0.0</td><td>0.0</td><td>0.0</td><td>0.0</td><td>0.0</td><td>0.0</td><td>0.0</td><td>0.0</td><td>0.0</td><td>0.0</td><td>0.0</td><td>0.0</td><td>0.0</td><td>0.0</td><td>0.0</td><td>0.0</td><td>1.0</td><td>0.0</td><td>0.0</td><td>0.0</td><td>0.0</td><td>0.0</td><td>0.0</td><td>0.0</td><td>0.0</td><td>0.0</td><td>0.0</td><td>0.0</td></tr><tr><td>0.0</td><td>0.0</td><td>0.0</td><td>0.0</td><td>0.0</td><td>0.0</td><td>0.0</td><td>0.0</td><td>0.0</td><td>0.0</td><td>0.0</td><td>0.0</td><td>0.0</td><td>0.0</td><td>0.0</td><td>0.0</td><td>0.0</td><td>0.0</td><td>0.0</td><td>0.0</td><td>0.0</td><td>0.0</td><td>0.0</td><td>0.0</td><td>0.0</td><td>0.0</td><td>0.0</td><td>0.0</td><td>0.0</td><td>0.0</td><td>0.0</td><td>0.0</td><td>0.0</td><td>0.0</td><td>0.0</td><td>0.0</td><td>0.0</td><td>1.0</td><td>0.0</td><td>0.0</td><td>0.0</td><td>0.0</td><td>0.0</td><td>0.0</td><td>0.0</td><td>0.0</td><td>0.0</td><td>0.0</td><td>0.0</td><td>0.0</td><td>0.0</td><td>0.0</td><td>0.0</td><td>0.0</td><td>0.0</td><td>0.0</td><td>0.0</td><td>0.0</td><td>0.0</td><td>0.0</td><td>0.0</td><td>0.0</td><td>0.0</td><td>0.0</td><td>0.0</td><td>0.0</td><td>0.0</td><td>0.0</td><td>0.0</td><td>0.0</td></tr><tr><td>&hellip;</td><td>&hellip;</td><td>&hellip;</td><td>&hellip;</td><td>&hellip;</td><td>&hellip;</td><td>&hellip;</td><td>&hellip;</td><td>&hellip;</td><td>&hellip;</td><td>&hellip;</td><td>&hellip;</td><td>&hellip;</td><td>&hellip;</td><td>&hellip;</td><td>&hellip;</td><td>&hellip;</td><td>&hellip;</td><td>&hellip;</td><td>&hellip;</td><td>&hellip;</td><td>&hellip;</td><td>&hellip;</td><td>&hellip;</td><td>&hellip;</td><td>&hellip;</td><td>&hellip;</td><td>&hellip;</td><td>&hellip;</td><td>&hellip;</td><td>&hellip;</td><td>&hellip;</td><td>&hellip;</td><td>&hellip;</td><td>&hellip;</td><td>&hellip;</td><td>&hellip;</td><td>&hellip;</td><td>&hellip;</td><td>&hellip;</td><td>&hellip;</td><td>&hellip;</td><td>&hellip;</td><td>&hellip;</td><td>&hellip;</td><td>&hellip;</td><td>&hellip;</td><td>&hellip;</td><td>&hellip;</td><td>&hellip;</td><td>&hellip;</td><td>&hellip;</td><td>&hellip;</td><td>&hellip;</td><td>&hellip;</td><td>&hellip;</td><td>&hellip;</td><td>&hellip;</td><td>&hellip;</td><td>&hellip;</td><td>&hellip;</td><td>&hellip;</td><td>&hellip;</td><td>&hellip;</td><td>&hellip;</td><td>&hellip;</td><td>&hellip;</td><td>&hellip;</td><td>&hellip;</td><td>&hellip;</td></tr><tr><td>0.0</td><td>0.0</td><td>0.0</td><td>0.0</td><td>0.0</td><td>0.0</td><td>0.0</td><td>0.0</td><td>0.0</td><td>0.0</td><td>0.0</td><td>0.0</td><td>0.0</td><td>0.0</td><td>0.0</td><td>0.0</td><td>0.0</td><td>0.0</td><td>0.0</td><td>0.0</td><td>0.0</td><td>0.0</td><td>0.0</td><td>0.0</td><td>0.0</td><td>0.0</td><td>0.0</td><td>0.0</td><td>0.0</td><td>0.0</td><td>0.0</td><td>0.0</td><td>0.0</td><td>0.0</td><td>0.0</td><td>0.0</td><td>0.0</td><td>0.0</td><td>0.0</td><td>0.0</td><td>0.0</td><td>0.0</td><td>1.0</td><td>0.0</td><td>0.0</td><td>0.0</td><td>0.0</td><td>0.0</td><td>0.0</td><td>0.0</td><td>0.0</td><td>0.0</td><td>0.0</td><td>0.0</td><td>0.0</td><td>0.0</td><td>0.0</td><td>0.0</td><td>0.0</td><td>0.0</td><td>0.0</td><td>0.0</td><td>0.0</td><td>0.0</td><td>0.0</td><td>0.0</td><td>0.0</td><td>0.0</td><td>0.0</td><td>0.0</td></tr><tr><td>0.0</td><td>0.0</td><td>0.0</td><td>0.0</td><td>0.0</td><td>0.0</td><td>0.0</td><td>0.0</td><td>0.0</td><td>0.0</td><td>0.0</td><td>0.0</td><td>0.0</td><td>0.0</td><td>0.0</td><td>0.0</td><td>0.0</td><td>0.0</td><td>0.0</td><td>0.0</td><td>0.0</td><td>0.0</td><td>0.0</td><td>0.0</td><td>0.0</td><td>0.0</td><td>0.0</td><td>0.0</td><td>0.0</td><td>0.0</td><td>0.0</td><td>0.0</td><td>0.0</td><td>0.0</td><td>0.0</td><td>0.0</td><td>0.0</td><td>0.0</td><td>0.0</td><td>0.0</td><td>0.0</td><td>0.0</td><td>0.0</td><td>0.0</td><td>0.0</td><td>0.0</td><td>0.0</td><td>0.0</td><td>0.0</td><td>0.0</td><td>0.0</td><td>0.0</td><td>0.0</td><td>0.0</td><td>0.0</td><td>0.0</td><td>0.0</td><td>0.0</td><td>0.0</td><td>0.0</td><td>1.0</td><td>0.0</td><td>0.0</td><td>0.0</td><td>0.0</td><td>0.0</td><td>0.0</td><td>0.0</td><td>0.0</td><td>0.0</td></tr><tr><td>0.0</td><td>0.0</td><td>0.0</td><td>0.0</td><td>0.0</td><td>0.0</td><td>0.0</td><td>0.0</td><td>0.0</td><td>0.0</td><td>0.0</td><td>0.0</td><td>0.0</td><td>0.0</td><td>0.0</td><td>0.0</td><td>0.0</td><td>0.0</td><td>0.0</td><td>0.0</td><td>0.0</td><td>0.0</td><td>0.0</td><td>0.0</td><td>0.0</td><td>0.0</td><td>0.0</td><td>0.0</td><td>0.0</td><td>0.0</td><td>0.0</td><td>0.0</td><td>0.0</td><td>0.0</td><td>0.0</td><td>0.0</td><td>0.0</td><td>0.0</td><td>0.0</td><td>0.0</td><td>0.0</td><td>0.0</td><td>0.0</td><td>0.0</td><td>0.0</td><td>0.0</td><td>0.0</td><td>0.0</td><td>0.0</td><td>0.0</td><td>0.0</td><td>0.0</td><td>0.0</td><td>0.0</td><td>0.0</td><td>0.0</td><td>0.0</td><td>0.0</td><td>0.0</td><td>1.0</td><td>0.0</td><td>0.0</td><td>0.0</td><td>0.0</td><td>0.0</td><td>0.0</td><td>0.0</td><td>0.0</td><td>0.0</td><td>0.0</td></tr><tr><td>0.0</td><td>0.0</td><td>0.0</td><td>0.0</td><td>0.0</td><td>0.0</td><td>0.0</td><td>0.0</td><td>0.0</td><td>0.0</td><td>0.0</td><td>0.0</td><td>0.0</td><td>0.0</td><td>0.0</td><td>1.0</td><td>0.0</td><td>0.0</td><td>0.0</td><td>0.0</td><td>0.0</td><td>0.0</td><td>0.0</td><td>0.0</td><td>0.0</td><td>0.0</td><td>0.0</td><td>0.0</td><td>0.0</td><td>0.0</td><td>0.0</td><td>0.0</td><td>0.0</td><td>0.0</td><td>0.0</td><td>0.0</td><td>0.0</td><td>0.0</td><td>0.0</td><td>0.0</td><td>0.0</td><td>0.0</td><td>0.0</td><td>0.0</td><td>0.0</td><td>0.0</td><td>0.0</td><td>0.0</td><td>0.0</td><td>0.0</td><td>0.0</td><td>0.0</td><td>0.0</td><td>0.0</td><td>0.0</td><td>0.0</td><td>0.0</td><td>0.0</td><td>0.0</td><td>0.0</td><td>0.0</td><td>0.0</td><td>0.0</td><td>0.0</td><td>0.0</td><td>0.0</td><td>0.0</td><td>0.0</td><td>0.0</td><td>0.0</td></tr><tr><td>0.0</td><td>0.0</td><td>0.0</td><td>0.0</td><td>0.0</td><td>0.0</td><td>0.0</td><td>0.0</td><td>0.0</td><td>0.0</td><td>0.0</td><td>0.0</td><td>0.0</td><td>0.0</td><td>0.0</td><td>0.0</td><td>0.0</td><td>0.0</td><td>0.0</td><td>0.0</td><td>0.0</td><td>0.0</td><td>0.0</td><td>0.0</td><td>0.0</td><td>0.0</td><td>0.0</td><td>0.0</td><td>0.0</td><td>0.0</td><td>0.0</td><td>0.0</td><td>0.0</td><td>0.0</td><td>0.0</td><td>0.0</td><td>0.0</td><td>0.0</td><td>0.0</td><td>0.0</td><td>0.0</td><td>0.0</td><td>0.0</td><td>0.0</td><td>0.0</td><td>0.0</td><td>0.0</td><td>0.0</td><td>0.0</td><td>0.0</td><td>0.0</td><td>0.0</td><td>0.0</td><td>0.0</td><td>0.0</td><td>0.0</td><td>0.0</td><td>0.0</td><td>0.0</td><td>1.0</td><td>0.0</td><td>0.0</td><td>0.0</td><td>0.0</td><td>0.0</td><td>0.0</td><td>0.0</td><td>0.0</td><td>0.0</td><td>0.0</td></tr></tbody></table></div>"
      ],
      "text/plain": [
       "shape: (21_613, 70)\n",
       "┌───────────┬───────────┬───────────┬───────────┬───┬───────────┬───────────┬───────────┬──────────┐\n",
       "│ zipcode_9 ┆ zipcode_9 ┆ zipcode_9 ┆ zipcode_9 ┆ … ┆ zipcode_9 ┆ zipcode_9 ┆ zipcode_9 ┆ zipcode_ │\n",
       "│ 8001      ┆ 8002      ┆ 8003      ┆ 8004      ┆   ┆ 8178      ┆ 8188      ┆ 8198      ┆ 98199    │\n",
       "│ ---       ┆ ---       ┆ ---       ┆ ---       ┆   ┆ ---       ┆ ---       ┆ ---       ┆ ---      │\n",
       "│ f64       ┆ f64       ┆ f64       ┆ f64       ┆   ┆ f64       ┆ f64       ┆ f64       ┆ f64      │\n",
       "╞═══════════╪═══════════╪═══════════╪═══════════╪═══╪═══════════╪═══════════╪═══════════╪══════════╡\n",
       "│ 0.0       ┆ 0.0       ┆ 0.0       ┆ 0.0       ┆ … ┆ 1.0       ┆ 0.0       ┆ 0.0       ┆ 0.0      │\n",
       "│ 0.0       ┆ 0.0       ┆ 0.0       ┆ 0.0       ┆ … ┆ 0.0       ┆ 0.0       ┆ 0.0       ┆ 0.0      │\n",
       "│ 0.0       ┆ 0.0       ┆ 0.0       ┆ 0.0       ┆ … ┆ 0.0       ┆ 0.0       ┆ 0.0       ┆ 0.0      │\n",
       "│ 0.0       ┆ 0.0       ┆ 0.0       ┆ 0.0       ┆ … ┆ 0.0       ┆ 0.0       ┆ 0.0       ┆ 0.0      │\n",
       "│ 0.0       ┆ 0.0       ┆ 0.0       ┆ 0.0       ┆ … ┆ 0.0       ┆ 0.0       ┆ 0.0       ┆ 0.0      │\n",
       "│ …         ┆ …         ┆ …         ┆ …         ┆ … ┆ …         ┆ …         ┆ …         ┆ …        │\n",
       "│ 0.0       ┆ 0.0       ┆ 0.0       ┆ 0.0       ┆ … ┆ 0.0       ┆ 0.0       ┆ 0.0       ┆ 0.0      │\n",
       "│ 0.0       ┆ 0.0       ┆ 0.0       ┆ 0.0       ┆ … ┆ 0.0       ┆ 0.0       ┆ 0.0       ┆ 0.0      │\n",
       "│ 0.0       ┆ 0.0       ┆ 0.0       ┆ 0.0       ┆ … ┆ 0.0       ┆ 0.0       ┆ 0.0       ┆ 0.0      │\n",
       "│ 0.0       ┆ 0.0       ┆ 0.0       ┆ 0.0       ┆ … ┆ 0.0       ┆ 0.0       ┆ 0.0       ┆ 0.0      │\n",
       "│ 0.0       ┆ 0.0       ┆ 0.0       ┆ 0.0       ┆ … ┆ 0.0       ┆ 0.0       ┆ 0.0       ┆ 0.0      │\n",
       "└───────────┴───────────┴───────────┴───────────┴───┴───────────┴───────────┴───────────┴──────────┘"
      ]
     },
     "execution_count": 57,
     "metadata": {},
     "output_type": "execute_result"
    }
   ],
   "source": [
    "cat_features = ['zipcode']\n",
    "\n",
    "ohe = OneHotEncoder(handle_unknown='ignore',\n",
    "                    sparse_output=False)\n",
    "\n",
    "ohe.fit_transform(\n",
    "    tweak_housing(raw)\n",
    "    .select(cat_features)\n",
    ")"
   ]
  },
  {
   "cell_type": "code",
   "execution_count": 58,
   "metadata": {
    "collapsed": true,
    "jupyter": {
     "outputs_hidden": true
    }
   },
   "outputs": [
    {
     "data": {
      "text/html": [
       "<div><style>\n",
       ".dataframe > thead > tr,\n",
       ".dataframe > tbody > tr {\n",
       "  text-align: right;\n",
       "  white-space: pre-wrap;\n",
       "}\n",
       "</style>\n",
       "<small>shape: (21_613, 10)</small><table border=\"1\" class=\"dataframe\"><thead><tr><th>zipcode_98023</th><th>zipcode_98034</th><th>zipcode_98038</th><th>zipcode_98042</th><th>zipcode_98052</th><th>zipcode_98103</th><th>zipcode_98115</th><th>zipcode_98117</th><th>zipcode_98118</th><th>zipcode_infrequent_sklearn</th></tr><tr><td>f64</td><td>f64</td><td>f64</td><td>f64</td><td>f64</td><td>f64</td><td>f64</td><td>f64</td><td>f64</td><td>f64</td></tr></thead><tbody><tr><td>0.0</td><td>0.0</td><td>0.0</td><td>0.0</td><td>0.0</td><td>0.0</td><td>0.0</td><td>0.0</td><td>0.0</td><td>1.0</td></tr><tr><td>0.0</td><td>0.0</td><td>0.0</td><td>0.0</td><td>0.0</td><td>0.0</td><td>0.0</td><td>0.0</td><td>0.0</td><td>1.0</td></tr><tr><td>0.0</td><td>0.0</td><td>0.0</td><td>0.0</td><td>0.0</td><td>0.0</td><td>0.0</td><td>0.0</td><td>0.0</td><td>1.0</td></tr><tr><td>0.0</td><td>0.0</td><td>0.0</td><td>0.0</td><td>0.0</td><td>0.0</td><td>0.0</td><td>0.0</td><td>0.0</td><td>1.0</td></tr><tr><td>0.0</td><td>0.0</td><td>0.0</td><td>0.0</td><td>0.0</td><td>0.0</td><td>0.0</td><td>0.0</td><td>0.0</td><td>1.0</td></tr><tr><td>&hellip;</td><td>&hellip;</td><td>&hellip;</td><td>&hellip;</td><td>&hellip;</td><td>&hellip;</td><td>&hellip;</td><td>&hellip;</td><td>&hellip;</td><td>&hellip;</td></tr><tr><td>0.0</td><td>0.0</td><td>0.0</td><td>0.0</td><td>0.0</td><td>1.0</td><td>0.0</td><td>0.0</td><td>0.0</td><td>0.0</td></tr><tr><td>0.0</td><td>0.0</td><td>0.0</td><td>0.0</td><td>0.0</td><td>0.0</td><td>0.0</td><td>0.0</td><td>0.0</td><td>1.0</td></tr><tr><td>0.0</td><td>0.0</td><td>0.0</td><td>0.0</td><td>0.0</td><td>0.0</td><td>0.0</td><td>0.0</td><td>0.0</td><td>1.0</td></tr><tr><td>0.0</td><td>0.0</td><td>0.0</td><td>0.0</td><td>0.0</td><td>0.0</td><td>0.0</td><td>0.0</td><td>0.0</td><td>1.0</td></tr><tr><td>0.0</td><td>0.0</td><td>0.0</td><td>0.0</td><td>0.0</td><td>0.0</td><td>0.0</td><td>0.0</td><td>0.0</td><td>1.0</td></tr></tbody></table></div>"
      ],
      "text/plain": [
       "shape: (21_613, 10)\n",
       "┌───────────┬───────────┬───────────┬───────────┬───┬───────────┬───────────┬───────────┬──────────┐\n",
       "│ zipcode_9 ┆ zipcode_9 ┆ zipcode_9 ┆ zipcode_9 ┆ … ┆ zipcode_9 ┆ zipcode_9 ┆ zipcode_9 ┆ zipcode_ │\n",
       "│ 8023      ┆ 8034      ┆ 8038      ┆ 8042      ┆   ┆ 8115      ┆ 8117      ┆ 8118      ┆ infreque │\n",
       "│ ---       ┆ ---       ┆ ---       ┆ ---       ┆   ┆ ---       ┆ ---       ┆ ---       ┆ nt_sklea │\n",
       "│ f64       ┆ f64       ┆ f64       ┆ f64       ┆   ┆ f64       ┆ f64       ┆ f64       ┆ rn       │\n",
       "│           ┆           ┆           ┆           ┆   ┆           ┆           ┆           ┆ ---      │\n",
       "│           ┆           ┆           ┆           ┆   ┆           ┆           ┆           ┆ f64      │\n",
       "╞═══════════╪═══════════╪═══════════╪═══════════╪═══╪═══════════╪═══════════╪═══════════╪══════════╡\n",
       "│ 0.0       ┆ 0.0       ┆ 0.0       ┆ 0.0       ┆ … ┆ 0.0       ┆ 0.0       ┆ 0.0       ┆ 1.0      │\n",
       "│ 0.0       ┆ 0.0       ┆ 0.0       ┆ 0.0       ┆ … ┆ 0.0       ┆ 0.0       ┆ 0.0       ┆ 1.0      │\n",
       "│ 0.0       ┆ 0.0       ┆ 0.0       ┆ 0.0       ┆ … ┆ 0.0       ┆ 0.0       ┆ 0.0       ┆ 1.0      │\n",
       "│ 0.0       ┆ 0.0       ┆ 0.0       ┆ 0.0       ┆ … ┆ 0.0       ┆ 0.0       ┆ 0.0       ┆ 1.0      │\n",
       "│ 0.0       ┆ 0.0       ┆ 0.0       ┆ 0.0       ┆ … ┆ 0.0       ┆ 0.0       ┆ 0.0       ┆ 1.0      │\n",
       "│ …         ┆ …         ┆ …         ┆ …         ┆ … ┆ …         ┆ …         ┆ …         ┆ …        │\n",
       "│ 0.0       ┆ 0.0       ┆ 0.0       ┆ 0.0       ┆ … ┆ 0.0       ┆ 0.0       ┆ 0.0       ┆ 0.0      │\n",
       "│ 0.0       ┆ 0.0       ┆ 0.0       ┆ 0.0       ┆ … ┆ 0.0       ┆ 0.0       ┆ 0.0       ┆ 1.0      │\n",
       "│ 0.0       ┆ 0.0       ┆ 0.0       ┆ 0.0       ┆ … ┆ 0.0       ┆ 0.0       ┆ 0.0       ┆ 1.0      │\n",
       "│ 0.0       ┆ 0.0       ┆ 0.0       ┆ 0.0       ┆ … ┆ 0.0       ┆ 0.0       ┆ 0.0       ┆ 1.0      │\n",
       "│ 0.0       ┆ 0.0       ┆ 0.0       ┆ 0.0       ┆ … ┆ 0.0       ┆ 0.0       ┆ 0.0       ┆ 1.0      │\n",
       "└───────────┴───────────┴───────────┴───────────┴───┴───────────┴───────────┴───────────┴──────────┘"
      ]
     },
     "execution_count": 58,
     "metadata": {},
     "output_type": "execute_result"
    }
   ],
   "source": [
    "cat_features = ['zipcode']\n",
    "\n",
    "ohe = OneHotEncoder(handle_unknown='ignore',\n",
    "                    sparse_output=False, max_categories=10)\n",
    "\n",
    "ohe.fit_transform(\n",
    "    tweak_housing(raw)\n",
    "    .select(cat_features)\n",
    ")"
   ]
  },
  {
   "cell_type": "code",
   "execution_count": 59,
   "metadata": {
    "scrolled": true
   },
   "outputs": [
    {
     "data": {
      "text/html": [
       "<div><style>\n",
       ".dataframe > thead > tr,\n",
       ".dataframe > tbody > tr {\n",
       "  text-align: right;\n",
       "  white-space: pre-wrap;\n",
       "}\n",
       "</style>\n",
       "<small>shape: (21_613, 10)</small><table border=\"1\" class=\"dataframe\"><thead><tr><th>zipcode_98023</th><th>zipcode_98034</th><th>zipcode_98038</th><th>zipcode_98042</th><th>zipcode_98052</th><th>zipcode_98103</th><th>zipcode_98115</th><th>zipcode_98117</th><th>zipcode_98118</th><th>zipcode_infrequent_sklearn</th></tr><tr><td>f64</td><td>f64</td><td>f64</td><td>f64</td><td>f64</td><td>f64</td><td>f64</td><td>f64</td><td>f64</td><td>f64</td></tr></thead><tbody><tr><td>0.0</td><td>0.0</td><td>0.0</td><td>0.0</td><td>0.0</td><td>0.0</td><td>0.0</td><td>0.0</td><td>0.0</td><td>1.0</td></tr><tr><td>0.0</td><td>0.0</td><td>0.0</td><td>0.0</td><td>0.0</td><td>0.0</td><td>0.0</td><td>0.0</td><td>0.0</td><td>1.0</td></tr><tr><td>0.0</td><td>0.0</td><td>0.0</td><td>0.0</td><td>0.0</td><td>0.0</td><td>0.0</td><td>0.0</td><td>0.0</td><td>1.0</td></tr><tr><td>0.0</td><td>0.0</td><td>0.0</td><td>0.0</td><td>0.0</td><td>0.0</td><td>0.0</td><td>0.0</td><td>0.0</td><td>1.0</td></tr><tr><td>0.0</td><td>0.0</td><td>0.0</td><td>0.0</td><td>0.0</td><td>0.0</td><td>0.0</td><td>0.0</td><td>0.0</td><td>1.0</td></tr><tr><td>&hellip;</td><td>&hellip;</td><td>&hellip;</td><td>&hellip;</td><td>&hellip;</td><td>&hellip;</td><td>&hellip;</td><td>&hellip;</td><td>&hellip;</td><td>&hellip;</td></tr><tr><td>0.0</td><td>0.0</td><td>0.0</td><td>0.0</td><td>0.0</td><td>1.0</td><td>0.0</td><td>0.0</td><td>0.0</td><td>0.0</td></tr><tr><td>0.0</td><td>0.0</td><td>0.0</td><td>0.0</td><td>0.0</td><td>0.0</td><td>0.0</td><td>0.0</td><td>0.0</td><td>1.0</td></tr><tr><td>0.0</td><td>0.0</td><td>0.0</td><td>0.0</td><td>0.0</td><td>0.0</td><td>0.0</td><td>0.0</td><td>0.0</td><td>1.0</td></tr><tr><td>0.0</td><td>0.0</td><td>0.0</td><td>0.0</td><td>0.0</td><td>0.0</td><td>0.0</td><td>0.0</td><td>0.0</td><td>1.0</td></tr><tr><td>0.0</td><td>0.0</td><td>0.0</td><td>0.0</td><td>0.0</td><td>0.0</td><td>0.0</td><td>0.0</td><td>0.0</td><td>1.0</td></tr></tbody></table></div>"
      ],
      "text/plain": [
       "shape: (21_613, 10)\n",
       "┌───────────┬───────────┬───────────┬───────────┬───┬───────────┬───────────┬───────────┬──────────┐\n",
       "│ zipcode_9 ┆ zipcode_9 ┆ zipcode_9 ┆ zipcode_9 ┆ … ┆ zipcode_9 ┆ zipcode_9 ┆ zipcode_9 ┆ zipcode_ │\n",
       "│ 8023      ┆ 8034      ┆ 8038      ┆ 8042      ┆   ┆ 8115      ┆ 8117      ┆ 8118      ┆ infreque │\n",
       "│ ---       ┆ ---       ┆ ---       ┆ ---       ┆   ┆ ---       ┆ ---       ┆ ---       ┆ nt_sklea │\n",
       "│ f64       ┆ f64       ┆ f64       ┆ f64       ┆   ┆ f64       ┆ f64       ┆ f64       ┆ rn       │\n",
       "│           ┆           ┆           ┆           ┆   ┆           ┆           ┆           ┆ ---      │\n",
       "│           ┆           ┆           ┆           ┆   ┆           ┆           ┆           ┆ f64      │\n",
       "╞═══════════╪═══════════╪═══════════╪═══════════╪═══╪═══════════╪═══════════╪═══════════╪══════════╡\n",
       "│ 0.0       ┆ 0.0       ┆ 0.0       ┆ 0.0       ┆ … ┆ 0.0       ┆ 0.0       ┆ 0.0       ┆ 1.0      │\n",
       "│ 0.0       ┆ 0.0       ┆ 0.0       ┆ 0.0       ┆ … ┆ 0.0       ┆ 0.0       ┆ 0.0       ┆ 1.0      │\n",
       "│ 0.0       ┆ 0.0       ┆ 0.0       ┆ 0.0       ┆ … ┆ 0.0       ┆ 0.0       ┆ 0.0       ┆ 1.0      │\n",
       "│ 0.0       ┆ 0.0       ┆ 0.0       ┆ 0.0       ┆ … ┆ 0.0       ┆ 0.0       ┆ 0.0       ┆ 1.0      │\n",
       "│ 0.0       ┆ 0.0       ┆ 0.0       ┆ 0.0       ┆ … ┆ 0.0       ┆ 0.0       ┆ 0.0       ┆ 1.0      │\n",
       "│ …         ┆ …         ┆ …         ┆ …         ┆ … ┆ …         ┆ …         ┆ …         ┆ …        │\n",
       "│ 0.0       ┆ 0.0       ┆ 0.0       ┆ 0.0       ┆ … ┆ 0.0       ┆ 0.0       ┆ 0.0       ┆ 0.0      │\n",
       "│ 0.0       ┆ 0.0       ┆ 0.0       ┆ 0.0       ┆ … ┆ 0.0       ┆ 0.0       ┆ 0.0       ┆ 1.0      │\n",
       "│ 0.0       ┆ 0.0       ┆ 0.0       ┆ 0.0       ┆ … ┆ 0.0       ┆ 0.0       ┆ 0.0       ┆ 1.0      │\n",
       "│ 0.0       ┆ 0.0       ┆ 0.0       ┆ 0.0       ┆ … ┆ 0.0       ┆ 0.0       ┆ 0.0       ┆ 1.0      │\n",
       "│ 0.0       ┆ 0.0       ┆ 0.0       ┆ 0.0       ┆ … ┆ 0.0       ┆ 0.0       ┆ 0.0       ┆ 1.0      │\n",
       "└───────────┴───────────┴───────────┴───────────┴───┴───────────┴───────────┴───────────┴──────────┘"
      ]
     },
     "execution_count": 59,
     "metadata": {},
     "output_type": "execute_result"
    }
   ],
   "source": [
    "cat_features = ['zipcode']\n",
    "\n",
    "cat_pipeline = Pipeline(steps=[\n",
    "    ('cat', OneHotEncoder(handle_unknown='ignore', sparse_output=False))])\n",
    "\n",
    "cat_pipeline.set_params(cat__max_categories=10)\n",
    "cat_pipeline.fit_transform(\n",
    "    tweak_housing(raw)\n",
    "    .select(cat_features)\n",
    ")"
   ]
  },
  {
   "cell_type": "code",
   "execution_count": null,
   "metadata": {},
   "outputs": [],
   "source": [
    "# transformer from a function\n",
    "tweak_transformer = FunctionTransformer(tweak_housing)\n",
    "\n",
    "tweak_transformer.fit_transform(raw)"
   ]
  },
  {
   "cell_type": "code",
   "execution_count": 60,
   "metadata": {},
   "outputs": [
    {
     "data": {
      "text/html": [
       "<div><style>\n",
       ".dataframe > thead > tr,\n",
       ".dataframe > tbody > tr {\n",
       "  text-align: right;\n",
       "  white-space: pre-wrap;\n",
       "}\n",
       "</style>\n",
       "<small>shape: (21_613, 73)</small><table border=\"1\" class=\"dataframe\"><thead><tr><th>num__bedrooms</th><th>num__bathrooms</th><th>num__sqft_living</th><th>cat__zipcode_98001</th><th>cat__zipcode_98002</th><th>cat__zipcode_98003</th><th>cat__zipcode_98004</th><th>cat__zipcode_98005</th><th>cat__zipcode_98006</th><th>cat__zipcode_98007</th><th>cat__zipcode_98008</th><th>cat__zipcode_98010</th><th>cat__zipcode_98011</th><th>cat__zipcode_98014</th><th>cat__zipcode_98019</th><th>cat__zipcode_98022</th><th>cat__zipcode_98023</th><th>cat__zipcode_98024</th><th>cat__zipcode_98027</th><th>cat__zipcode_98028</th><th>cat__zipcode_98029</th><th>cat__zipcode_98030</th><th>cat__zipcode_98031</th><th>cat__zipcode_98032</th><th>cat__zipcode_98033</th><th>cat__zipcode_98034</th><th>cat__zipcode_98038</th><th>cat__zipcode_98039</th><th>cat__zipcode_98040</th><th>cat__zipcode_98042</th><th>cat__zipcode_98045</th><th>cat__zipcode_98052</th><th>cat__zipcode_98053</th><th>cat__zipcode_98055</th><th>cat__zipcode_98056</th><th>cat__zipcode_98058</th><th>cat__zipcode_98059</th><th>cat__zipcode_98065</th><th>cat__zipcode_98070</th><th>cat__zipcode_98072</th><th>cat__zipcode_98074</th><th>cat__zipcode_98075</th><th>cat__zipcode_98077</th><th>cat__zipcode_98092</th><th>cat__zipcode_98102</th><th>cat__zipcode_98103</th><th>cat__zipcode_98105</th><th>cat__zipcode_98106</th><th>cat__zipcode_98107</th><th>cat__zipcode_98108</th><th>cat__zipcode_98109</th><th>cat__zipcode_98112</th><th>cat__zipcode_98115</th><th>cat__zipcode_98116</th><th>cat__zipcode_98117</th><th>cat__zipcode_98118</th><th>cat__zipcode_98119</th><th>cat__zipcode_98122</th><th>cat__zipcode_98125</th><th>cat__zipcode_98126</th><th>cat__zipcode_98133</th><th>cat__zipcode_98136</th><th>cat__zipcode_98144</th><th>cat__zipcode_98146</th><th>cat__zipcode_98148</th><th>cat__zipcode_98155</th><th>cat__zipcode_98166</th><th>cat__zipcode_98168</th><th>cat__zipcode_98177</th><th>cat__zipcode_98178</th><th>cat__zipcode_98188</th><th>cat__zipcode_98198</th><th>cat__zipcode_98199</th></tr><tr><td>f64</td><td>f64</td><td>f64</td><td>f64</td><td>f64</td><td>f64</td><td>f64</td><td>f64</td><td>f64</td><td>f64</td><td>f64</td><td>f64</td><td>f64</td><td>f64</td><td>f64</td><td>f64</td><td>f64</td><td>f64</td><td>f64</td><td>f64</td><td>f64</td><td>f64</td><td>f64</td><td>f64</td><td>f64</td><td>f64</td><td>f64</td><td>f64</td><td>f64</td><td>f64</td><td>f64</td><td>f64</td><td>f64</td><td>f64</td><td>f64</td><td>f64</td><td>f64</td><td>f64</td><td>f64</td><td>f64</td><td>f64</td><td>f64</td><td>f64</td><td>f64</td><td>f64</td><td>f64</td><td>f64</td><td>f64</td><td>f64</td><td>f64</td><td>f64</td><td>f64</td><td>f64</td><td>f64</td><td>f64</td><td>f64</td><td>f64</td><td>f64</td><td>f64</td><td>f64</td><td>f64</td><td>f64</td><td>f64</td><td>f64</td><td>f64</td><td>f64</td><td>f64</td><td>f64</td><td>f64</td><td>f64</td><td>f64</td><td>f64</td><td>f64</td></tr></thead><tbody><tr><td>-0.398737</td><td>-1.447464</td><td>-0.979835</td><td>0.0</td><td>0.0</td><td>0.0</td><td>0.0</td><td>0.0</td><td>0.0</td><td>0.0</td><td>0.0</td><td>0.0</td><td>0.0</td><td>0.0</td><td>0.0</td><td>0.0</td><td>0.0</td><td>0.0</td><td>0.0</td><td>0.0</td><td>0.0</td><td>0.0</td><td>0.0</td><td>0.0</td><td>0.0</td><td>0.0</td><td>0.0</td><td>0.0</td><td>0.0</td><td>0.0</td><td>0.0</td><td>0.0</td><td>0.0</td><td>0.0</td><td>0.0</td><td>0.0</td><td>0.0</td><td>0.0</td><td>0.0</td><td>0.0</td><td>0.0</td><td>0.0</td><td>0.0</td><td>0.0</td><td>0.0</td><td>0.0</td><td>0.0</td><td>0.0</td><td>0.0</td><td>0.0</td><td>0.0</td><td>0.0</td><td>0.0</td><td>0.0</td><td>0.0</td><td>0.0</td><td>0.0</td><td>0.0</td><td>0.0</td><td>0.0</td><td>0.0</td><td>0.0</td><td>0.0</td><td>0.0</td><td>0.0</td><td>0.0</td><td>0.0</td><td>0.0</td><td>0.0</td><td>1.0</td><td>0.0</td><td>0.0</td><td>0.0</td></tr><tr><td>-0.398737</td><td>0.175607</td><td>0.533634</td><td>0.0</td><td>0.0</td><td>0.0</td><td>0.0</td><td>0.0</td><td>0.0</td><td>0.0</td><td>0.0</td><td>0.0</td><td>0.0</td><td>0.0</td><td>0.0</td><td>0.0</td><td>0.0</td><td>0.0</td><td>0.0</td><td>0.0</td><td>0.0</td><td>0.0</td><td>0.0</td><td>0.0</td><td>0.0</td><td>0.0</td><td>0.0</td><td>0.0</td><td>0.0</td><td>0.0</td><td>0.0</td><td>0.0</td><td>0.0</td><td>0.0</td><td>0.0</td><td>0.0</td><td>0.0</td><td>0.0</td><td>0.0</td><td>0.0</td><td>0.0</td><td>0.0</td><td>0.0</td><td>0.0</td><td>0.0</td><td>0.0</td><td>0.0</td><td>0.0</td><td>0.0</td><td>0.0</td><td>0.0</td><td>0.0</td><td>0.0</td><td>0.0</td><td>0.0</td><td>0.0</td><td>0.0</td><td>0.0</td><td>1.0</td><td>0.0</td><td>0.0</td><td>0.0</td><td>0.0</td><td>0.0</td><td>0.0</td><td>0.0</td><td>0.0</td><td>0.0</td><td>0.0</td><td>0.0</td><td>0.0</td><td>0.0</td><td>0.0</td></tr><tr><td>-1.473959</td><td>-1.447464</td><td>-1.426254</td><td>0.0</td><td>0.0</td><td>0.0</td><td>0.0</td><td>0.0</td><td>0.0</td><td>0.0</td><td>0.0</td><td>0.0</td><td>0.0</td><td>0.0</td><td>0.0</td><td>0.0</td><td>0.0</td><td>0.0</td><td>0.0</td><td>1.0</td><td>0.0</td><td>0.0</td><td>0.0</td><td>0.0</td><td>0.0</td><td>0.0</td><td>0.0</td><td>0.0</td><td>0.0</td><td>0.0</td><td>0.0</td><td>0.0</td><td>0.0</td><td>0.0</td><td>0.0</td><td>0.0</td><td>0.0</td><td>0.0</td><td>0.0</td><td>0.0</td><td>0.0</td><td>0.0</td><td>0.0</td><td>0.0</td><td>0.0</td><td>0.0</td><td>0.0</td><td>0.0</td><td>0.0</td><td>0.0</td><td>0.0</td><td>0.0</td><td>0.0</td><td>0.0</td><td>0.0</td><td>0.0</td><td>0.0</td><td>0.0</td><td>0.0</td><td>0.0</td><td>0.0</td><td>0.0</td><td>0.0</td><td>0.0</td><td>0.0</td><td>0.0</td><td>0.0</td><td>0.0</td><td>0.0</td><td>0.0</td><td>0.0</td><td>0.0</td><td>0.0</td></tr><tr><td>0.676485</td><td>1.149449</td><td>-0.13055</td><td>0.0</td><td>0.0</td><td>0.0</td><td>0.0</td><td>0.0</td><td>0.0</td><td>0.0</td><td>0.0</td><td>0.0</td><td>0.0</td><td>0.0</td><td>0.0</td><td>0.0</td><td>0.0</td><td>0.0</td><td>0.0</td><td>0.0</td><td>0.0</td><td>0.0</td><td>0.0</td><td>0.0</td><td>0.0</td><td>0.0</td><td>0.0</td><td>0.0</td><td>0.0</td><td>0.0</td><td>0.0</td><td>0.0</td><td>0.0</td><td>0.0</td><td>0.0</td><td>0.0</td><td>0.0</td><td>0.0</td><td>0.0</td><td>0.0</td><td>0.0</td><td>0.0</td><td>0.0</td><td>0.0</td><td>0.0</td><td>0.0</td><td>0.0</td><td>0.0</td><td>0.0</td><td>0.0</td><td>0.0</td><td>0.0</td><td>0.0</td><td>0.0</td><td>0.0</td><td>0.0</td><td>0.0</td><td>0.0</td><td>0.0</td><td>0.0</td><td>0.0</td><td>1.0</td><td>0.0</td><td>0.0</td><td>0.0</td><td>0.0</td><td>0.0</td><td>0.0</td><td>0.0</td><td>0.0</td><td>0.0</td><td>0.0</td><td>0.0</td></tr><tr><td>-0.398737</td><td>-0.149007</td><td>-0.435422</td><td>0.0</td><td>0.0</td><td>0.0</td><td>0.0</td><td>0.0</td><td>0.0</td><td>0.0</td><td>0.0</td><td>0.0</td><td>0.0</td><td>0.0</td><td>0.0</td><td>0.0</td><td>0.0</td><td>0.0</td><td>0.0</td><td>0.0</td><td>0.0</td><td>0.0</td><td>0.0</td><td>0.0</td><td>0.0</td><td>0.0</td><td>0.0</td><td>0.0</td><td>0.0</td><td>0.0</td><td>0.0</td><td>0.0</td><td>0.0</td><td>0.0</td><td>0.0</td><td>0.0</td><td>0.0</td><td>0.0</td><td>0.0</td><td>0.0</td><td>1.0</td><td>0.0</td><td>0.0</td><td>0.0</td><td>0.0</td><td>0.0</td><td>0.0</td><td>0.0</td><td>0.0</td><td>0.0</td><td>0.0</td><td>0.0</td><td>0.0</td><td>0.0</td><td>0.0</td><td>0.0</td><td>0.0</td><td>0.0</td><td>0.0</td><td>0.0</td><td>0.0</td><td>0.0</td><td>0.0</td><td>0.0</td><td>0.0</td><td>0.0</td><td>0.0</td><td>0.0</td><td>0.0</td><td>0.0</td><td>0.0</td><td>0.0</td><td>0.0</td></tr><tr><td>&hellip;</td><td>&hellip;</td><td>&hellip;</td><td>&hellip;</td><td>&hellip;</td><td>&hellip;</td><td>&hellip;</td><td>&hellip;</td><td>&hellip;</td><td>&hellip;</td><td>&hellip;</td><td>&hellip;</td><td>&hellip;</td><td>&hellip;</td><td>&hellip;</td><td>&hellip;</td><td>&hellip;</td><td>&hellip;</td><td>&hellip;</td><td>&hellip;</td><td>&hellip;</td><td>&hellip;</td><td>&hellip;</td><td>&hellip;</td><td>&hellip;</td><td>&hellip;</td><td>&hellip;</td><td>&hellip;</td><td>&hellip;</td><td>&hellip;</td><td>&hellip;</td><td>&hellip;</td><td>&hellip;</td><td>&hellip;</td><td>&hellip;</td><td>&hellip;</td><td>&hellip;</td><td>&hellip;</td><td>&hellip;</td><td>&hellip;</td><td>&hellip;</td><td>&hellip;</td><td>&hellip;</td><td>&hellip;</td><td>&hellip;</td><td>&hellip;</td><td>&hellip;</td><td>&hellip;</td><td>&hellip;</td><td>&hellip;</td><td>&hellip;</td><td>&hellip;</td><td>&hellip;</td><td>&hellip;</td><td>&hellip;</td><td>&hellip;</td><td>&hellip;</td><td>&hellip;</td><td>&hellip;</td><td>&hellip;</td><td>&hellip;</td><td>&hellip;</td><td>&hellip;</td><td>&hellip;</td><td>&hellip;</td><td>&hellip;</td><td>&hellip;</td><td>&hellip;</td><td>&hellip;</td><td>&hellip;</td><td>&hellip;</td><td>&hellip;</td><td>&hellip;</td></tr><tr><td>-0.398737</td><td>0.500221</td><td>-0.598746</td><td>0.0</td><td>0.0</td><td>0.0</td><td>0.0</td><td>0.0</td><td>0.0</td><td>0.0</td><td>0.0</td><td>0.0</td><td>0.0</td><td>0.0</td><td>0.0</td><td>0.0</td><td>0.0</td><td>0.0</td><td>0.0</td><td>0.0</td><td>0.0</td><td>0.0</td><td>0.0</td><td>0.0</td><td>0.0</td><td>0.0</td><td>0.0</td><td>0.0</td><td>0.0</td><td>0.0</td><td>0.0</td><td>0.0</td><td>0.0</td><td>0.0</td><td>0.0</td><td>0.0</td><td>0.0</td><td>0.0</td><td>0.0</td><td>0.0</td><td>0.0</td><td>0.0</td><td>0.0</td><td>0.0</td><td>0.0</td><td>1.0</td><td>0.0</td><td>0.0</td><td>0.0</td><td>0.0</td><td>0.0</td><td>0.0</td><td>0.0</td><td>0.0</td><td>0.0</td><td>0.0</td><td>0.0</td><td>0.0</td><td>0.0</td><td>0.0</td><td>0.0</td><td>0.0</td><td>0.0</td><td>0.0</td><td>0.0</td><td>0.0</td><td>0.0</td><td>0.0</td><td>0.0</td><td>0.0</td><td>0.0</td><td>0.0</td><td>0.0</td></tr><tr><td>0.676485</td><td>0.500221</td><td>0.250539</td><td>0.0</td><td>0.0</td><td>0.0</td><td>0.0</td><td>0.0</td><td>0.0</td><td>0.0</td><td>0.0</td><td>0.0</td><td>0.0</td><td>0.0</td><td>0.0</td><td>0.0</td><td>0.0</td><td>0.0</td><td>0.0</td><td>0.0</td><td>0.0</td><td>0.0</td><td>0.0</td><td>0.0</td><td>0.0</td><td>0.0</td><td>0.0</td><td>0.0</td><td>0.0</td><td>0.0</td><td>0.0</td><td>0.0</td><td>0.0</td><td>0.0</td><td>0.0</td><td>0.0</td><td>0.0</td><td>0.0</td><td>0.0</td><td>0.0</td><td>0.0</td><td>0.0</td><td>0.0</td><td>0.0</td><td>0.0</td><td>0.0</td><td>0.0</td><td>0.0</td><td>0.0</td><td>0.0</td><td>0.0</td><td>0.0</td><td>0.0</td><td>0.0</td><td>0.0</td><td>0.0</td><td>0.0</td><td>0.0</td><td>0.0</td><td>0.0</td><td>0.0</td><td>0.0</td><td>0.0</td><td>1.0</td><td>0.0</td><td>0.0</td><td>0.0</td><td>0.0</td><td>0.0</td><td>0.0</td><td>0.0</td><td>0.0</td><td>0.0</td></tr><tr><td>-1.473959</td><td>-1.772078</td><td>-1.154047</td><td>0.0</td><td>0.0</td><td>0.0</td><td>0.0</td><td>0.0</td><td>0.0</td><td>0.0</td><td>0.0</td><td>0.0</td><td>0.0</td><td>0.0</td><td>0.0</td><td>0.0</td><td>0.0</td><td>0.0</td><td>0.0</td><td>0.0</td><td>0.0</td><td>0.0</td><td>0.0</td><td>0.0</td><td>0.0</td><td>0.0</td><td>0.0</td><td>0.0</td><td>0.0</td><td>0.0</td><td>0.0</td><td>0.0</td><td>0.0</td><td>0.0</td><td>0.0</td><td>0.0</td><td>0.0</td><td>0.0</td><td>0.0</td><td>0.0</td><td>0.0</td><td>0.0</td><td>0.0</td><td>0.0</td><td>0.0</td><td>0.0</td><td>0.0</td><td>0.0</td><td>0.0</td><td>0.0</td><td>0.0</td><td>0.0</td><td>0.0</td><td>0.0</td><td>0.0</td><td>0.0</td><td>0.0</td><td>0.0</td><td>0.0</td><td>0.0</td><td>0.0</td><td>0.0</td><td>1.0</td><td>0.0</td><td>0.0</td><td>0.0</td><td>0.0</td><td>0.0</td><td>0.0</td><td>0.0</td><td>0.0</td><td>0.0</td><td>0.0</td></tr><tr><td>-0.398737</td><td>0.500221</td><td>-0.522528</td><td>0.0</td><td>0.0</td><td>0.0</td><td>0.0</td><td>0.0</td><td>0.0</td><td>0.0</td><td>0.0</td><td>0.0</td><td>0.0</td><td>0.0</td><td>0.0</td><td>0.0</td><td>0.0</td><td>0.0</td><td>1.0</td><td>0.0</td><td>0.0</td><td>0.0</td><td>0.0</td><td>0.0</td><td>0.0</td><td>0.0</td><td>0.0</td><td>0.0</td><td>0.0</td><td>0.0</td><td>0.0</td><td>0.0</td><td>0.0</td><td>0.0</td><td>0.0</td><td>0.0</td><td>0.0</td><td>0.0</td><td>0.0</td><td>0.0</td><td>0.0</td><td>0.0</td><td>0.0</td><td>0.0</td><td>0.0</td><td>0.0</td><td>0.0</td><td>0.0</td><td>0.0</td><td>0.0</td><td>0.0</td><td>0.0</td><td>0.0</td><td>0.0</td><td>0.0</td><td>0.0</td><td>0.0</td><td>0.0</td><td>0.0</td><td>0.0</td><td>0.0</td><td>0.0</td><td>0.0</td><td>0.0</td><td>0.0</td><td>0.0</td><td>0.0</td><td>0.0</td><td>0.0</td><td>0.0</td><td>0.0</td><td>0.0</td><td>0.0</td></tr><tr><td>-1.473959</td><td>-1.772078</td><td>-1.154047</td><td>0.0</td><td>0.0</td><td>0.0</td><td>0.0</td><td>0.0</td><td>0.0</td><td>0.0</td><td>0.0</td><td>0.0</td><td>0.0</td><td>0.0</td><td>0.0</td><td>0.0</td><td>0.0</td><td>0.0</td><td>0.0</td><td>0.0</td><td>0.0</td><td>0.0</td><td>0.0</td><td>0.0</td><td>0.0</td><td>0.0</td><td>0.0</td><td>0.0</td><td>0.0</td><td>0.0</td><td>0.0</td><td>0.0</td><td>0.0</td><td>0.0</td><td>0.0</td><td>0.0</td><td>0.0</td><td>0.0</td><td>0.0</td><td>0.0</td><td>0.0</td><td>0.0</td><td>0.0</td><td>0.0</td><td>0.0</td><td>0.0</td><td>0.0</td><td>0.0</td><td>0.0</td><td>0.0</td><td>0.0</td><td>0.0</td><td>0.0</td><td>0.0</td><td>0.0</td><td>0.0</td><td>0.0</td><td>0.0</td><td>0.0</td><td>0.0</td><td>0.0</td><td>0.0</td><td>1.0</td><td>0.0</td><td>0.0</td><td>0.0</td><td>0.0</td><td>0.0</td><td>0.0</td><td>0.0</td><td>0.0</td><td>0.0</td><td>0.0</td></tr></tbody></table></div>"
      ],
      "text/plain": [
       "shape: (21_613, 73)\n",
       "┌───────────┬───────────┬───────────┬───────────┬───┬───────────┬───────────┬───────────┬──────────┐\n",
       "│ num__bedr ┆ num__bath ┆ num__sqft ┆ cat__zipc ┆ … ┆ cat__zipc ┆ cat__zipc ┆ cat__zipc ┆ cat__zip │\n",
       "│ ooms      ┆ rooms     ┆ _living   ┆ ode_98001 ┆   ┆ ode_98178 ┆ ode_98188 ┆ ode_98198 ┆ code_981 │\n",
       "│ ---       ┆ ---       ┆ ---       ┆ ---       ┆   ┆ ---       ┆ ---       ┆ ---       ┆ 99       │\n",
       "│ f64       ┆ f64       ┆ f64       ┆ f64       ┆   ┆ f64       ┆ f64       ┆ f64       ┆ ---      │\n",
       "│           ┆           ┆           ┆           ┆   ┆           ┆           ┆           ┆ f64      │\n",
       "╞═══════════╪═══════════╪═══════════╪═══════════╪═══╪═══════════╪═══════════╪═══════════╪══════════╡\n",
       "│ -0.398737 ┆ -1.447464 ┆ -0.979835 ┆ 0.0       ┆ … ┆ 1.0       ┆ 0.0       ┆ 0.0       ┆ 0.0      │\n",
       "│ -0.398737 ┆ 0.175607  ┆ 0.533634  ┆ 0.0       ┆ … ┆ 0.0       ┆ 0.0       ┆ 0.0       ┆ 0.0      │\n",
       "│ -1.473959 ┆ -1.447464 ┆ -1.426254 ┆ 0.0       ┆ … ┆ 0.0       ┆ 0.0       ┆ 0.0       ┆ 0.0      │\n",
       "│ 0.676485  ┆ 1.149449  ┆ -0.13055  ┆ 0.0       ┆ … ┆ 0.0       ┆ 0.0       ┆ 0.0       ┆ 0.0      │\n",
       "│ -0.398737 ┆ -0.149007 ┆ -0.435422 ┆ 0.0       ┆ … ┆ 0.0       ┆ 0.0       ┆ 0.0       ┆ 0.0      │\n",
       "│ …         ┆ …         ┆ …         ┆ …         ┆ … ┆ …         ┆ …         ┆ …         ┆ …        │\n",
       "│ -0.398737 ┆ 0.500221  ┆ -0.598746 ┆ 0.0       ┆ … ┆ 0.0       ┆ 0.0       ┆ 0.0       ┆ 0.0      │\n",
       "│ 0.676485  ┆ 0.500221  ┆ 0.250539  ┆ 0.0       ┆ … ┆ 0.0       ┆ 0.0       ┆ 0.0       ┆ 0.0      │\n",
       "│ -1.473959 ┆ -1.772078 ┆ -1.154047 ┆ 0.0       ┆ … ┆ 0.0       ┆ 0.0       ┆ 0.0       ┆ 0.0      │\n",
       "│ -0.398737 ┆ 0.500221  ┆ -0.522528 ┆ 0.0       ┆ … ┆ 0.0       ┆ 0.0       ┆ 0.0       ┆ 0.0      │\n",
       "│ -1.473959 ┆ -1.772078 ┆ -1.154047 ┆ 0.0       ┆ … ┆ 0.0       ┆ 0.0       ┆ 0.0       ┆ 0.0      │\n",
       "└───────────┴───────────┴───────────┴───────────┴───┴───────────┴───────────┴───────────┴──────────┘"
      ]
     },
     "execution_count": 60,
     "metadata": {},
     "output_type": "execute_result"
    }
   ],
   "source": [
    "categorical_features = ['zipcode']\n",
    "\n",
    "numeric_transformer = Pipeline(steps=[\n",
    "    ('imputer', SimpleImputer(strategy='median')),\n",
    "    ('scaler', StandardScaler())])\n",
    "\n",
    "ct = ColumnTransformer(\n",
    "    transformers=[\n",
    "        ('num', numeric_transformer, numeric_features),\n",
    "        ('cat', OneHotEncoder(handle_unknown='ignore',\n",
    "                              sparse_output=False), categorical_features)])\n",
    "\n",
    "ct.fit_transform(\n",
    "    tweak_housing(raw)\n",
    "    .select([*numeric_features, *cat_features])\n",
    ")"
   ]
  },
  {
   "cell_type": "code",
   "execution_count": null,
   "metadata": {},
   "outputs": [],
   "source": [
    "# Custom transformer \n",
    "class ZipAvgPriceAdder(BaseEstimator, TransformerMixin):\n",
    "    def __init__(self):\n",
    "        pass\n",
    "    def fit(self, X, y=None):\n",
    "        # assume X is a polars dataframe\n",
    "        self.zip_avg_price = (X\n",
    "                              .group_by('zipcode')\n",
    "                              .agg(zip_mean=pl.col('price').mean())\n",
    "        )\n",
    "        return self\n",
    "    \n",
    "    def transform(self, X, y=None):\n",
    "        return X.join(self.zip_avg_price, on='zipcode')\n",
    "\n",
    "zip_adder = ZipAvgPriceAdder()\n",
    "zip_adder.fit_transform(raw.select(['zipcode', 'price']))"
   ]
  },
  {
   "cell_type": "code",
   "execution_count": null,
   "metadata": {
    "scrolled": true
   },
   "outputs": [],
   "source": [
    "# make the pipeline\n",
    "numeric_features = ['bedrooms', 'bathrooms', 'sqft_living', 'sqft_lot', 'floors', 'waterfront', 'view', \n",
    "                    'condition', 'grade', 'sqft_above', 'sqft_basement', 'yr_built', 'yr_renovated', \n",
    "                    'lat', 'long', 'sqft_living15', 'sqft_lot15', 'zip_mean']\n",
    "numeric_transformer = Pipeline(steps=[\n",
    "    ('imputer', SimpleImputer(strategy='median')),\n",
    "    ('scaler', StandardScaler())])\n",
    "\n",
    "categorical_features = ['zipcode']\n",
    "\n",
    "preprocessor = ColumnTransformer(\n",
    "    transformers=[\n",
    "        ('num', numeric_transformer, numeric_features),\n",
    "        ('cat', OneHotEncoder(handle_unknown='ignore',\n",
    "                              sparse_output=False), categorical_features)])\n",
    "\n",
    "tweak_transformer = FunctionTransformer(tweak_housing)\n",
    "\n",
    "class ZipAvgPriceAdder(BaseEstimator, TransformerMixin):\n",
    "    def __init__(self):\n",
    "        pass\n",
    "    def fit(self, X, y=None):\n",
    "        # assume X is a polars dataframe\n",
    "        self.zip_avg_price = (X\n",
    "                              .group_by('zipcode')\n",
    "                              .agg(zip_mean=pl.col('price').mean())\n",
    "        )\n",
    "        return self\n",
    "    \n",
    "    def transform(self, X, y=None):\n",
    "        return X.join(self.zip_avg_price, on='zipcode')\n",
    "\n",
    "# Append classifier to preprocessing pipeline.\n",
    "# Now we have a full prediction pipeline.\n",
    "pipe = Pipeline(steps=[('tweak', tweak_transformer),\n",
    "                      ('zip_avg_price', ZipAvgPriceAdder()),\n",
    "                      ('preprocessor', preprocessor),\n",
    "                      ])\n",
    "\n",
    "X = raw #.drop('price')\n",
    "y = raw.select('price') # Note sklearn wants a Polars dataframe for y\n",
    "\n",
    "X_train, X_test, y_train, y_test = train_test_split(X, y, test_size=0.2, random_state=42)\n",
    "\n",
    "pipe.fit_transform(raw, raw.select('price'))"
   ]
  },
  {
   "cell_type": "code",
   "execution_count": null,
   "metadata": {},
   "outputs": [],
   "source": [
    "pipe"
   ]
  },
  {
   "cell_type": "code",
   "execution_count": 61,
   "metadata": {},
   "outputs": [],
   "source": [
    "# Note sklearn wants a Polars dataframe for y\n",
    "X = raw #.drop('price')\n",
    "y = raw.select('price') \n",
    "#y = raw['price']\n",
    "\n",
    "X_train, X_test, y_train, y_test = train_test_split(X, y, test_size=0.2, random_state=42)"
   ]
  },
  {
   "cell_type": "code",
   "execution_count": null,
   "metadata": {},
   "outputs": [],
   "source": []
  },
  {
   "cell_type": "code",
   "execution_count": null,
   "metadata": {},
   "outputs": [],
   "source": []
  },
  {
   "cell_type": "code",
   "execution_count": null,
   "metadata": {},
   "outputs": [],
   "source": []
  },
  {
   "cell_type": "code",
   "execution_count": null,
   "metadata": {},
   "outputs": [],
   "source": []
  },
  {
   "cell_type": "code",
   "execution_count": null,
   "metadata": {},
   "outputs": [],
   "source": []
  },
  {
   "cell_type": "markdown",
   "metadata": {
    "jp-MarkdownHeadingCollapsed": true
   },
   "source": [
    "\n",
    "## Challenge\n",
    "\n",
    "Make a plot to explore the relationship between the number of bedrooms and the price of the house."
   ]
  },
  {
   "cell_type": "code",
   "execution_count": null,
   "metadata": {},
   "outputs": [],
   "source": []
  },
  {
   "cell_type": "code",
   "execution_count": null,
   "metadata": {},
   "outputs": [],
   "source": []
  },
  {
   "cell_type": "code",
   "execution_count": null,
   "metadata": {},
   "outputs": [],
   "source": []
  },
  {
   "cell_type": "code",
   "execution_count": null,
   "metadata": {},
   "outputs": [],
   "source": []
  },
  {
   "cell_type": "code",
   "execution_count": null,
   "metadata": {},
   "outputs": [],
   "source": []
  },
  {
   "cell_type": "markdown",
   "metadata": {},
   "source": [
    "\n",
    "## Solution"
   ]
  },
  {
   "cell_type": "code",
   "execution_count": 66,
   "metadata": {},
   "outputs": [
    {
     "ename": "ModuleUpgradeRequiredError",
     "evalue": "hvplot>=0.9.1 is required for `.plot`",
     "output_type": "error",
     "traceback": [
      "\u001b[1;31m---------------------------------------------------------------------------\u001b[0m",
      "\u001b[1;31mModuleUpgradeRequiredError\u001b[0m                Traceback (most recent call last)",
      "Cell \u001b[1;32mIn[66], line 1\u001b[0m\n\u001b[1;32m----> 1\u001b[0m (\u001b[43mtweak_housing\u001b[49m\u001b[43m(\u001b[49m\u001b[43mraw\u001b[49m\u001b[43m)\u001b[49m\u001b[38;5;241;43m.\u001b[39;49m\u001b[43mplot\u001b[49m\u001b[38;5;241m.\u001b[39mscatter(x\u001b[38;5;241m=\u001b[39m\u001b[38;5;124m'\u001b[39m\u001b[38;5;124mbedrooms\u001b[39m\u001b[38;5;124m'\u001b[39m,y\u001b[38;5;241m=\u001b[39m\u001b[38;5;124m'\u001b[39m\u001b[38;5;124mprice\u001b[39m\u001b[38;5;124m'\u001b[39m)\n\u001b[0;32m      2\u001b[0m )\n",
      "File \u001b[1;32mc:\\Python312\\Lib\\site-packages\\polars\\_utils\\unstable.py:58\u001b[0m, in \u001b[0;36munstable.<locals>.decorate.<locals>.wrapper\u001b[1;34m(*args, **kwargs)\u001b[0m\n\u001b[0;32m     55\u001b[0m \u001b[38;5;129m@wraps\u001b[39m(function)\n\u001b[0;32m     56\u001b[0m \u001b[38;5;28;01mdef\u001b[39;00m \u001b[38;5;21mwrapper\u001b[39m(\u001b[38;5;241m*\u001b[39margs: P\u001b[38;5;241m.\u001b[39margs, \u001b[38;5;241m*\u001b[39m\u001b[38;5;241m*\u001b[39mkwargs: P\u001b[38;5;241m.\u001b[39mkwargs) \u001b[38;5;241m-\u001b[39m\u001b[38;5;241m>\u001b[39m T:\n\u001b[0;32m     57\u001b[0m     issue_unstable_warning(\u001b[38;5;124mf\u001b[39m\u001b[38;5;124m\"\u001b[39m\u001b[38;5;124m`\u001b[39m\u001b[38;5;132;01m{\u001b[39;00mfunction\u001b[38;5;241m.\u001b[39m\u001b[38;5;18m__name__\u001b[39m\u001b[38;5;132;01m}\u001b[39;00m\u001b[38;5;124m` is considered unstable.\u001b[39m\u001b[38;5;124m\"\u001b[39m)\n\u001b[1;32m---> 58\u001b[0m     \u001b[38;5;28;01mreturn\u001b[39;00m \u001b[43mfunction\u001b[49m\u001b[43m(\u001b[49m\u001b[38;5;241;43m*\u001b[39;49m\u001b[43margs\u001b[49m\u001b[43m,\u001b[49m\u001b[43m \u001b[49m\u001b[38;5;241;43m*\u001b[39;49m\u001b[38;5;241;43m*\u001b[39;49m\u001b[43mkwargs\u001b[49m\u001b[43m)\u001b[49m\n",
      "File \u001b[1;32mc:\\Python312\\Lib\\site-packages\\polars\\dataframe\\frame.py:637\u001b[0m, in \u001b[0;36mDataFrame.plot\u001b[1;34m(self)\u001b[0m\n\u001b[0;32m    633\u001b[0m \u001b[38;5;28;01mif\u001b[39;00m \u001b[38;5;129;01mnot\u001b[39;00m _HVPLOT_AVAILABLE \u001b[38;5;129;01mor\u001b[39;00m parse_version(hvplot\u001b[38;5;241m.\u001b[39m__version__) \u001b[38;5;241m<\u001b[39m parse_version(\n\u001b[0;32m    634\u001b[0m     \u001b[38;5;124m\"\u001b[39m\u001b[38;5;124m0.9.1\u001b[39m\u001b[38;5;124m\"\u001b[39m\n\u001b[0;32m    635\u001b[0m ):\n\u001b[0;32m    636\u001b[0m     msg \u001b[38;5;241m=\u001b[39m \u001b[38;5;124m\"\u001b[39m\u001b[38;5;124mhvplot>=0.9.1 is required for `.plot`\u001b[39m\u001b[38;5;124m\"\u001b[39m\n\u001b[1;32m--> 637\u001b[0m     \u001b[38;5;28;01mraise\u001b[39;00m ModuleUpgradeRequiredError(msg)\n\u001b[0;32m    638\u001b[0m hvplot\u001b[38;5;241m.\u001b[39mpost_patch()\n\u001b[0;32m    639\u001b[0m \u001b[38;5;28;01mreturn\u001b[39;00m hvplot\u001b[38;5;241m.\u001b[39mplotting\u001b[38;5;241m.\u001b[39mcore\u001b[38;5;241m.\u001b[39mhvPlotTabularPolars(\u001b[38;5;28mself\u001b[39m)\n",
      "\u001b[1;31mModuleUpgradeRequiredError\u001b[0m: hvplot>=0.9.1 is required for `.plot`"
     ]
    }
   ],
   "source": [
    "(\n",
    "  tweak_housing(raw)\n",
    "  .plot.scatter(x='bedrooms',y='price',alpha=0.01, yformatter='%.0f') #y formater to change from scientifc notation\n",
    ")"
   ]
  },
  {
   "cell_type": "code",
   "execution_count": null,
   "metadata": {},
   "outputs": [],
   "source": [
    "(\n",
    "  tweak_housing(raw)\n",
    "  .plot.scatter(x='bedrooms',y='price',alpha=0.01,size=1, yformatter='%.0f')\n",
    "  .opts(jitter=.8)\n",
    ")"
   ]
  },
  {
   "cell_type": "code",
   "execution_count": null,
   "metadata": {},
   "outputs": [],
   "source": []
  },
  {
   "cell_type": "code",
   "execution_count": null,
   "metadata": {},
   "outputs": [],
   "source": []
  },
  {
   "cell_type": "code",
   "execution_count": null,
   "metadata": {},
   "outputs": [],
   "source": []
  },
  {
   "cell_type": "markdown",
   "metadata": {
    "vscode": {
     "languageId": "plaintext"
    }
   },
   "source": [
    "# Model Creation\n"
   ]
  },
  {
   "cell_type": "markdown",
   "metadata": {},
   "source": [
    "\n",
    "## Dummy Model\n"
   ]
  },
  {
   "cell_type": "code",
   "execution_count": null,
   "metadata": {
    "scrolled": true
   },
   "outputs": [],
   "source": [
    "from sklearn.dummy import DummyRegressor\n",
    "\n",
    "dummy = DummyRegressor(strategy='mean')\n",
    "y = raw.select('price')\n",
    "X_train, X_test, y_train, y_test = train_test_split(raw, y, test_size=0.2, random_state=42)\n",
    "dummy_pipe = Pipeline(steps=[('tweak', tweak_transformer),\n",
    "                      ('zip_avg_price', ZipAvgPriceAdder()),\n",
    "                      ('preprocessor', preprocessor),\n",
    "                      ('dummy', dummy),\n",
    "                      ])\n",
    "\n",
    "dummy_pipe.fit(X_train, y_train)\n",
    "dummy_pipe.score(X_test, y_test)"
   ]
  },
  {
   "cell_type": "code",
   "execution_count": null,
   "metadata": {},
   "outputs": [],
   "source": [
    "dummy_pipe"
   ]
  },
  {
   "cell_type": "code",
   "execution_count": null,
   "metadata": {
    "scrolled": true
   },
   "outputs": [],
   "source": [
    "dummy_pipe.predict(X_test)"
   ]
  },
  {
   "cell_type": "code",
   "execution_count": null,
   "metadata": {},
   "outputs": [],
   "source": []
  },
  {
   "cell_type": "code",
   "execution_count": null,
   "metadata": {},
   "outputs": [],
   "source": []
  },
  {
   "cell_type": "code",
   "execution_count": null,
   "metadata": {},
   "outputs": [],
   "source": []
  },
  {
   "cell_type": "markdown",
   "metadata": {},
   "source": [
    "\n",
    "## Linear Regression\n"
   ]
  },
  {
   "cell_type": "code",
   "execution_count": null,
   "metadata": {},
   "outputs": [],
   "source": [
    "from sklearn.linear_model import LinearRegression\n",
    "\n",
    "\n",
    "lr =  LinearRegression()\n",
    "y = raw.select('price')\n",
    "X_train, X_test, y_train, y_test = train_test_split(raw, y, test_size=0.2, random_state=42)\n",
    "lr_pipe = Pipeline(steps=[('tweak', tweak_transformer),\n",
    "                      ('zip_avg_price', ZipAvgPriceAdder()),\n",
    "                      ('preprocessor', preprocessor),\n",
    "                        ('lr', lr),\n",
    "                      ])\n",
    "\n",
    "lr_pipe.fit(X_train, y_train)\n",
    "lr_pipe.score(X_test, y_test)"
   ]
  },
  {
   "cell_type": "code",
   "execution_count": null,
   "metadata": {},
   "outputs": [],
   "source": [
    "lr_pipe.predict(X_test)"
   ]
  },
  {
   "cell_type": "code",
   "execution_count": null,
   "metadata": {},
   "outputs": [],
   "source": []
  },
  {
   "cell_type": "code",
   "execution_count": null,
   "metadata": {},
   "outputs": [],
   "source": []
  },
  {
   "cell_type": "markdown",
   "metadata": {},
   "source": [
    "\n",
    "## Decision Trees\n"
   ]
  },
  {
   "cell_type": "code",
   "execution_count": null,
   "metadata": {},
   "outputs": [],
   "source": [
    "from sklearn.tree import DecisionTreeRegressor\n",
    "\n",
    "\n",
    "dt = DecisionTreeRegressor()\n",
    "y = raw.select('price')\n",
    "X_train, X_test, y_train, y_test = train_test_split(raw, y, test_size=0.2, random_state=42)\n",
    "dt_pipe = Pipeline(steps=[('tweak', tweak_transformer),\n",
    "                      ('zip_avg_price', ZipAvgPriceAdder()),\n",
    "                      ('preprocessor', preprocessor),\n",
    "                      ('dt', dt),\n",
    "                      ])\n",
    "\n",
    "dt_pipe.fit(X_train, y_train)\n",
    "dt_pipe.score(X_test, y_test)"
   ]
  },
  {
   "cell_type": "code",
   "execution_count": null,
   "metadata": {},
   "outputs": [],
   "source": [
    "dt_pipe.set_params(dt__max_depth=1)\n",
    "dt_pipe.fit(X_train, y_train)\n",
    "dt_pipe.score(X_test, y_test)"
   ]
  },
  {
   "cell_type": "code",
   "execution_count": null,
   "metadata": {},
   "outputs": [],
   "source": [
    "dt_pipe.set_params(dt__max_depth=9)\n",
    "dt_pipe.fit(X_train, y_train)\n",
    "dt_pipe.score(X_test, y_test)"
   ]
  },
  {
   "cell_type": "code",
   "execution_count": null,
   "metadata": {},
   "outputs": [],
   "source": []
  },
  {
   "cell_type": "code",
   "execution_count": null,
   "metadata": {},
   "outputs": [],
   "source": []
  },
  {
   "cell_type": "code",
   "execution_count": null,
   "metadata": {},
   "outputs": [],
   "source": []
  },
  {
   "cell_type": "markdown",
   "metadata": {},
   "source": [
    "\n",
    "## CatBoost\n"
   ]
  },
  {
   "cell_type": "code",
   "execution_count": null,
   "metadata": {},
   "outputs": [],
   "source": []
  },
  {
   "cell_type": "code",
   "execution_count": null,
   "metadata": {
    "scrolled": true
   },
   "outputs": [],
   "source": [
    "from catboost import CatBoostRegressor\n",
    "\n",
    "\n",
    "cat = CatBoostRegressor()\n",
    "# has issues with Polars input going to use a pandas_transformer\n",
    "def to_pandas(df):\n",
    "    return df.to_pandas()\n",
    "pandas_transformer = FunctionTransformer(to_pandas)\n",
    "\n",
    "y = raw.select('price')\n",
    "\n",
    "X_train, X_test, y_train, y_test = train_test_split(raw, y, test_size=0.2, random_state=42)\n",
    "cat_pipe = Pipeline(steps=[('tweak', tweak_transformer),\n",
    "                      ('zip_avg_price', ZipAvgPriceAdder()),\n",
    "                      ('preprocessor', preprocessor),\n",
    "                      ('to_pandas', pandas_transformer),\n",
    "                      ('cat', cat), \n",
    "                      ])\n",
    "\n",
    "cat_pipe.fit(X_train, y_train.to_numpy()[:,0])\n",
    "cat_pipe.score(X_test, y_test.to_numpy()[:,0])"
   ]
  },
  {
   "cell_type": "code",
   "execution_count": null,
   "metadata": {},
   "outputs": [],
   "source": []
  },
  {
   "cell_type": "code",
   "execution_count": null,
   "metadata": {},
   "outputs": [],
   "source": []
  },
  {
   "cell_type": "code",
   "execution_count": null,
   "metadata": {},
   "outputs": [],
   "source": []
  },
  {
   "cell_type": "markdown",
   "metadata": {},
   "source": [
    "\n",
    "## Challenge\n",
    "\n",
    "Create a pipeline for a Random Forest model and train it on the data. (see `ensemble.RandomForestRegressor` in scikit-learn). What is the score?"
   ]
  },
  {
   "cell_type": "code",
   "execution_count": null,
   "metadata": {},
   "outputs": [],
   "source": []
  },
  {
   "cell_type": "markdown",
   "metadata": {},
   "source": [
    "\n",
    "\n",
    "## Solution"
   ]
  },
  {
   "cell_type": "code",
   "execution_count": null,
   "metadata": {},
   "outputs": [],
   "source": []
  },
  {
   "cell_type": "code",
   "execution_count": null,
   "metadata": {},
   "outputs": [],
   "source": []
  },
  {
   "cell_type": "code",
   "execution_count": null,
   "metadata": {},
   "outputs": [],
   "source": []
  },
  {
   "cell_type": "code",
   "execution_count": null,
   "metadata": {},
   "outputs": [],
   "source": []
  },
  {
   "cell_type": "code",
   "execution_count": null,
   "metadata": {},
   "outputs": [],
   "source": []
  },
  {
   "cell_type": "markdown",
   "metadata": {
    "vscode": {
     "languageId": "plaintext"
    }
   },
   "source": [
    "# Evaluation\n"
   ]
  },
  {
   "cell_type": "markdown",
   "metadata": {},
   "source": [
    "\n",
    "## R2\n",
    "\n",
    "\n",
    "The Coefficient of Determination, R2, is a measure of how well the model fits the data. It is a value between 0 and 1. It tells us how much of the variance in the target variable is predictable from the features.\n",
    "\n",
    "A value of 0 means that the model explains none of the variability. A value of 1 means that the model explains all the variability.\n",
    "\n",
    "Note that it doesn't indicate whether a model is overfitting or underfitting the data."
   ]
  },
  {
   "cell_type": "code",
   "execution_count": null,
   "metadata": {
    "scrolled": true
   },
   "outputs": [],
   "source": [
    "cat_pipe.score(X_test, y_test.to_numpy()[:,0])"
   ]
  },
  {
   "cell_type": "code",
   "execution_count": null,
   "metadata": {},
   "outputs": [],
   "source": []
  },
  {
   "cell_type": "code",
   "execution_count": null,
   "metadata": {},
   "outputs": [],
   "source": []
  },
  {
   "cell_type": "code",
   "execution_count": null,
   "metadata": {},
   "outputs": [],
   "source": []
  },
  {
   "cell_type": "code",
   "execution_count": null,
   "metadata": {},
   "outputs": [],
   "source": []
  },
  {
   "cell_type": "markdown",
   "metadata": {},
   "source": [
    "\n",
    "## Mean Squared/Absolute Error\n"
   ]
  },
  {
   "cell_type": "code",
   "execution_count": null,
   "metadata": {},
   "outputs": [],
   "source": [
    "from sklearn.metrics import mean_squared_error\n",
    "\n",
    "mean_squared_error(y_test, cat_pipe.predict(X_test))"
   ]
  },
  {
   "cell_type": "code",
   "execution_count": null,
   "metadata": {},
   "outputs": [],
   "source": [
    "# rmse\n",
    "mean_squared_error(y_test, cat_pipe.predict(X_test), squared=False)"
   ]
  },
  {
   "cell_type": "code",
   "execution_count": null,
   "metadata": {
    "scrolled": true
   },
   "outputs": [],
   "source": [
    "# absolute error\n",
    "from sklearn.metrics import mean_absolute_error\n",
    "\n",
    "mean_absolute_error(y_test, cat_pipe.predict(X_test))"
   ]
  },
  {
   "cell_type": "code",
   "execution_count": null,
   "metadata": {},
   "outputs": [],
   "source": [
    "# compare to lr model\n",
    "from sklearn.metrics import mean_absolute_error\n",
    "\n",
    "mean_absolute_error(y_test, lr_pipe.predict(X_test))"
   ]
  },
  {
   "cell_type": "code",
   "execution_count": null,
   "metadata": {},
   "outputs": [],
   "source": []
  },
  {
   "cell_type": "code",
   "execution_count": null,
   "metadata": {},
   "outputs": [],
   "source": []
  },
  {
   "cell_type": "code",
   "execution_count": null,
   "metadata": {},
   "outputs": [],
   "source": []
  },
  {
   "cell_type": "code",
   "execution_count": null,
   "metadata": {},
   "outputs": [],
   "source": []
  },
  {
   "cell_type": "code",
   "execution_count": null,
   "metadata": {},
   "outputs": [],
   "source": []
  },
  {
   "cell_type": "code",
   "execution_count": null,
   "metadata": {},
   "outputs": [],
   "source": []
  },
  {
   "cell_type": "markdown",
   "metadata": {},
   "source": [
    "\n",
    "## Residuals Plot\n"
   ]
  },
  {
   "cell_type": "code",
   "execution_count": null,
   "metadata": {},
   "outputs": [],
   "source": [
    "# make a residual plot\n",
    "import matplotlib.pyplot as plt\n",
    "\n",
    "ax = plt.scatter(cat_pipe.predict(X_test), \n",
    "    y_test.to_series().to_numpy() - cat_pipe.predict(X_test), alpha=0.1)\n",
    "# make labels not be scientific notation\n",
    "plt.ticklabel_format(style='plain', axis='y')\n",
    "plt.ticklabel_format(style='plain', axis='x')\n",
    "plt.ylim(-500_000, 500_000)\n",
    "plt.xlabel('Predicted price')\n",
    "plt.ylabel('Residual')\n",
    "plt.title('Residual plot')"
   ]
  },
  {
   "cell_type": "code",
   "execution_count": null,
   "metadata": {},
   "outputs": [],
   "source": [
    "# plot with Polars\n",
    "(y_test\n",
    " .with_columns(predicted_price=cat_pipe.predict(X_test),\n",
    "   residual=y_test.to_series().to_numpy() - cat_pipe.predict(X_test))\n",
    " .plot.scatter('predicted_price', 'residual', alpha=0.1, yformatter='$%.0f',\n",
    "               xformatter='$%.0f')\n",
    " )"
   ]
  },
  {
   "cell_type": "code",
   "execution_count": null,
   "metadata": {},
   "outputs": [],
   "source": [
    "def residuals_plot(model, X_train, y_train, X_test, y_test):\n",
    "    return (y_test\n",
    "      .with_columns(prediction=model.predict(X_test),\n",
    "        residual=y_test.to_series().to_numpy() - model.predict(X_test),\n",
    "        type=pl.lit('test'))\n",
    "      .vstack(y_train\n",
    "        .with_columns(prediction=model.predict(X_train),\n",
    "          residual=y_train.to_series().to_numpy() - model.predict(X_train),\n",
    "          type=pl.lit('train'))\n",
    "              )\n",
    "      .reverse()\n",
    "      .plot.scatter('prediction', 'residual', alpha=0.1, yformatter='$%.0f',\n",
    "                    xformatter='$%.0f', by='type')\n",
    " )\n",
    "\n",
    "residuals_plot(cat_pipe, X_train, y_train, X_test, y_test)"
   ]
  },
  {
   "cell_type": "code",
   "execution_count": null,
   "metadata": {},
   "outputs": [],
   "source": [
    "residuals_plot(dt_pipe, X_train, y_train, X_test, y_test)"
   ]
  },
  {
   "cell_type": "code",
   "execution_count": null,
   "metadata": {},
   "outputs": [],
   "source": []
  },
  {
   "cell_type": "code",
   "execution_count": null,
   "metadata": {},
   "outputs": [],
   "source": []
  },
  {
   "cell_type": "code",
   "execution_count": null,
   "metadata": {},
   "outputs": [],
   "source": []
  },
  {
   "cell_type": "markdown",
   "metadata": {},
   "source": [
    "## Challenge\n",
    "\n",
    "What is the mean squared error of the Random Forest model? What is the R2 score? What do these values tell us about the model?"
   ]
  },
  {
   "cell_type": "code",
   "execution_count": null,
   "metadata": {},
   "outputs": [],
   "source": []
  },
  {
   "cell_type": "markdown",
   "metadata": {},
   "source": [
    "\n",
    "\n",
    "## Solution"
   ]
  },
  {
   "cell_type": "code",
   "execution_count": null,
   "metadata": {},
   "outputs": [],
   "source": []
  },
  {
   "cell_type": "code",
   "execution_count": null,
   "metadata": {},
   "outputs": [],
   "source": []
  },
  {
   "cell_type": "code",
   "execution_count": null,
   "metadata": {},
   "outputs": [],
   "source": []
  },
  {
   "cell_type": "code",
   "execution_count": null,
   "metadata": {},
   "outputs": [],
   "source": []
  },
  {
   "cell_type": "markdown",
   "metadata": {},
   "source": [
    "# Model Tuning\n"
   ]
  },
  {
   "cell_type": "markdown",
   "metadata": {},
   "source": [
    "\n",
    "## Hyperparameters\n",
    "\n",
    "Hyperparameters are the levers we can pull to adjust the behavior of a model. They are set before the model is trained and remain constant during training."
   ]
  },
  {
   "cell_type": "markdown",
   "metadata": {},
   "source": [
    "\n",
    "## Tuning Linear Regression\n"
   ]
  },
  {
   "cell_type": "code",
   "execution_count": null,
   "metadata": {},
   "outputs": [],
   "source": [
    "lr_pipe"
   ]
  },
  {
   "cell_type": "code",
   "execution_count": null,
   "metadata": {},
   "outputs": [],
   "source": [
    "lr_pipe.named_steps['lr']"
   ]
  },
  {
   "cell_type": "code",
   "execution_count": null,
   "metadata": {
    "scrolled": true
   },
   "outputs": [],
   "source": [
    "help(lr_pipe.named_steps['lr'])"
   ]
  },
  {
   "cell_type": "code",
   "execution_count": null,
   "metadata": {
    "scrolled": true
   },
   "outputs": [],
   "source": [
    "from sklearn.linear_model import Ridge\n",
    "Ridge?"
   ]
  },
  {
   "cell_type": "code",
   "execution_count": null,
   "metadata": {},
   "outputs": [],
   "source": [
    "rr =  Ridge()\n",
    "y = raw.select('price')\n",
    "X_train, X_test, y_train, y_test = train_test_split(raw, y, test_size=0.2, random_state=42)\n",
    "rr_pipe = Pipeline(steps=[('tweak', tweak_transformer),\n",
    "                      ('zip_avg_price', ZipAvgPriceAdder()),\n",
    "                      ('preprocessor', preprocessor),\n",
    "                        ('rr', rr),\n",
    "                      ])\n",
    "\n",
    "rr_pipe.fit(X_train, y_train)\n",
    "rr_pipe.score(X_test, y_test)"
   ]
  },
  {
   "cell_type": "code",
   "execution_count": null,
   "metadata": {},
   "outputs": [],
   "source": []
  },
  {
   "cell_type": "code",
   "execution_count": null,
   "metadata": {
    "scrolled": true
   },
   "outputs": [],
   "source": [
    "lr_pipe.score(X_test, y_test)"
   ]
  },
  {
   "cell_type": "code",
   "execution_count": null,
   "metadata": {
    "collapsed": true,
    "jupyter": {
     "outputs_hidden": true
    }
   },
   "outputs": [],
   "source": [
    "from sklearn.model_selection import validation_curve\n",
    "\n",
    "param_range = [0, .01, .05, .1, .5, 1, 2]\n",
    "scores = []\n",
    "for val in param_range:\n",
    "    rr_pipe.set_params(rr__alpha=val)\n",
    "    rr_pipe.fit(X_train, y_train)\n",
    "    scores.append(rr_pipe.score(X_test, y_test))"
   ]
  },
  {
   "cell_type": "code",
   "execution_count": null,
   "metadata": {},
   "outputs": [],
   "source": [
    "# Our be score is at 0 (which is normal Linear Regression)\n",
    "alpha = pl.DataFrame({'val': param_range,\n",
    "              'scores': scores})\n",
    "alpha.plot(x='val', y='scores')"
   ]
  },
  {
   "cell_type": "code",
   "execution_count": null,
   "metadata": {},
   "outputs": [],
   "source": []
  },
  {
   "cell_type": "code",
   "execution_count": null,
   "metadata": {},
   "outputs": [],
   "source": []
  },
  {
   "cell_type": "code",
   "execution_count": null,
   "metadata": {},
   "outputs": [],
   "source": []
  },
  {
   "cell_type": "code",
   "execution_count": null,
   "metadata": {},
   "outputs": [],
   "source": []
  },
  {
   "cell_type": "markdown",
   "metadata": {},
   "source": [
    "\n",
    "## Tuning Decision Trees\n"
   ]
  },
  {
   "cell_type": "code",
   "execution_count": null,
   "metadata": {
    "scrolled": true
   },
   "outputs": [],
   "source": [
    "dt_pipe.named_steps['dt']"
   ]
  },
  {
   "cell_type": "code",
   "execution_count": null,
   "metadata": {
    "scrolled": true
   },
   "outputs": [],
   "source": [
    "help(dt_pipe.named_steps['dt'])"
   ]
  },
  {
   "cell_type": "code",
   "execution_count": null,
   "metadata": {
    "scrolled": true
   },
   "outputs": [],
   "source": [
    "# plot a validation curve tracking mse as the max_depth of the decision tree increases\n",
    "from sklearn.model_selection import validation_curve\n",
    "\n",
    "param_range = range(1, 20)\n",
    "train_scores, test_scores = validation_curve(\n",
    "    dt_pipe, X_train, y_train, param_name=\"dt__max_depth\", param_range=param_range,\n",
    "    scoring=\"neg_mean_squared_error\", n_jobs=1)"
   ]
  },
  {
   "cell_type": "code",
   "execution_count": null,
   "metadata": {},
   "outputs": [],
   "source": [
    "# make a validation curve from train_scores and test_scores\n",
    "import matplotlib.pyplot as plt\n",
    "import numpy as np\n",
    "\n",
    "train_scores_mean = np.mean(train_scores, axis=1)\n",
    "train_scores_std = np.std(train_scores, axis=1)\n",
    "test_scores_mean = np.mean(test_scores, axis=1)\n",
    "test_scores_std = np.std(test_scores, axis=1)\n",
    "\n",
    "plt.title(\"Validation Curve with Decision Tree\")\n",
    "plt.xlabel(\"max_depth\")\n",
    "plt.ylabel(\"Score\")\n",
    "#plt.ylim(-1, 0)\n",
    "lw = 2\n",
    "plt.plot(param_range, train_scores_mean, label=\"Training score\",\n",
    "             color=\"darkorange\", lw=lw)\n",
    "plt.fill_between(param_range, train_scores_mean - train_scores_std,\n",
    "                 train_scores_mean + train_scores_std, alpha=0.2,\n",
    "                 color=\"darkorange\", lw=lw)\n",
    "plt.plot(param_range, test_scores_mean, label=\"Cross-validation score\",\n",
    "                color=\"navy\", lw=lw)\n",
    "\n",
    "plt.fill_between(param_range, test_scores_mean - test_scores_std,   \n",
    "                    test_scores_mean + test_scores_std, alpha=0.2,\n",
    "                    color=\"navy\", lw=lw)\n",
    "plt.legend(loc=\"best\")\n",
    "\n",
    "\n"
   ]
  },
  {
   "cell_type": "code",
   "execution_count": null,
   "metadata": {},
   "outputs": [],
   "source": [
    "# train dt_pipe with max_depth=8\n",
    "dt8_pipe = Pipeline(steps=[('tweak', tweak_transformer),\n",
    "                        ('zip_avg_price', ZipAvgPriceAdder()),\n",
    "                        ('to_pandas', pandas_transformer),\n",
    "                        ('preprocessor', preprocessor),\n",
    "                        ('dt', DecisionTreeRegressor(max_depth=8)),\n",
    "                        ])\n",
    "\n",
    "dt8_pipe.fit(X_train, y_train)\n",
    "dt8_pipe.score(X_test, y_test)"
   ]
  },
  {
   "cell_type": "code",
   "execution_count": null,
   "metadata": {},
   "outputs": [],
   "source": [
    "from sklearn.metrics import mean_squared_error\n",
    "mean_squared_error(y_test, dt8_pipe.predict(X_test), squared=False) "
   ]
  },
  {
   "cell_type": "code",
   "execution_count": null,
   "metadata": {},
   "outputs": [],
   "source": [
    "dt_pipe.score(X_test, y_test)"
   ]
  },
  {
   "cell_type": "code",
   "execution_count": null,
   "metadata": {},
   "outputs": [],
   "source": [
    "mean_squared_error(y_test, dt_pipe.predict(X_test), squared=False) "
   ]
  },
  {
   "cell_type": "code",
   "execution_count": null,
   "metadata": {},
   "outputs": [],
   "source": []
  },
  {
   "cell_type": "code",
   "execution_count": null,
   "metadata": {},
   "outputs": [],
   "source": []
  },
  {
   "cell_type": "code",
   "execution_count": null,
   "metadata": {},
   "outputs": [],
   "source": []
  },
  {
   "cell_type": "code",
   "execution_count": null,
   "metadata": {},
   "outputs": [],
   "source": []
  },
  {
   "cell_type": "code",
   "execution_count": null,
   "metadata": {},
   "outputs": [],
   "source": []
  },
  {
   "cell_type": "markdown",
   "metadata": {},
   "source": [
    "\n",
    "## Tuning CatBoost\n",
    "\n",
    "* Boosting - `iterations` (`num_trees`, `n_estimators`), `learning_rate` (`eta`), `early_stopping_rounds`\n",
    "\n",
    "* Tree based - `depth` (`max_depth`), `grow_policy`, `min_child_samples` (`min_data_in_leaf`), `max_leaves` (`num_leaves`)\n",
    "\n",
    "* Sampling - `subsample`, `sampling_frequency`, `rsm` (`colsample_bylevel`), `random_strength`, `bagging_temperature`\n",
    "\n",
    "* Regularization - `l2_leaf_reg` (`reg_lambda`), `model_shrink_rate`\n",
    "\n",
    "* Constraints - `monotone_constraints`, `feature_weights`"
   ]
  },
  {
   "cell_type": "code",
   "execution_count": null,
   "metadata": {
    "scrolled": true
   },
   "outputs": [],
   "source": [
    "catboost.CatBoostRegressor?"
   ]
  },
  {
   "cell_type": "code",
   "execution_count": null,
   "metadata": {},
   "outputs": [],
   "source": [
    "cr2 = catboost.CatBoostRegressor(iterations=3000, learning_rate=0.1,\n",
    "                                 early_stopping_rounds=10)\n",
    "X_train, X_test, y_train, y_test = train_test_split(raw.drop('price'), y, \n",
    "                                                    test_size=0.2, random_state=42)\n",
    "\n",
    "cr2.fit(X_train.to_pandas(), y_train.to_numpy(), cat_features=['zipcode'], verbose=100,\n",
    "        early_stopping_rounds=10, eval_set=(X_test.to_pandas(), y_test.to_numpy()))"
   ]
  },
  {
   "cell_type": "code",
   "execution_count": null,
   "metadata": {
    "scrolled": true
   },
   "outputs": [],
   "source": [
    "# plot a validation curve tracking mse as the max_depth of the decision tree increases\n",
    "from sklearn.model_selection import validation_curve\n",
    "\n",
    "param_range = range(1, 10)\n",
    "train_scores, test_scores = validation_curve(\n",
    "    cr2, X_train.to_pandas(), y_train.to_numpy(), param_name=\"max_depth\", \n",
    "    param_range=param_range,\n",
    "    scoring=\"neg_mean_squared_error\", n_jobs=1,\n",
    "    fit_params=dict(early_stopping_rounds=10, \n",
    "                    eval_set=(X_test.to_pandas(), y_test.to_numpy())))"
   ]
  },
  {
   "cell_type": "code",
   "execution_count": null,
   "metadata": {},
   "outputs": [],
   "source": [
    "# make a validation curve from train_scores and test_scores\n",
    "import matplotlib.pyplot as plt\n",
    "import numpy as np\n",
    "\n",
    "train_scores_mean = np.mean(train_scores, axis=1)\n",
    "train_scores_std = np.std(train_scores, axis=1)\n",
    "test_scores_mean = np.mean(test_scores, axis=1)\n",
    "test_scores_std = np.std(test_scores, axis=1)\n",
    "\n",
    "plt.title(\"Validation Curve with CatBoost\")\n",
    "plt.xlabel(\"max_depth\")\n",
    "plt.ylabel(\"Score\")\n",
    "#plt.ylim(-1, 0)\n",
    "lw = 2\n",
    "plt.plot(param_range, train_scores_mean, label=\"Training score\",\n",
    "             color=\"darkorange\", lw=lw)\n",
    "plt.fill_between(param_range, train_scores_mean - train_scores_std,\n",
    "                 train_scores_mean + train_scores_std, alpha=0.2,\n",
    "                 color=\"darkorange\", lw=lw)\n",
    "plt.plot(param_range, test_scores_mean, label=\"Cross-validation score\",\n",
    "                color=\"navy\", lw=lw)\n",
    "\n",
    "plt.fill_between(param_range, test_scores_mean - test_scores_std,   \n",
    "                    test_scores_mean + test_scores_std, alpha=0.2,\n",
    "                    color=\"navy\", lw=lw)\n",
    "plt.legend(loc=\"best\")\n",
    "\n",
    "\n"
   ]
  },
  {
   "cell_type": "code",
   "execution_count": null,
   "metadata": {},
   "outputs": [],
   "source": [
    "# set max_depth to 4\n",
    "cr2_4 = catboost.CatBoostRegressor(iterations=3000, learning_rate=0.1,\n",
    "                                max_depth=4)\n",
    "\n",
    "X_train, X_test, y_train, y_test = train_test_split(raw.drop('price'), y, \n",
    "                                                    test_size=0.2, random_state=42)\n",
    "\n",
    "cr2_4.fit(X_train.to_pandas(), y_train.to_numpy(), cat_features=['zipcode'], verbose=100,\n",
    "        early_stopping_rounds=10, eval_set=(X_test.to_pandas(), y_test.to_numpy()))\n",
    "cr2_4.score(X_test.to_pandas(), y_test.to_numpy())"
   ]
  },
  {
   "cell_type": "code",
   "execution_count": null,
   "metadata": {
    "jupyter": {
     "source_hidden": true
    }
   },
   "outputs": [],
   "source": []
  },
  {
   "cell_type": "code",
   "execution_count": null,
   "metadata": {},
   "outputs": [],
   "source": []
  },
  {
   "cell_type": "code",
   "execution_count": null,
   "metadata": {},
   "outputs": [],
   "source": []
  },
  {
   "cell_type": "code",
   "execution_count": null,
   "metadata": {},
   "outputs": [],
   "source": []
  },
  {
   "cell_type": "code",
   "execution_count": null,
   "metadata": {},
   "outputs": [],
   "source": []
  },
  {
   "cell_type": "code",
   "execution_count": null,
   "metadata": {},
   "outputs": [],
   "source": []
  },
  {
   "cell_type": "code",
   "execution_count": null,
   "metadata": {},
   "outputs": [],
   "source": []
  },
  {
   "cell_type": "markdown",
   "metadata": {},
   "source": [
    "\n",
    "## Grid Search\n"
   ]
  },
  {
   "cell_type": "code",
   "execution_count": null,
   "metadata": {
    "scrolled": true
   },
   "outputs": [],
   "source": [
    "from sklearn.tree import DecisionTreeRegressor\n",
    "\n",
    "\n",
    "dt = DecisionTreeRegressor()\n",
    "y = raw.select('price')\n",
    "X_train, X_test, y_train, y_test = train_test_split(raw, y, test_size=0.2, random_state=42)\n",
    "dt_pipe = Pipeline(steps=[('tweak', tweak_transformer),\n",
    "                      ('zip_avg_price', ZipAvgPriceAdder()),\n",
    "                      ('preprocessor', preprocessor),\n",
    "                      ('dt', dt),\n",
    "                      ])\n",
    "\n",
    "dt_pipe.fit(X_train, y_train)\n",
    "dt_pipe.score(X_test, y_test)"
   ]
  },
  {
   "cell_type": "code",
   "execution_count": null,
   "metadata": {
    "collapsed": true,
    "jupyter": {
     "outputs_hidden": true
    },
    "scrolled": true
   },
   "outputs": [],
   "source": [
    "dt_pipe"
   ]
  },
  {
   "cell_type": "code",
   "execution_count": null,
   "metadata": {
    "scrolled": true
   },
   "outputs": [],
   "source": [
    "# use grid search on decision tree\n",
    "from sklearn.model_selection import GridSearchCV\n",
    "\n",
    "param_grid = {\n",
    "    'dt__max_depth': [3, 6, 9],\n",
    "    'dt__min_samples_split': [10, 20, 100],\n",
    "    'dt__min_samples_leaf': [10, 20, 100],\n",
    "}\n",
    "\n",
    "grid_search = GridSearchCV(dt_pipe, param_grid, cv=5)#, scoring='neg_mean_squared_error')\n",
    "grid_search.fit(X_train, y_train)"
   ]
  },
  {
   "cell_type": "code",
   "execution_count": null,
   "metadata": {},
   "outputs": [],
   "source": [
    "grid_search.best_params_"
   ]
  },
  {
   "cell_type": "code",
   "execution_count": null,
   "metadata": {
    "scrolled": true
   },
   "outputs": [],
   "source": [
    "# make a tree from the params\n",
    "dt = DecisionTreeRegressor()#max_depth=9, min_samples_leaf=20, min_samples_split=10)\n",
    "dt_pipe = Pipeline(steps=[('tweak', tweak_transformer),\n",
    "                      ('zip_avg_price', ZipAvgPriceAdder()),\n",
    "                      ('to_pandas', pandas_transformer),\n",
    "                      ('preprocessor', preprocessor),\n",
    "                        ('dt', dt),\n",
    "                      ])\n",
    "dt_pipe.set_params(**grid_search.best_params_)\n",
    "dt_pipe.fit(X_train, y_train)\n",
    "dt_pipe.score(X_test, y_test)"
   ]
  },
  {
   "cell_type": "code",
   "execution_count": null,
   "metadata": {
    "scrolled": true
   },
   "outputs": [],
   "source": [
    "# compare to default\n",
    "dt = DecisionTreeRegressor(random_state=42)\n",
    "dt_pipe = Pipeline(steps=[('tweak', tweak_transformer),\n",
    "                      ('zip_avg_price', ZipAvgPriceAdder()),\n",
    "                      ('to_pandas', pandas_transformer),\n",
    "                      ('preprocessor', preprocessor),\n",
    "                        ('dt', dt),\n",
    "                      ])\n",
    "\n",
    "dt_pipe.fit(X_train, y_train)\n",
    "dt_pipe.score(X_test, y_test)"
   ]
  },
  {
   "cell_type": "code",
   "execution_count": null,
   "metadata": {},
   "outputs": [],
   "source": []
  },
  {
   "cell_type": "code",
   "execution_count": null,
   "metadata": {},
   "outputs": [],
   "source": []
  },
  {
   "cell_type": "code",
   "execution_count": null,
   "metadata": {},
   "outputs": [],
   "source": []
  },
  {
   "cell_type": "code",
   "execution_count": null,
   "metadata": {},
   "outputs": [],
   "source": []
  },
  {
   "cell_type": "markdown",
   "metadata": {},
   "source": [
    "\n",
    "## Challenge\n",
    "\n",
    "Do a grid search to find the best depth for the random forest model. What is the best depth? What is the score of the model with the best depth?"
   ]
  },
  {
   "cell_type": "markdown",
   "metadata": {},
   "source": [
    "\n",
    "## Solution"
   ]
  },
  {
   "cell_type": "code",
   "execution_count": null,
   "metadata": {},
   "outputs": [],
   "source": []
  },
  {
   "cell_type": "code",
   "execution_count": null,
   "metadata": {},
   "outputs": [],
   "source": []
  },
  {
   "cell_type": "code",
   "execution_count": null,
   "metadata": {},
   "outputs": [],
   "source": []
  },
  {
   "cell_type": "code",
   "execution_count": null,
   "metadata": {},
   "outputs": [],
   "source": []
  },
  {
   "cell_type": "markdown",
   "metadata": {},
   "source": [
    "# Model Deployment\n"
   ]
  },
  {
   "cell_type": "markdown",
   "metadata": {},
   "source": [
    "\n",
    "## End to end notebook\n"
   ]
  },
  {
   "cell_type": "code",
   "execution_count": null,
   "metadata": {},
   "outputs": [],
   "source": [
    "import polars as pl\n",
    "from sklearn.pipeline import Pipeline\n",
    "from sklearn.compose import ColumnTransformer\n",
    "from sklearn.linear_model import LinearRegression\n",
    "from sklearn.preprocessing import StandardScaler, OneHotEncoder\n",
    "from sklearn.impute import SimpleImputer\n",
    "from sklearn.model_selection import train_test_split\n",
    "from sklearn.preprocessing import FunctionTransformer\n",
    "from sklearn.base import BaseEstimator, TransformerMixin\n",
    "from sklearn import set_config\n",
    "set_config(transform_output='polars')\n",
    "\n",
    "def tweak_housing(df):\n",
    "    return (df\n",
    "            .with_columns(zipcode=pl.col('zipcode').cast(pl.String).cast(pl.Categorical),\n",
    "                          date=pl.date(pl.col('date_year'), pl.col('date_month'), pl.col('date_day')),\n",
    "                          yr_renovated=pl.col('yr_renovated').replace(0, None),\n",
    "                          )\n",
    "            .select(['id', 'price', 'bedrooms', 'bathrooms', 'sqft_living', 'sqft_lot', 'floors', \n",
    "                     'waterfront', 'view', 'condition', 'grade', 'sqft_above', 'sqft_basement', \n",
    "                     'yr_built', 'yr_renovated', 'zipcode', 'lat', 'long', 'sqft_living15', \n",
    "                     'sqft_lot15', 'date',  #'date_year', 'date_month', 'date_day', \n",
    "                     ])\n",
    "    )\n",
    "\n",
    "# make the pipeline\n",
    "numeric_features = ['bedrooms', 'bathrooms', 'sqft_living', 'sqft_lot', 'floors', 'waterfront', 'view', \n",
    "                    'condition', 'grade', 'sqft_above', 'sqft_basement', 'yr_built', 'yr_renovated', \n",
    "                    'lat', 'long', 'sqft_living15', 'sqft_lot15', 'zip_mean']\n",
    "numeric_transformer = Pipeline(steps=[\n",
    "    ('imputer', SimpleImputer(strategy='median')),\n",
    "    ('scaler', StandardScaler())])\n",
    "\n",
    "categorical_features = ['zipcode']\n",
    "\n",
    "preprocessor = ColumnTransformer(\n",
    "    transformers=[\n",
    "        ('num', numeric_transformer, numeric_features),\n",
    "        ('cat', OneHotEncoder(handle_unknown='ignore',\n",
    "                              sparse_output=False), categorical_features)])\n",
    "\n",
    "def to_pandas(df):\n",
    "    return df.to_pandas()\n",
    "pandas_transformer = FunctionTransformer(to_pandas)\n",
    "\n",
    "tweak_transformer = FunctionTransformer(tweak_housing)\n",
    "\n",
    "class ZipAvgPriceAdder(BaseEstimator, TransformerMixin):\n",
    "    def __init__(self):\n",
    "        pass\n",
    "    def fit(self, X, y=None):\n",
    "        # assume X is a polars dataframe\n",
    "        self.zip_avg_price = (X\n",
    "                              .group_by('zipcode')\n",
    "                              .agg(zip_mean=pl.col('price').mean())\n",
    "        )\n",
    "        return self\n",
    "    \n",
    "    def transform(self, X, y=None):\n",
    "        with pl.StringCache():\n",
    "            return X.join(self.zip_avg_price, on='zipcode')\n",
    "\n",
    "\n",
    "# King County House Sales dataset from OpenML (includes Seattle)\n",
    "# this is an ARFF file, which is a text file with a specific format\n",
    "url = 'https://www.openml.org/data/download/22044765/dataset'\n",
    "cols = ['id', 'price', 'bedrooms', 'bathrooms', 'sqft_living', 'sqft_lot', 'floors', 'waterfront', 'view', \n",
    "        'condition', 'grade', 'sqft_above', 'sqft_basement', 'yr_built', 'yr_renovated',\n",
    "        'zipcode', 'lat', 'long', 'sqft_living15', 'sqft_lot15', 'date_year', 'date_month', 'date_day']\n",
    "\n",
    "raw = pl.read_csv(url, new_columns=cols, skip_rows=31, has_header=False)\n",
    "\n",
    "lr =  LinearRegression()\n",
    "y = raw.select('price')\n",
    "X_train, X_test, y_train, y_test = train_test_split(raw, y, test_size=0.2, random_state=42)\n",
    "lr_pipe = Pipeline(steps=[('tweak', tweak_transformer),\n",
    "                      ('zip_avg_price', ZipAvgPriceAdder()),\n",
    "                      ('preprocessor', preprocessor),\n",
    "                      ('lr', lr),\n",
    "                      ])\n",
    "\n",
    "lr_pipe.fit(X_train, y_train)\n",
    "lr_pipe.score(X_test, y_test)\n",
    "    "
   ]
  },
  {
   "cell_type": "markdown",
   "metadata": {},
   "source": []
  },
  {
   "cell_type": "code",
   "execution_count": null,
   "metadata": {},
   "outputs": [],
   "source": []
  },
  {
   "cell_type": "code",
   "execution_count": null,
   "metadata": {},
   "outputs": [],
   "source": []
  },
  {
   "cell_type": "code",
   "execution_count": null,
   "metadata": {},
   "outputs": [],
   "source": []
  },
  {
   "cell_type": "code",
   "execution_count": null,
   "metadata": {},
   "outputs": [],
   "source": []
  },
  {
   "cell_type": "code",
   "execution_count": null,
   "metadata": {},
   "outputs": [],
   "source": []
  },
  {
   "cell_type": "markdown",
   "metadata": {},
   "source": [
    "## Using MLFlow\n",
    "\n",
    "Going to show how to persist and load a model, but can also:\n",
    "\n",
    "- Start a endpoint to serve predictions\n",
    "- Build a Docker image\n"
   ]
  },
  {
   "cell_type": "code",
   "execution_count": null,
   "metadata": {},
   "outputs": [],
   "source": [
    "import mlflow"
   ]
  },
  {
   "cell_type": "code",
   "execution_count": null,
   "metadata": {},
   "outputs": [],
   "source": [
    "mlflow.__version__"
   ]
  },
  {
   "cell_type": "code",
   "execution_count": null,
   "metadata": {},
   "outputs": [],
   "source": [
    "model_info = mlflow.sklearn.log_model(lr_pipe, artifact_path='lr_pipe')"
   ]
  },
  {
   "cell_type": "code",
   "execution_count": null,
   "metadata": {},
   "outputs": [],
   "source": [
    "model_info.artifact_path    "
   ]
  },
  {
   "cell_type": "code",
   "execution_count": null,
   "metadata": {},
   "outputs": [],
   "source": [
    "!tree"
   ]
  },
  {
   "cell_type": "code",
   "execution_count": null,
   "metadata": {},
   "outputs": [],
   "source": [
    "model_info.run_id"
   ]
  },
  {
   "cell_type": "code",
   "execution_count": null,
   "metadata": {},
   "outputs": [],
   "source": [
    "model = mlflow.pyfunc.load_model(f'mlruns/0/{model_info.run_id}/artifacts/lr_pipe')"
   ]
  },
  {
   "cell_type": "code",
   "execution_count": null,
   "metadata": {},
   "outputs": [],
   "source": [
    "model"
   ]
  },
  {
   "cell_type": "code",
   "execution_count": null,
   "metadata": {},
   "outputs": [],
   "source": [
    "model.predict(X_test)"
   ]
  },
  {
   "cell_type": "code",
   "execution_count": null,
   "metadata": {},
   "outputs": [],
   "source": []
  },
  {
   "cell_type": "markdown",
   "metadata": {},
   "source": [
    "## Challenge\n",
    "\n",
    "Reformat your notebook so that you can load the data and create an optimized random forest model in a single cell. Then, use MLFlow to log the model and its parameters."
   ]
  },
  {
   "cell_type": "code",
   "execution_count": null,
   "metadata": {},
   "outputs": [],
   "source": []
  },
  {
   "cell_type": "markdown",
   "metadata": {},
   "source": [
    "\n",
    "## Solution"
   ]
  },
  {
   "cell_type": "markdown",
   "metadata": {},
   "source": []
  },
  {
   "cell_type": "code",
   "execution_count": null,
   "metadata": {},
   "outputs": [],
   "source": []
  },
  {
   "cell_type": "code",
   "execution_count": null,
   "metadata": {},
   "outputs": [],
   "source": []
  }
 ],
 "metadata": {
  "kernelspec": {
   "display_name": "Python 3 (ipykernel)",
   "language": "python",
   "name": "python3"
  },
  "language_info": {
   "codemirror_mode": {
    "name": "ipython",
    "version": 3
   },
   "file_extension": ".py",
   "mimetype": "text/x-python",
   "name": "python",
   "nbconvert_exporter": "python",
   "pygments_lexer": "ipython3",
   "version": "3.12.2"
  }
 },
 "nbformat": 4,
 "nbformat_minor": 4
}
